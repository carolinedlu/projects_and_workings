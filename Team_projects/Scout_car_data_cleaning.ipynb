{
 "cells": [
  {
   "cell_type": "code",
   "execution_count": 1,
   "metadata": {},
   "outputs": [],
   "source": [
    "import numpy as np \n",
    "import pandas as pd\n",
    "import seaborn as sb\n",
    "import matplotlib.pyplot as plt\n",
    "from collections import Counter\n",
    "import warnings\n",
    "warnings.filterwarnings('ignore') \n",
    "import json\n"
   ]
  },
  {
   "cell_type": "code",
   "execution_count": 2,
   "metadata": {},
   "outputs": [],
   "source": [
    "import json\n",
    "data = [json.loads(line) for line in open('scout_car.json', 'r')]"
   ]
  },
  {
   "cell_type": "code",
   "execution_count": 3,
   "metadata": {},
   "outputs": [],
   "source": [
    "cars = pd.DataFrame(data)"
   ]
  },
  {
   "cell_type": "code",
   "execution_count": 4,
   "metadata": {},
   "outputs": [],
   "source": [
    "df = cars.copy()"
   ]
  },
  {
   "cell_type": "code",
   "execution_count": 5,
   "metadata": {},
   "outputs": [
    {
     "data": {
      "text/html": [
       "<div>\n",
       "<style scoped>\n",
       "    .dataframe tbody tr th:only-of-type {\n",
       "        vertical-align: middle;\n",
       "    }\n",
       "\n",
       "    .dataframe tbody tr th {\n",
       "        vertical-align: top;\n",
       "    }\n",
       "\n",
       "    .dataframe thead th {\n",
       "        text-align: right;\n",
       "    }\n",
       "</style>\n",
       "<table border=\"1\" class=\"dataframe\">\n",
       "  <thead>\n",
       "    <tr style=\"text-align: right;\">\n",
       "      <th></th>\n",
       "      <th>url</th>\n",
       "      <th>make_model</th>\n",
       "      <th>short_description</th>\n",
       "      <th>body_type</th>\n",
       "      <th>price</th>\n",
       "      <th>vat</th>\n",
       "      <th>km</th>\n",
       "      <th>registration</th>\n",
       "      <th>prev_owner</th>\n",
       "      <th>kW</th>\n",
       "      <th>...</th>\n",
       "      <th>description</th>\n",
       "      <th>Emission Label</th>\n",
       "      <th>Gears</th>\n",
       "      <th>Country version</th>\n",
       "      <th>Electricity consumption</th>\n",
       "      <th>Last Service Date</th>\n",
       "      <th>Other Fuel Types</th>\n",
       "      <th>Availability</th>\n",
       "      <th>Last Timing Belt Service Date</th>\n",
       "      <th>Available from</th>\n",
       "    </tr>\n",
       "  </thead>\n",
       "  <tbody>\n",
       "    <tr>\n",
       "      <th>0</th>\n",
       "      <td>https://www.autoscout24.com//offers/audi-a1-sp...</td>\n",
       "      <td>Audi A1</td>\n",
       "      <td>Sportback 1.4 TDI S-tronic Xenon Navi Klima</td>\n",
       "      <td>Sedans</td>\n",
       "      <td>15770</td>\n",
       "      <td>VAT deductible</td>\n",
       "      <td>56,013 km</td>\n",
       "      <td>01/2016</td>\n",
       "      <td>2 previous owners</td>\n",
       "      <td>None</td>\n",
       "      <td>...</td>\n",
       "      <td>[\\n, Sicherheit:,  , Deaktivierung für Beifahr...</td>\n",
       "      <td>NaN</td>\n",
       "      <td>NaN</td>\n",
       "      <td>NaN</td>\n",
       "      <td>NaN</td>\n",
       "      <td>NaN</td>\n",
       "      <td>NaN</td>\n",
       "      <td>NaN</td>\n",
       "      <td>NaN</td>\n",
       "      <td>NaN</td>\n",
       "    </tr>\n",
       "    <tr>\n",
       "      <th>1</th>\n",
       "      <td>https://www.autoscout24.com//offers/audi-a1-1-...</td>\n",
       "      <td>Audi A1</td>\n",
       "      <td>1.8 TFSI sport</td>\n",
       "      <td>Sedans</td>\n",
       "      <td>14500</td>\n",
       "      <td>Price negotiable</td>\n",
       "      <td>80,000 km</td>\n",
       "      <td>03/2017</td>\n",
       "      <td>None</td>\n",
       "      <td>None</td>\n",
       "      <td>...</td>\n",
       "      <td>[\\nLangstreckenfahrzeug daher die hohe Kilomet...</td>\n",
       "      <td>[\\n4 (Green)\\n]</td>\n",
       "      <td>[\\n7\\n]</td>\n",
       "      <td>NaN</td>\n",
       "      <td>NaN</td>\n",
       "      <td>NaN</td>\n",
       "      <td>NaN</td>\n",
       "      <td>NaN</td>\n",
       "      <td>NaN</td>\n",
       "      <td>NaN</td>\n",
       "    </tr>\n",
       "    <tr>\n",
       "      <th>2</th>\n",
       "      <td>https://www.autoscout24.com//offers/audi-a1-sp...</td>\n",
       "      <td>Audi A1</td>\n",
       "      <td>Sportback 1.6 TDI S tronic Einparkhilfe plus+m...</td>\n",
       "      <td>Sedans</td>\n",
       "      <td>14640</td>\n",
       "      <td>VAT deductible</td>\n",
       "      <td>83,450 km</td>\n",
       "      <td>02/2016</td>\n",
       "      <td>1 previous owner</td>\n",
       "      <td>None</td>\n",
       "      <td>...</td>\n",
       "      <td>[\\n, Fahrzeug-Nummer: AM-95365,  , Ehem. UPE 2...</td>\n",
       "      <td>[\\n4 (Green)\\n]</td>\n",
       "      <td>NaN</td>\n",
       "      <td>NaN</td>\n",
       "      <td>NaN</td>\n",
       "      <td>NaN</td>\n",
       "      <td>NaN</td>\n",
       "      <td>NaN</td>\n",
       "      <td>NaN</td>\n",
       "      <td>NaN</td>\n",
       "    </tr>\n",
       "    <tr>\n",
       "      <th>3</th>\n",
       "      <td>https://www.autoscout24.com//offers/audi-a1-1-...</td>\n",
       "      <td>Audi A1</td>\n",
       "      <td>1.4 TDi Design S tronic</td>\n",
       "      <td>Sedans</td>\n",
       "      <td>14500</td>\n",
       "      <td>None</td>\n",
       "      <td>73,000 km</td>\n",
       "      <td>08/2016</td>\n",
       "      <td>1 previous owner</td>\n",
       "      <td>None</td>\n",
       "      <td>...</td>\n",
       "      <td>[\\nAudi A1: , - 1e eigenaar , - Perfecte staat...</td>\n",
       "      <td>NaN</td>\n",
       "      <td>[\\n6\\n]</td>\n",
       "      <td>NaN</td>\n",
       "      <td>NaN</td>\n",
       "      <td>NaN</td>\n",
       "      <td>NaN</td>\n",
       "      <td>NaN</td>\n",
       "      <td>NaN</td>\n",
       "      <td>NaN</td>\n",
       "    </tr>\n",
       "    <tr>\n",
       "      <th>4</th>\n",
       "      <td>https://www.autoscout24.com//offers/audi-a1-sp...</td>\n",
       "      <td>Audi A1</td>\n",
       "      <td>Sportback 1.4 TDI S-Tronic S-Line Ext. admired...</td>\n",
       "      <td>Sedans</td>\n",
       "      <td>16790</td>\n",
       "      <td>None</td>\n",
       "      <td>16,200 km</td>\n",
       "      <td>05/2016</td>\n",
       "      <td>1 previous owner</td>\n",
       "      <td>None</td>\n",
       "      <td>...</td>\n",
       "      <td>[\\n, Technik &amp; Sicherheit:, Xenon plus, Klimaa...</td>\n",
       "      <td>NaN</td>\n",
       "      <td>NaN</td>\n",
       "      <td>[\\nGermany\\n]</td>\n",
       "      <td>NaN</td>\n",
       "      <td>NaN</td>\n",
       "      <td>NaN</td>\n",
       "      <td>NaN</td>\n",
       "      <td>NaN</td>\n",
       "      <td>NaN</td>\n",
       "    </tr>\n",
       "  </tbody>\n",
       "</table>\n",
       "<p>5 rows × 54 columns</p>\n",
       "</div>"
      ],
      "text/plain": [
       "                                                 url make_model  \\\n",
       "0  https://www.autoscout24.com//offers/audi-a1-sp...    Audi A1   \n",
       "1  https://www.autoscout24.com//offers/audi-a1-1-...    Audi A1   \n",
       "2  https://www.autoscout24.com//offers/audi-a1-sp...    Audi A1   \n",
       "3  https://www.autoscout24.com//offers/audi-a1-1-...    Audi A1   \n",
       "4  https://www.autoscout24.com//offers/audi-a1-sp...    Audi A1   \n",
       "\n",
       "                                   short_description body_type  price  \\\n",
       "0        Sportback 1.4 TDI S-tronic Xenon Navi Klima    Sedans  15770   \n",
       "1                                     1.8 TFSI sport    Sedans  14500   \n",
       "2  Sportback 1.6 TDI S tronic Einparkhilfe plus+m...    Sedans  14640   \n",
       "3                            1.4 TDi Design S tronic    Sedans  14500   \n",
       "4  Sportback 1.4 TDI S-Tronic S-Line Ext. admired...    Sedans  16790   \n",
       "\n",
       "                vat         km registration         prev_owner    kW  ...  \\\n",
       "0    VAT deductible  56,013 km      01/2016  2 previous owners  None  ...   \n",
       "1  Price negotiable  80,000 km      03/2017               None  None  ...   \n",
       "2    VAT deductible  83,450 km      02/2016   1 previous owner  None  ...   \n",
       "3              None  73,000 km      08/2016   1 previous owner  None  ...   \n",
       "4              None  16,200 km      05/2016   1 previous owner  None  ...   \n",
       "\n",
       "                                         description   Emission Label  \\\n",
       "0  [\\n, Sicherheit:,  , Deaktivierung für Beifahr...              NaN   \n",
       "1  [\\nLangstreckenfahrzeug daher die hohe Kilomet...  [\\n4 (Green)\\n]   \n",
       "2  [\\n, Fahrzeug-Nummer: AM-95365,  , Ehem. UPE 2...  [\\n4 (Green)\\n]   \n",
       "3  [\\nAudi A1: , - 1e eigenaar , - Perfecte staat...              NaN   \n",
       "4  [\\n, Technik & Sicherheit:, Xenon plus, Klimaa...              NaN   \n",
       "\n",
       "     Gears Country version Electricity consumption Last Service Date  \\\n",
       "0      NaN             NaN                     NaN               NaN   \n",
       "1  [\\n7\\n]             NaN                     NaN               NaN   \n",
       "2      NaN             NaN                     NaN               NaN   \n",
       "3  [\\n6\\n]             NaN                     NaN               NaN   \n",
       "4      NaN   [\\nGermany\\n]                     NaN               NaN   \n",
       "\n",
       "  Other Fuel Types Availability Last Timing Belt Service Date Available from  \n",
       "0              NaN          NaN                           NaN            NaN  \n",
       "1              NaN          NaN                           NaN            NaN  \n",
       "2              NaN          NaN                           NaN            NaN  \n",
       "3              NaN          NaN                           NaN            NaN  \n",
       "4              NaN          NaN                           NaN            NaN  \n",
       "\n",
       "[5 rows x 54 columns]"
      ]
     },
     "execution_count": 5,
     "metadata": {},
     "output_type": "execute_result"
    }
   ],
   "source": [
    "df.head()"
   ]
  },
  {
   "cell_type": "code",
   "execution_count": 6,
   "metadata": {},
   "outputs": [
    {
     "ename": "TypeError",
     "evalue": "unhashable type: 'list'",
     "output_type": "error",
     "traceback": [
      "\u001b[1;31m---------------------------------------------------------------------------\u001b[0m",
      "\u001b[1;31mTypeError\u001b[0m                                 Traceback (most recent call last)",
      "\u001b[1;32mpandas\\_libs\\hashtable_class_helper.pxi\u001b[0m in \u001b[0;36mpandas._libs.hashtable.PyObjectHashTable.map_locations\u001b[1;34m()\u001b[0m\n",
      "\u001b[1;31mTypeError\u001b[0m: unhashable type: 'list'"
     ]
    },
    {
     "name": "stderr",
     "output_type": "stream",
     "text": [
      "Exception ignored in: 'pandas._libs.index.IndexEngine._call_map_locations'\n",
      "Traceback (most recent call last):\n",
      "  File \"pandas\\_libs\\hashtable_class_helper.pxi\", line 4588, in pandas._libs.hashtable.PyObjectHashTable.map_locations\n",
      "TypeError: unhashable type: 'list'\n"
     ]
    },
    {
     "data": {
      "text/plain": [
       "NaN                                                                                           7704\n",
       "[\\n, \\n, \\n4 (Green)\\n]                                                                       2235\n",
       "[\\n, \\n, \\nEuro 6\\n]                                                                          2097\n",
       "[\\n, \\n]                                                                                      1702\n",
       "[\\n, \\n, \\nEuro 6d-TEMP\\n]                                                                     399\n",
       "                                                                                              ... \n",
       "[\\n, \\n, \\n, 5.4 l/100 km (comb), \\n, 7 l/100 km (city), \\n, 4.5 l/100 km (country), \\n]         1\n",
       "[\\n, \\n, \\n, 4.7 l/100 km (comb), \\n, 5.4 l/100 km (city), \\n, 4.2 l/100 km (country), \\n]       1\n",
       "[\\n, \\n, \\n164 g CO2/km (comb)\\n]                                                                1\n",
       "[\\n, \\n, \\n, 5.4 l/100 km (comb), \\n, 7.3 l/100 km (city), \\n, 4.2 l/100 km (country), \\n]       1\n",
       "[\\n, \\n, \\n, 6 l/100 km (comb), \\n, 7.5 l/100 km (city), \\n, 5.2 l/100 km (country), \\n]         1\n",
       "Name: Full Service, Length: 123, dtype: int64"
      ]
     },
     "execution_count": 6,
     "metadata": {},
     "output_type": "execute_result"
    }
   ],
   "source": [
    "df[\"Full Service\"].value_counts(dropna = False)"
   ]
  },
  {
   "cell_type": "code",
   "execution_count": 7,
   "metadata": {},
   "outputs": [
    {
     "ename": "TypeError",
     "evalue": "unhashable type: 'list'",
     "output_type": "error",
     "traceback": [
      "\u001b[1;31m---------------------------------------------------------------------------\u001b[0m",
      "\u001b[1;31mTypeError\u001b[0m                                 Traceback (most recent call last)",
      "\u001b[1;32mpandas\\_libs\\hashtable_class_helper.pxi\u001b[0m in \u001b[0;36mpandas._libs.hashtable.PyObjectHashTable.map_locations\u001b[1;34m()\u001b[0m\n",
      "\u001b[1;31mTypeError\u001b[0m: unhashable type: 'list'"
     ]
    },
    {
     "name": "stderr",
     "output_type": "stream",
     "text": [
      "Exception ignored in: 'pandas._libs.index.IndexEngine._call_map_locations'\n",
      "Traceback (most recent call last):\n",
      "  File \"pandas\\_libs\\hashtable_class_helper.pxi\", line 4588, in pandas._libs.hashtable.PyObjectHashTable.map_locations\n",
      "TypeError: unhashable type: 'list'\n"
     ]
    },
    {
     "data": {
      "text/plain": [
       "[\\n, \\n]                                                                                      3647\n",
       "[\\n, \\n, \\n4 (Green)\\n]                                                                       1240\n",
       "[\\n, \\n, \\nEuro 6\\n]                                                                          1127\n",
       "[\\n, \\n, \\nEuro 6d-TEMP\\n]                                                                     345\n",
       "\\n                                                                                              70\n",
       "                                                                                              ... \n",
       "[\\n, \\n, \\n, 5.6 l/100 km (comb), \\n, 7.3 l/100 km (city), \\n, 4.7 l/100 km (country), \\n]       1\n",
       "[\\n, \\n, \\n144 g CO2/km (comb)\\n]                                                                1\n",
       "[\\n, \\n, \\n189 g CO2/km (comb)\\n]                                                                1\n",
       "[\\n, \\n, \\n146 g CO2/km (comb)\\n]                                                                1\n",
       "[\\n, \\n, \\n161 g CO2/km (comb)\\n]                                                                1\n",
       "Name: Non-smoking Vehicle, Length: 94, dtype: int64"
      ]
     },
     "execution_count": 7,
     "metadata": {},
     "output_type": "execute_result"
    }
   ],
   "source": [
    "df[\"Non-smoking Vehicle\"].value_counts()"
   ]
  },
  {
   "cell_type": "code",
   "execution_count": 8,
   "metadata": {
    "scrolled": true
   },
   "outputs": [
    {
     "name": "stdout",
     "output_type": "stream",
     "text": [
      "<class 'pandas.core.frame.DataFrame'>\n",
      "RangeIndex: 15919 entries, 0 to 15918\n",
      "Data columns (total 54 columns):\n",
      " #   Column                         Non-Null Count  Dtype \n",
      "---  ------                         --------------  ----- \n",
      " 0   url                            15919 non-null  object\n",
      " 1   make_model                     15919 non-null  object\n",
      " 2   short_description              15873 non-null  object\n",
      " 3   body_type                      15859 non-null  object\n",
      " 4   price                          15919 non-null  int64 \n",
      " 5   vat                            11406 non-null  object\n",
      " 6   km                             15919 non-null  object\n",
      " 7   registration                   15919 non-null  object\n",
      " 8   prev_owner                     9091 non-null   object\n",
      " 9   kW                             0 non-null      object\n",
      " 10  hp                             15919 non-null  object\n",
      " 11  Type                           15917 non-null  object\n",
      " 12  Previous Owners                9279 non-null   object\n",
      " 13  Next Inspection                3535 non-null   object\n",
      " 14  Inspection new                 3932 non-null   object\n",
      " 15  Warranty                       10499 non-null  object\n",
      " 16  Full Service                   8215 non-null   object\n",
      " 17  Non-smoking Vehicle            7177 non-null   object\n",
      " 18  null                           15919 non-null  object\n",
      " 19  Make                           15919 non-null  object\n",
      " 20  Model                          15919 non-null  object\n",
      " 21  Offer Number                   12744 non-null  object\n",
      " 22  First Registration             14322 non-null  object\n",
      " 23  Body Color                     15322 non-null  object\n",
      " 24  Paint Type                     10147 non-null  object\n",
      " 25  Body Color Original            12160 non-null  object\n",
      " 26  Upholstery                     12199 non-null  object\n",
      " 27  Body                           15859 non-null  object\n",
      " 28  Nr. of Doors                   15707 non-null  object\n",
      " 29  Nr. of Seats                   14942 non-null  object\n",
      " 30  Model Code                     4978 non-null   object\n",
      " 31  Gearing Type                   15919 non-null  object\n",
      " 32  Displacement                   15423 non-null  object\n",
      " 33  Cylinders                      10239 non-null  object\n",
      " 34  Weight                         8945 non-null   object\n",
      " 35  Drive chain                    9061 non-null   object\n",
      " 36  Fuel                           15919 non-null  object\n",
      " 37  Consumption                    14013 non-null  object\n",
      " 38  CO2 Emission                   14111 non-null  object\n",
      " 39  Emission Class                 12898 non-null  object\n",
      " 40  \n",
      "Comfort & Convenience\n",
      "        14999 non-null  object\n",
      " 41  \n",
      "Entertainment & Media\n",
      "        14545 non-null  object\n",
      " 42  \n",
      "Extras\n",
      "                       12957 non-null  object\n",
      " 43  \n",
      "Safety & Security\n",
      "            14937 non-null  object\n",
      " 44  description                    15919 non-null  object\n",
      " 45  Emission Label                 3985 non-null   object\n",
      " 46  Gears                          11207 non-null  object\n",
      " 47  Country version                7586 non-null   object\n",
      " 48  Electricity consumption        137 non-null    object\n",
      " 49  Last Service Date              566 non-null    object\n",
      " 50  Other Fuel Types               880 non-null    object\n",
      " 51  Availability                   635 non-null    object\n",
      " 52  Last Timing Belt Service Date  16 non-null     object\n",
      " 53  Available from                 272 non-null    object\n",
      "dtypes: int64(1), object(53)\n",
      "memory usage: 6.6+ MB\n"
     ]
    }
   ],
   "source": [
    "df.info()"
   ]
  },
  {
   "cell_type": "raw",
   "metadata": {},
   "source": [
    "Elimizde ki veri bir 2. el otomobil sitesinden indrilmiş 54 sütün 15919 satırdan oluşuyor. Datamız internet sitesine ilan\\n verilen aracların marka, model, renk, km bilgisi, kasa tipi, yakıt türü, kısa bir açıklama ve otomobille alakalı bir çok\\n veriyi barındırıyor. \n",
    "\n",
    "*Yol Haritası*\n",
    "\n",
    "    1-Veri kısa bir incelemeden sonra verinin internet sitesinden çekildiği halde elimize geldiği anlaşılıyor. öncelikle\n",
    "bir çok  satırın liste içerisinde kirli bir şekilde geldiği görülüyor. Öncelikle ihtiyaç duymayacağımız sütünlar drop metodu ile düşürülmeli.\n",
    "\n",
    "    2- Sütünlar üzerinde işlem yapılası için hazır hale getirilmeli. nan değerleri imkanı varsa fillna yöntemleri ile doldurulmalı. Daha sonra silicing metodları ile veri temizlenmeli.\n",
    "    \n",
    "    3- Sütünların veri tipleri kontrol edilmeli ve ihtiyaca gerekli değişiklikler yapılmalı.\n",
    "    \n",
    "    4-   \n"
   ]
  },
  {
   "cell_type": "markdown",
   "metadata": {},
   "source": [
    "**İhtiyaç olmayan sütünları düşürelim**"
   ]
  },
  {
   "cell_type": "raw",
   "metadata": {},
   "source": [
    "kW sütünu tamamen nan değerleden oluştuğundan drop edilebilir.\n",
    "null sütünun her bir satırı içi boş listelere sahip. düşülebilir.\n",
    "url sütünü rak oluşturmayacağından düşürülebilir."
   ]
  },
  {
   "cell_type": "code",
   "execution_count": 9,
   "metadata": {
    "scrolled": true
   },
   "outputs": [
    {
     "ename": "TypeError",
     "evalue": "unhashable type: 'list'",
     "output_type": "error",
     "traceback": [
      "\u001b[1;31m---------------------------------------------------------------------------\u001b[0m",
      "\u001b[1;31mTypeError\u001b[0m                                 Traceback (most recent call last)",
      "\u001b[1;32mpandas\\_libs\\hashtable_class_helper.pxi\u001b[0m in \u001b[0;36mpandas._libs.hashtable.PyObjectHashTable.map_locations\u001b[1;34m()\u001b[0m\n",
      "\u001b[1;31mTypeError\u001b[0m: unhashable type: 'list'"
     ]
    },
    {
     "name": "stderr",
     "output_type": "stream",
     "text": [
      "Exception ignored in: 'pandas._libs.index.IndexEngine._call_map_locations'\n",
      "Traceback (most recent call last):\n",
      "  File \"pandas\\_libs\\hashtable_class_helper.pxi\", line 4588, in pandas._libs.hashtable.PyObjectHashTable.map_locations\n",
      "TypeError: unhashable type: 'list'\n"
     ]
    },
    {
     "data": {
      "text/plain": [
       "[]    15919\n",
       "Name: null, dtype: int64"
      ]
     },
     "execution_count": 9,
     "metadata": {},
     "output_type": "execute_result"
    }
   ],
   "source": [
    "df.null.value_counts()"
   ]
  },
  {
   "cell_type": "code",
   "execution_count": 10,
   "metadata": {},
   "outputs": [
    {
     "data": {
      "text/plain": [
       "(15919, 54)"
      ]
     },
     "execution_count": 10,
     "metadata": {},
     "output_type": "execute_result"
    }
   ],
   "source": [
    "df.shape"
   ]
  },
  {
   "cell_type": "code",
   "execution_count": 11,
   "metadata": {},
   "outputs": [],
   "source": [
    "df.drop([\"kW\", \"null\", \"url\", \"Previous Owners\", \"Body\",\"First Registration\", \"Body Color Original\",\n",
    "        \"Other Fuel Types\", \"Electricity consumption\", \"Emission Label\", \"Non-smoking Vehicle\", \"Last Service Date\",\n",
    "        \"Last Timing Belt Service Date\", \"Available from\", \"CO2 Emission\", \"Model Code\", \"Weight\", \"Availability\", \"Full Service\",\n",
    "            ], inplace = True, axis = 1)\n",
    "###Non-smoking Vehicle sütünu anlamsız verilerden oluşuyor..\n",
    "#prev_owner daha temiz olduğundan Previous Owners sütünu drop ediyoruz..\n",
    "##registration ve first_registiration aynı bilgileri içeriyor.\n",
    "##body_type ve Body sütünu aynı bilgileri içeriyor. Body sütünunu düşüyoruz..\n",
    "##\"Other Fuel Types\"sütünunda veri yok düşülebilir..\n",
    "##Electricity consumption sütünunda 137 anlamsız değer var düşülebilir..\n",
    "##emilsiyon label 11 bin nan değer var. emilsiyon class sütünu daha temiz..\n",
    "##CO2 Emission co2 emilsion değerini gram cinsi ile veriyor. emilsiyon class sütünu daha temiz..\n",
    "##Last Service Date 15 bin nan değer \n",
    "## Availability 15 bin 200 nan değer var\n",
    "##Last Timing Belt Service Date 15 900 nan değer var\n",
    "## Available from sadece 15647 tane nan değer var. olan veri sadece 2019 da ait yakllaşık 200 tarih. \n",
    "##model code\n",
    "##Weight sütünuda çok fazla nan değer var \n",
    "###Availability sütünunda sadece 635 değer var düşülebilir..\n",
    "##Full Service sütünu anlamsız değerleden oluşuyor.."
   ]
  },
  {
   "cell_type": "code",
   "execution_count": 12,
   "metadata": {},
   "outputs": [
    {
     "data": {
      "text/plain": [
       "(15919, 35)"
      ]
     },
     "execution_count": 12,
     "metadata": {},
     "output_type": "execute_result"
    }
   ],
   "source": [
    "df.shape"
   ]
  },
  {
   "cell_type": "code",
   "execution_count": 13,
   "metadata": {},
   "outputs": [],
   "source": [
    "df = df.rename(columns={'\\nComfort & Convenience\\n':'Comfort & Convenience', \"\\nEntertainment & Media\\n\" : \"Entertainment & Media\",\n",
    "                  \"\\nExtras\\n\" : \"Extras\", \"\\nSafety & Security\\n\" : \"Safety & Security\"})"
   ]
  },
  {
   "cell_type": "code",
   "execution_count": 14,
   "metadata": {},
   "outputs": [
    {
     "data": {
      "text/plain": [
       "0                  [, Used, , Diesel (Particulate Filter)]\n",
       "1                                     [, Used, , Gasoline]\n",
       "2                  [, Used, , Diesel (Particulate Filter)]\n",
       "3                  [, Used, , Diesel (Particulate Filter)]\n",
       "4                  [, Used, , Diesel (Particulate Filter)]\n",
       "                               ...                        \n",
       "15914               [, New, , Diesel (Particulate Filter)]\n",
       "15915    [, Used, , Super 95 / Super Plus 98 (Particula...\n",
       "15916                         [, Pre-registered, , Diesel]\n",
       "15917                         [, Pre-registered, , Diesel]\n",
       "15918                        [, Demonstration, , Super 95]\n",
       "Name: Type, Length: 15919, dtype: object"
      ]
     },
     "execution_count": 14,
     "metadata": {},
     "output_type": "execute_result"
    }
   ],
   "source": [
    "df.Type"
   ]
  },
  {
   "cell_type": "code",
   "execution_count": 15,
   "metadata": {},
   "outputs": [
    {
     "name": "stdout",
     "output_type": "stream",
     "text": [
      "<class 'pandas.core.frame.DataFrame'>\n",
      "RangeIndex: 15919 entries, 0 to 15918\n",
      "Data columns (total 35 columns):\n",
      " #   Column                 Non-Null Count  Dtype \n",
      "---  ------                 --------------  ----- \n",
      " 0   make_model             15919 non-null  object\n",
      " 1   short_description      15873 non-null  object\n",
      " 2   body_type              15859 non-null  object\n",
      " 3   price                  15919 non-null  int64 \n",
      " 4   vat                    11406 non-null  object\n",
      " 5   km                     15919 non-null  object\n",
      " 6   registration           15919 non-null  object\n",
      " 7   prev_owner             9091 non-null   object\n",
      " 8   hp                     15919 non-null  object\n",
      " 9   Type                   15917 non-null  object\n",
      " 10  Next Inspection        3535 non-null   object\n",
      " 11  Inspection new         3932 non-null   object\n",
      " 12  Warranty               10499 non-null  object\n",
      " 13  Make                   15919 non-null  object\n",
      " 14  Model                  15919 non-null  object\n",
      " 15  Offer Number           12744 non-null  object\n",
      " 16  Body Color             15322 non-null  object\n",
      " 17  Paint Type             10147 non-null  object\n",
      " 18  Upholstery             12199 non-null  object\n",
      " 19  Nr. of Doors           15707 non-null  object\n",
      " 20  Nr. of Seats           14942 non-null  object\n",
      " 21  Gearing Type           15919 non-null  object\n",
      " 22  Displacement           15423 non-null  object\n",
      " 23  Cylinders              10239 non-null  object\n",
      " 24  Drive chain            9061 non-null   object\n",
      " 25  Fuel                   15919 non-null  object\n",
      " 26  Consumption            14013 non-null  object\n",
      " 27  Emission Class         12898 non-null  object\n",
      " 28  Comfort & Convenience  14999 non-null  object\n",
      " 29  Entertainment & Media  14545 non-null  object\n",
      " 30  Extras                 12957 non-null  object\n",
      " 31  Safety & Security      14937 non-null  object\n",
      " 32  description            15919 non-null  object\n",
      " 33  Gears                  11207 non-null  object\n",
      " 34  Country version        7586 non-null   object\n",
      "dtypes: int64(1), object(34)\n",
      "memory usage: 4.3+ MB\n"
     ]
    }
   ],
   "source": [
    "df.info()"
   ]
  },
  {
   "cell_type": "code",
   "execution_count": 16,
   "metadata": {},
   "outputs": [],
   "source": [
    "##sütünlarını düştükten sonraki sütun sayımız artık 35.."
   ]
  },
  {
   "cell_type": "markdown",
   "metadata": {},
   "source": [
    "**Type**"
   ]
  },
  {
   "cell_type": "code",
   "execution_count": 17,
   "metadata": {},
   "outputs": [
    {
     "data": {
      "text/plain": [
       "0    [, Used, , Diesel (Particulate Filter)]\n",
       "1                       [, Used, , Gasoline]\n",
       "2    [, Used, , Diesel (Particulate Filter)]\n",
       "3    [, Used, , Diesel (Particulate Filter)]\n",
       "4    [, Used, , Diesel (Particulate Filter)]\n",
       "Name: Type, dtype: object"
      ]
     },
     "execution_count": 17,
     "metadata": {},
     "output_type": "execute_result"
    }
   ],
   "source": [
    "df.Type.head()###type sütünunda yakıt türü bilgisibulunmakta. Fuel sütünu yakıt türü bilgisini sakladığından dolayı type sütünündaki yakıt türü bilgisi düşülebilir."
   ]
  },
  {
   "cell_type": "code",
   "execution_count": 18,
   "metadata": {},
   "outputs": [
    {
     "ename": "TypeError",
     "evalue": "unhashable type: 'list'",
     "output_type": "error",
     "traceback": [
      "\u001b[1;31m---------------------------------------------------------------------------\u001b[0m",
      "\u001b[1;31mTypeError\u001b[0m                                 Traceback (most recent call last)",
      "\u001b[1;32mpandas\\_libs\\hashtable_class_helper.pxi\u001b[0m in \u001b[0;36mpandas._libs.hashtable.PyObjectHashTable.map_locations\u001b[1;34m()\u001b[0m\n",
      "\u001b[1;31mTypeError\u001b[0m: unhashable type: 'list'"
     ]
    },
    {
     "name": "stderr",
     "output_type": "stream",
     "text": [
      "Exception ignored in: 'pandas._libs.index.IndexEngine._call_map_locations'\n",
      "Traceback (most recent call last):\n",
      "  File \"pandas\\_libs\\hashtable_class_helper.pxi\", line 4588, in pandas._libs.hashtable.PyObjectHashTable.map_locations\n",
      "TypeError: unhashable type: 'list'\n"
     ]
    },
    {
     "data": {
      "text/plain": [
       "[, Used, , Diesel (Particulate Filter)]                                                                                 3475\n",
       "[, Used, , Diesel]                                                                                                      2516\n",
       "[, Used, , Gasoline]                                                                                                    2367\n",
       "[, Used, , Super 95]                                                                                                    1818\n",
       "[, Pre-registered, , Super 95]                                                                                           500\n",
       "                                                                                                                        ... \n",
       "[, Pre-registered, , CNG]                                                                                                  1\n",
       "[, Used, , Others (Particulate Filter)]                                                                                    1\n",
       "[, New, , Super 95 / Regular/Benzine 91 / Super Plus 98 / Regular/Benzine E10 91 / Super Plus E10 98 / Super E10 95]       1\n",
       "[, Pre-registered, , Super E10 95 (Particulate Filter)]                                                                    1\n",
       "[, Employee's car, , Super E10 95 (Particulate Filter)]                                                                    1\n",
       "Name: Type, Length: 170, dtype: int64"
      ]
     },
     "execution_count": 18,
     "metadata": {},
     "output_type": "execute_result"
    }
   ],
   "source": [
    "df.Type.value_counts(dropna = False)"
   ]
  },
  {
   "cell_type": "code",
   "execution_count": 19,
   "metadata": {},
   "outputs": [
    {
     "data": {
      "text/plain": [
       "2"
      ]
     },
     "execution_count": 19,
     "metadata": {},
     "output_type": "execute_result"
    }
   ],
   "source": [
    "df.Type.isnull().sum()"
   ]
  },
  {
   "cell_type": "code",
   "execution_count": 20,
   "metadata": {},
   "outputs": [],
   "source": [
    "###Type sütünunda 2 tane nan değer var..\n",
    "df.Type = df.Type.fillna(method=\"ffill\")"
   ]
  },
  {
   "cell_type": "code",
   "execution_count": 21,
   "metadata": {},
   "outputs": [
    {
     "data": {
      "text/plain": [
       "'Super 95'"
      ]
     },
     "execution_count": 21,
     "metadata": {},
     "output_type": "execute_result"
    }
   ],
   "source": [
    "df.Type[10000][3]"
   ]
  },
  {
   "cell_type": "code",
   "execution_count": 22,
   "metadata": {},
   "outputs": [],
   "source": [
    "for i in range(len(df.Type)):\n",
    "    if len(df.Type[i]) > 1:\n",
    "        df.Type[i] = df.Type[i][1]\n",
    "    else:\n",
    "        df.Type[i] = df.Type[i]"
   ]
  },
  {
   "cell_type": "code",
   "execution_count": 23,
   "metadata": {},
   "outputs": [
    {
     "data": {
      "text/plain": [
       "Used              11097\n",
       "New                1650\n",
       "Pre-registered     1365\n",
       "Employee's car     1011\n",
       "Demonstration       796\n",
       "Name: Type, dtype: int64"
      ]
     },
     "execution_count": 23,
     "metadata": {},
     "output_type": "execute_result"
    }
   ],
   "source": [
    "df.Type.value_counts(dropna = False)"
   ]
  },
  {
   "cell_type": "code",
   "execution_count": 24,
   "metadata": {},
   "outputs": [],
   "source": [
    "###Type sütünü başarı ile temizlendi"
   ]
  },
  {
   "cell_type": "markdown",
   "metadata": {},
   "source": [
    "**body_type** "
   ]
  },
  {
   "cell_type": "code",
   "execution_count": 25,
   "metadata": {},
   "outputs": [
    {
     "data": {
      "text/plain": [
       "Sedans           7903\n",
       "Station wagon    3553\n",
       "Compact          3153\n",
       "Van               783\n",
       "Other             290\n",
       "Transporter        88\n",
       "NaN                60\n",
       "Off-Road           56\n",
       "Coupe              25\n",
       "Convertible         8\n",
       "Name: body_type, dtype: int64"
      ]
     },
     "execution_count": 25,
     "metadata": {},
     "output_type": "execute_result"
    }
   ],
   "source": [
    "df.body_type.value_counts(dropna = False)### 60 tane nan değerimiz var"
   ]
  },
  {
   "cell_type": "code",
   "execution_count": 26,
   "metadata": {},
   "outputs": [],
   "source": [
    "df.body_type.fillna(method = \"ffill\", inplace = True)"
   ]
  },
  {
   "cell_type": "code",
   "execution_count": 27,
   "metadata": {},
   "outputs": [
    {
     "data": {
      "text/plain": [
       "Sedans           7922\n",
       "Station wagon    3563\n",
       "Compact          3161\n",
       "Van               800\n",
       "Other             292\n",
       "Transporter        91\n",
       "Off-Road           57\n",
       "Coupe              25\n",
       "Convertible         8\n",
       "Name: body_type, dtype: int64"
      ]
     },
     "execution_count": 27,
     "metadata": {},
     "output_type": "execute_result"
    }
   ],
   "source": [
    "df.body_type.value_counts(dropna = False)##nan değerler başarılı şekilde dolduruldu..."
   ]
  },
  {
   "cell_type": "code",
   "execution_count": 28,
   "metadata": {},
   "outputs": [],
   "source": [
    "###body_typesütünu düzeltildi..."
   ]
  },
  {
   "cell_type": "markdown",
   "metadata": {},
   "source": [
    "**Body Color sütünu**"
   ]
  },
  {
   "cell_type": "code",
   "execution_count": 29,
   "metadata": {},
   "outputs": [
    {
     "ename": "TypeError",
     "evalue": "unhashable type: 'list'",
     "output_type": "error",
     "traceback": [
      "\u001b[1;31m---------------------------------------------------------------------------\u001b[0m",
      "\u001b[1;31mTypeError\u001b[0m                                 Traceback (most recent call last)",
      "\u001b[1;32mpandas\\_libs\\hashtable_class_helper.pxi\u001b[0m in \u001b[0;36mpandas._libs.hashtable.PyObjectHashTable.map_locations\u001b[1;34m()\u001b[0m\n",
      "\u001b[1;31mTypeError\u001b[0m: unhashable type: 'list'"
     ]
    },
    {
     "name": "stderr",
     "output_type": "stream",
     "text": [
      "Exception ignored in: 'pandas._libs.index.IndexEngine._call_map_locations'\n",
      "Traceback (most recent call last):\n",
      "  File \"pandas\\_libs\\hashtable_class_helper.pxi\", line 4588, in pandas._libs.hashtable.PyObjectHashTable.map_locations\n",
      "TypeError: unhashable type: 'list'\n"
     ]
    },
    {
     "data": {
      "text/plain": [
       "[\\n, Black, \\n]     3745\n",
       "[\\n, Grey, \\n]      3505\n",
       "[\\n, White, \\n]     3406\n",
       "[\\n, Silver, \\n]    1647\n",
       "[\\n, Blue, \\n]      1431\n",
       "[\\n, Red, \\n]        957\n",
       "NaN                  597\n",
       "[\\n, Brown, \\n]      289\n",
       "[\\n, Green, \\n]      154\n",
       "[\\n, Beige, \\n]      108\n",
       "[\\n, Yellow, \\n]      51\n",
       "[\\n, Violet, \\n]      18\n",
       "[\\n, Bronze, \\n]       6\n",
       "[\\n, Orange, \\n]       3\n",
       "[\\n, Gold, \\n]         2\n",
       "Name: Body Color, dtype: int64"
      ]
     },
     "execution_count": 29,
     "metadata": {},
     "output_type": "execute_result"
    }
   ],
   "source": [
    "df[\"Body Color\"].value_counts( dropna = False)"
   ]
  },
  {
   "cell_type": "code",
   "execution_count": 30,
   "metadata": {},
   "outputs": [],
   "source": [
    "##body color sütününda 597 nan değer var bunları fill na metodu ile dolduralım.."
   ]
  },
  {
   "cell_type": "code",
   "execution_count": null,
   "metadata": {},
   "outputs": [],
   "source": []
  },
  {
   "cell_type": "code",
   "execution_count": 31,
   "metadata": {},
   "outputs": [],
   "source": [
    "df[\"Body Color\"] = df[\"Body Color\"].fillna(method=\"bfill\")"
   ]
  },
  {
   "cell_type": "code",
   "execution_count": 32,
   "metadata": {
    "scrolled": true
   },
   "outputs": [
    {
     "ename": "TypeError",
     "evalue": "unhashable type: 'list'",
     "output_type": "error",
     "traceback": [
      "\u001b[1;31m---------------------------------------------------------------------------\u001b[0m",
      "\u001b[1;31mTypeError\u001b[0m                                 Traceback (most recent call last)",
      "\u001b[1;32mpandas\\_libs\\hashtable_class_helper.pxi\u001b[0m in \u001b[0;36mpandas._libs.hashtable.PyObjectHashTable.map_locations\u001b[1;34m()\u001b[0m\n",
      "\u001b[1;31mTypeError\u001b[0m: unhashable type: 'list'"
     ]
    },
    {
     "name": "stderr",
     "output_type": "stream",
     "text": [
      "Exception ignored in: 'pandas._libs.index.IndexEngine._call_map_locations'\n",
      "Traceback (most recent call last):\n",
      "  File \"pandas\\_libs\\hashtable_class_helper.pxi\", line 4588, in pandas._libs.hashtable.PyObjectHashTable.map_locations\n",
      "TypeError: unhashable type: 'list'\n"
     ]
    },
    {
     "data": {
      "text/plain": [
       "[\\n, Black, \\n]     3888\n",
       "[\\n, Grey, \\n]      3638\n",
       "[\\n, White, \\n]     3540\n",
       "[\\n, Silver, \\n]    1687\n",
       "[\\n, Blue, \\n]      1524\n",
       "[\\n, Red, \\n]        989\n",
       "[\\n, Brown, \\n]      299\n",
       "[\\n, Green, \\n]      163\n",
       "[\\n, Beige, \\n]      108\n",
       "[\\n, Yellow, \\n]      53\n",
       "[\\n, Violet, \\n]      18\n",
       "[\\n, Bronze, \\n]       7\n",
       "[\\n, Orange, \\n]       3\n",
       "[\\n, Gold, \\n]         2\n",
       "Name: Body Color, dtype: int64"
      ]
     },
     "execution_count": 32,
     "metadata": {},
     "output_type": "execute_result"
    }
   ],
   "source": [
    "df[\"Body Color\"].value_counts(dropna = False)"
   ]
  },
  {
   "cell_type": "code",
   "execution_count": 33,
   "metadata": {},
   "outputs": [],
   "source": [
    "for i in range(len(df[\"Body Color\"])):\n",
    "    df[\"Body Color\"][i] = df[\"Body Color\"][i][1]"
   ]
  },
  {
   "cell_type": "code",
   "execution_count": 34,
   "metadata": {},
   "outputs": [
    {
     "data": {
      "text/plain": [
       "Black     3888\n",
       "Grey      3638\n",
       "White     3540\n",
       "Silver    1687\n",
       "Blue      1524\n",
       "Red        989\n",
       "Brown      299\n",
       "Green      163\n",
       "Beige      108\n",
       "Yellow      53\n",
       "Violet      18\n",
       "Bronze       7\n",
       "Orange       3\n",
       "Gold         2\n",
       "Name: Body Color, dtype: int64"
      ]
     },
     "execution_count": 34,
     "metadata": {},
     "output_type": "execute_result"
    }
   ],
   "source": [
    "df[\"Body Color\"].value_counts(dropna = False )"
   ]
  },
  {
   "cell_type": "code",
   "execution_count": 35,
   "metadata": {},
   "outputs": [],
   "source": [
    "##BodyColor sütünu başarılı bir şekilde temizlendi."
   ]
  },
  {
   "cell_type": "markdown",
   "metadata": {},
   "source": [
    "**Next inspection**"
   ]
  },
  {
   "cell_type": "code",
   "execution_count": 36,
   "metadata": {
    "tags": []
   },
   "outputs": [
    {
     "name": "stdout",
     "output_type": "stream",
     "text": [
      "['\\n06/2021\\n', '\\n99 g CO2/km (comb)\\n']\n",
      "nan\n",
      "nan\n",
      "nan\n",
      "nan\n",
      "nan\n",
      "nan\n",
      "nan\n",
      "['\\n02/2020\\n', '\\n97 g CO2/km (comb)\\n']\n",
      "nan\n",
      "nan\n",
      "nan\n",
      "['\\n09/2019\\n', '\\n112 g CO2/km (comb)\\n']\n",
      "nan\n",
      "['\\n10/2019\\n', '\\n99 g CO2/km (comb)\\n']\n",
      "['\\n04/2020\\n', '\\n97 g CO2/km (comb)\\n']\n",
      "nan\n",
      "nan\n",
      "\n",
      "07/2020\n",
      "\n",
      "nan\n",
      "nan\n",
      "nan\n",
      "['\\n12/2019\\n', '\\n112 g CO2/km (comb)\\n']\n",
      "nan\n",
      "nan\n",
      "nan\n",
      "nan\n",
      "nan\n",
      "nan\n",
      "nan\n",
      "nan\n",
      "['\\n05/2019\\n', '\\n95 g CO2/km (comb)\\n']\n",
      "nan\n",
      "nan\n",
      "nan\n",
      "nan\n",
      "nan\n",
      "['\\n07/2019\\n', '\\n97 g CO2/km (comb)\\n']\n",
      "['\\n10/2019\\n', '\\n97 g CO2/km (comb)\\n']\n",
      "nan\n",
      "nan\n",
      "nan\n",
      "nan\n",
      "nan\n",
      "['\\n02/2021\\n', '\\n94 g CO2/km (comb)\\n']\n",
      "['\\n06/2019\\n', '\\n99 g CO2/km (comb)\\n']\n",
      "nan\n",
      "nan\n",
      "nan\n",
      "nan\n",
      "nan\n",
      "['\\n06/2019\\n', '\\n97 g CO2/km (comb)\\n']\n",
      "nan\n",
      "nan\n",
      "nan\n",
      "['\\n05/2020\\n', '\\n102 g CO2/km (comb)\\n']\n",
      "['\\n11/2019\\n', '\\n97 g CO2/km (comb)\\n']\n",
      "['\\n06/2021\\n', '\\n102 g CO2/km (comb)\\n']\n",
      "['\\n12/2019\\n', '\\n99 g CO2/km (comb)\\n']\n",
      "nan\n",
      "nan\n",
      "nan\n",
      "nan\n",
      "['\\n06/2021\\n', '\\n102 g CO2/km (comb)\\n']\n",
      "nan\n",
      "\n",
      "11/2020\n",
      "\n",
      "nan\n",
      "nan\n",
      "nan\n",
      "['\\n09/2021\\n', '\\n104 g CO2/km (comb)\\n']\n",
      "nan\n",
      "['\\n03/2020\\n', '\\n117 g CO2/km (comb)\\n']\n",
      "nan\n",
      "nan\n",
      "['\\n06/2021\\n', '\\n104 g CO2/km (comb)\\n']\n",
      "nan\n",
      "['\\n04/2021\\n', '\\n102 g CO2/km (comb)\\n']\n",
      "['\\n04/2019\\n', '\\n123 g CO2/km (comb)\\n']\n",
      "nan\n",
      "nan\n",
      "nan\n",
      "nan\n",
      "['\\n07/2021\\n', '\\n102 g CO2/km (comb)\\n']\n",
      "nan\n",
      "['\\n03/2020\\n', '\\n108 g CO2/km (comb)\\n']\n",
      "nan\n",
      "nan\n",
      "nan\n",
      "['\\n05/2020\\n', '\\n117 g CO2/km (comb)\\n']\n",
      "['\\n04/2021\\n', '\\n121 g CO2/km (comb)\\n']\n",
      "['\\n07/2019\\n', '\\n112 g CO2/km (comb)\\n']\n",
      "['\\n02/2021\\n', '\\n104 g CO2/km (comb)\\n']\n",
      "['\\n04/2021\\n', '\\n107 g CO2/km (comb)\\n']\n",
      "['\\n02/2021\\n', '\\n112 g CO2/km (comb)\\n']\n",
      "\n",
      "01/2021\n",
      "\n",
      "nan\n",
      "nan\n",
      "nan\n",
      "nan\n",
      "nan\n",
      "nan\n",
      "nan\n",
      "['\\n05/2022\\n', '\\n105 g CO2/km (comb)\\n']\n",
      "nan\n",
      "nan\n",
      "nan\n",
      "nan\n",
      "nan\n",
      "nan\n",
      "nan\n",
      "nan\n",
      "nan\n",
      "nan\n",
      "nan\n",
      "nan\n",
      "nan\n",
      "nan\n",
      "['\\n06/2021\\n', '\\n112 g CO2/km (comb)\\n']\n",
      "nan\n",
      "['\\n07/2021\\n', '\\n104 g CO2/km (comb)\\n']\n",
      "nan\n",
      "['\\n09/2021\\n', '\\n102 g CO2/km (comb)\\n']\n",
      "nan\n",
      "['\\n04/2020\\n', '\\n97 g CO2/km (comb)\\n']\n",
      "['\\n05/2019\\n', '\\n4 (Green)\\n']\n",
      "['\\n06/2020\\n', '\\n102 g CO2/km (comb)\\n']\n",
      "['\\n01/2019\\n', '\\n105 g CO2/km (comb)\\n']\n",
      "['\\n02/2020\\n', '\\n102 g CO2/km (comb)\\n']\n",
      "nan\n",
      "nan\n",
      "nan\n",
      "nan\n",
      "nan\n",
      "nan\n",
      "\n",
      "09/2020\n",
      "\n",
      "nan\n",
      "nan\n",
      "nan\n",
      "nan\n",
      "nan\n",
      "nan\n",
      "nan\n",
      "nan\n",
      "nan\n",
      "nan\n",
      "nan\n",
      "['\\n02/2020\\n', '\\n123 g CO2/km (comb)\\n']\n",
      "['\\n03/2021\\n', '\\n123 g CO2/km (comb)\\n']\n",
      "nan\n",
      "['\\n04/2019\\n', '\\n123 g CO2/km (comb)\\n']\n",
      "nan\n",
      "['\\n09/2021\\n', '\\n102 g CO2/km (comb)\\n']\n",
      "nan\n",
      "nan\n",
      "nan\n",
      "['\\n06/2020\\n', '\\n', '4.9 l/100 km (comb)', '\\n', '6.2 l/100 km (city)', '\\n', '4.2 l/100 km (country)', '\\n']\n",
      "nan\n",
      "['\\n11/2020\\n', '\\n106 g CO2/km (comb)\\n']\n",
      "nan\n",
      "nan\n",
      "['\\n06/2021\\n', '\\n112 g CO2/km (comb)\\n']\n",
      "nan\n",
      "['\\n07/2020\\n', '\\nEuro 6\\n']\n",
      "nan\n",
      "['\\n05/2019\\n', '\\n', '4.9 l/100 km (comb)', '\\n', '6.2 l/100 km (city)', '\\n', '4.2 l/100 km (country)', '\\n']\n",
      "['\\n05/2021\\n', '\\n102 g CO2/km (comb)\\n']\n",
      "nan\n",
      "nan\n",
      "nan\n",
      "nan\n",
      "nan\n",
      "nan\n",
      "nan\n",
      "nan\n",
      "['\\n07/2019\\n', '\\n102 g CO2/km (comb)\\n']\n",
      "['\\n03/2020\\n', '\\n99 g CO2/km (comb)\\n']\n",
      "nan\n",
      "['\\n05/2021\\n', '\\n137 g CO2/km (comb)\\n']\n",
      "nan\n",
      "['\\n02/2020\\n', '\\n112 g CO2/km (comb)\\n']\n",
      "nan\n",
      "['\\n10/2020\\n', '\\n112 g CO2/km (comb)\\n']\n",
      "nan\n",
      "['\\n06/2021\\n', '\\n104 g CO2/km (comb)\\n']\n",
      "nan\n",
      "nan\n",
      "nan\n",
      "nan\n",
      "nan\n",
      "nan\n",
      "nan\n",
      "nan\n",
      "nan\n",
      "nan\n",
      "nan\n",
      "nan\n",
      "['\\n07/2020\\n', '\\n102 g CO2/km (comb)\\n']\n",
      "nan\n",
      "nan\n",
      "nan\n",
      "['\\n04/2021\\n', '\\n116 g CO2/km (comb)\\n']\n",
      "nan\n",
      "nan\n",
      "nan\n",
      "nan\n",
      "nan\n",
      "nan\n",
      "['\\n02/2020\\n', '\\n99 g CO2/km (comb)\\n']\n",
      "nan\n",
      "nan\n",
      "nan\n",
      "['\\n06/2021\\n', '\\n123 g CO2/km (comb)\\n']\n",
      "nan\n",
      "nan\n",
      "['\\n06/2020\\n', '\\n102 g CO2/km (comb)\\n']\n",
      "nan\n",
      "nan\n",
      "nan\n",
      "['\\n06/2020\\n', '\\n109 g CO2/km (comb)\\n']\n",
      "nan\n",
      "nan\n",
      "['\\n02/2021\\n', '\\n112 g CO2/km (comb)\\n']\n",
      "nan\n",
      "nan\n",
      "nan\n",
      "['\\n04/2021\\n', '\\n', '5.2 l/100 km (comb)', '\\n', '6.7 l/100 km (city)', '\\n', '4.4 l/100 km (country)', '\\n']\n",
      "nan\n",
      "nan\n",
      "nan\n",
      "nan\n",
      "['\\n09/2021\\n', '\\n97 g CO2/km (comb)\\n']\n",
      "nan\n",
      "nan\n",
      "nan\n",
      "nan\n",
      "nan\n",
      "nan\n",
      "nan\n",
      "nan\n",
      "nan\n",
      "['\\n06/2021\\n', '\\n109 g CO2/km (comb)\\n']\n",
      "nan\n",
      "nan\n",
      "['\\n03/2021\\n', '\\n112 g CO2/km (comb)\\n']\n",
      "nan\n",
      "nan\n",
      "['\\n01/2019\\n', '\\n102 g CO2/km (comb)\\n']\n",
      "nan\n",
      "['\\n06/2020\\n', '\\n106 g CO2/km (comb)\\n']\n",
      "nan\n"
     ]
    }
   ],
   "source": [
    "for i in range(250):  \n",
    "    print(df[\"Next Inspection\"][i])"
   ]
  },
  {
   "cell_type": "code",
   "execution_count": 37,
   "metadata": {},
   "outputs": [
    {
     "data": {
      "text/plain": [
       "''"
      ]
     },
     "execution_count": 37,
     "metadata": {},
     "output_type": "execute_result"
    }
   ],
   "source": [
    "df[\"Next Inspection\"][18][0][4:8]"
   ]
  },
  {
   "cell_type": "code",
   "execution_count": 38,
   "metadata": {},
   "outputs": [
    {
     "data": {
      "text/plain": [
       "'2021'"
      ]
     },
     "execution_count": 38,
     "metadata": {},
     "output_type": "execute_result"
    }
   ],
   "source": [
    "df[\"Next Inspection\"][0][0][4:8]"
   ]
  },
  {
   "cell_type": "code",
   "execution_count": 39,
   "metadata": {},
   "outputs": [],
   "source": [
    "for i in range(len(df[\"Next Inspection\"])):\n",
    "    try:\n",
    "        if type(df[\"Next Inspection\"][i]) == list:\n",
    "            df[\"Next Inspection\"][i] = df[\"Next Inspection\"][i][0][4:8]\n",
    "        else:\n",
    "            df[\"Next Inspection\"][i] = df[\"Next Inspection\"][i][4:8]\n",
    "    except:\n",
    "        df[\"Next Inspection\"][i] = df[\"Next Inspection\"][i]"
   ]
  },
  {
   "cell_type": "code",
   "execution_count": 40,
   "metadata": {},
   "outputs": [
    {
     "data": {
      "text/plain": [
       "NaN     12384\n",
       "2021     1601\n",
       "2020      694\n",
       "2022      688\n",
       "2019      438\n",
       "2023       47\n",
       "2018       38\n",
       "2017       13\n",
       "2016        6\n",
       "2001        5\n",
       "1999        1\n",
       "2024        1\n",
       "1921        1\n",
       "2014        1\n",
       "1955        1\n",
       "Name: Next Inspection, dtype: int64"
      ]
     },
     "execution_count": 40,
     "metadata": {},
     "output_type": "execute_result"
    }
   ],
   "source": [
    "df[\"Next Inspection\"].value_counts(dropna = False)\n",
    "##nan değer seayısı çok olduğundan değerleri yok etmek ya da fill yöntemi ile doldurmak veri yanlış sonuçlar verebileceğinden doldurmadık..\n"
   ]
  },
  {
   "cell_type": "code",
   "execution_count": 41,
   "metadata": {
    "tags": []
   },
   "outputs": [
    {
     "data": {
      "text/html": [
       "<div>\n",
       "<style scoped>\n",
       "    .dataframe tbody tr th:only-of-type {\n",
       "        vertical-align: middle;\n",
       "    }\n",
       "\n",
       "    .dataframe tbody tr th {\n",
       "        vertical-align: top;\n",
       "    }\n",
       "\n",
       "    .dataframe thead th {\n",
       "        text-align: right;\n",
       "    }\n",
       "</style>\n",
       "<table border=\"1\" class=\"dataframe\">\n",
       "  <thead>\n",
       "    <tr style=\"text-align: right;\">\n",
       "      <th></th>\n",
       "      <th>make_model</th>\n",
       "      <th>short_description</th>\n",
       "      <th>body_type</th>\n",
       "      <th>price</th>\n",
       "      <th>vat</th>\n",
       "      <th>km</th>\n",
       "      <th>registration</th>\n",
       "      <th>prev_owner</th>\n",
       "      <th>hp</th>\n",
       "      <th>Type</th>\n",
       "      <th>...</th>\n",
       "      <th>Fuel</th>\n",
       "      <th>Consumption</th>\n",
       "      <th>Emission Class</th>\n",
       "      <th>Comfort &amp; Convenience</th>\n",
       "      <th>Entertainment &amp; Media</th>\n",
       "      <th>Extras</th>\n",
       "      <th>Safety &amp; Security</th>\n",
       "      <th>description</th>\n",
       "      <th>Gears</th>\n",
       "      <th>Country version</th>\n",
       "    </tr>\n",
       "  </thead>\n",
       "  <tbody>\n",
       "    <tr>\n",
       "      <th>812</th>\n",
       "      <td>Audi A1</td>\n",
       "      <td>Sportback 1.0TFSI Klimaautom. MMi Radio Sitzh....</td>\n",
       "      <td>Compact</td>\n",
       "      <td>14430</td>\n",
       "      <td>VAT deductible</td>\n",
       "      <td>13,990 km</td>\n",
       "      <td>03/2017</td>\n",
       "      <td>2 previous owners</td>\n",
       "      <td>70 kW</td>\n",
       "      <td>Used</td>\n",
       "      <td>...</td>\n",
       "      <td>[\\n, Regular/Benzine 91, \\n]</td>\n",
       "      <td>[[4.2 l/100 km (comb)], [5 l/100 km (city)], [...</td>\n",
       "      <td>[\\nEuro 6\\n]</td>\n",
       "      <td>[Air conditioning, Armrest, Automatic climate ...</td>\n",
       "      <td>[MP3, On-board computer, Radio]</td>\n",
       "      <td>[Alloy wheels, Cab or rented Car, Catalytic Co...</td>\n",
       "      <td>[ABS, Central door lock, Daytime running light...</td>\n",
       "      <td>[\\n, Technik &amp; Sicherheit:, Nebelscheinwerfer,...</td>\n",
       "      <td>NaN</td>\n",
       "      <td>[\\nGermany\\n]</td>\n",
       "    </tr>\n",
       "    <tr>\n",
       "      <th>864</th>\n",
       "      <td>Audi A1</td>\n",
       "      <td>Sportback 1.4 TFSI design S-tronic/S-line</td>\n",
       "      <td>Compact</td>\n",
       "      <td>20790</td>\n",
       "      <td>VAT deductible</td>\n",
       "      <td>15,870 km</td>\n",
       "      <td>10/2017</td>\n",
       "      <td>1 previous owner</td>\n",
       "      <td>92 kW</td>\n",
       "      <td>Used</td>\n",
       "      <td>...</td>\n",
       "      <td>[\\n, Super 95, \\n]</td>\n",
       "      <td>[[5.1 l/100 km (comb)], [6.3 l/100 km (city)],...</td>\n",
       "      <td>[\\nEuro 6\\n]</td>\n",
       "      <td>[Air conditioning, Armrest, Automatic climate ...</td>\n",
       "      <td>[Bluetooth, CD player, Hands-free equipment, O...</td>\n",
       "      <td>[Alloy wheels, Cab or rented Car, Sport seats]</td>\n",
       "      <td>[ABS, Central door lock, Daytime running light...</td>\n",
       "      <td>[\\nIhr Ansprechpartner ist Herr Daniel Voggena...</td>\n",
       "      <td>[\\n7\\n]</td>\n",
       "      <td>[\\nGermany\\n]</td>\n",
       "    </tr>\n",
       "    <tr>\n",
       "      <th>1304</th>\n",
       "      <td>Audi A1</td>\n",
       "      <td>Sportback 1.0 TFSI ADMIRED+XENON+PDC+LM</td>\n",
       "      <td>Compact</td>\n",
       "      <td>15750</td>\n",
       "      <td>VAT deductible</td>\n",
       "      <td>46,146 km</td>\n",
       "      <td>06/2017</td>\n",
       "      <td>1 previous owner</td>\n",
       "      <td>70 kW</td>\n",
       "      <td>Used</td>\n",
       "      <td>...</td>\n",
       "      <td>[\\n, Regular/Benzine 91, \\n]</td>\n",
       "      <td>[[4.4 l/100 km (comb)], [5.2 l/100 km (city)],...</td>\n",
       "      <td>[\\nEuro 6\\n]</td>\n",
       "      <td>[Air conditioning, Armrest, Automatic climate ...</td>\n",
       "      <td>[Bluetooth, CD player, Hands-free equipment, M...</td>\n",
       "      <td>[Alloy wheels, Cab or rented Car, Catalytic Co...</td>\n",
       "      <td>[ABS, Central door lock, Daytime running light...</td>\n",
       "      <td>[\\n, Technik &amp; Sicherheit:, Airbag Fahrer-/Bei...</td>\n",
       "      <td>NaN</td>\n",
       "      <td>NaN</td>\n",
       "    </tr>\n",
       "    <tr>\n",
       "      <th>1881</th>\n",
       "      <td>Audi A1</td>\n",
       "      <td>Sportback 1,0TFSI media-Paket/SHZ/PDC</td>\n",
       "      <td>Compact</td>\n",
       "      <td>16490</td>\n",
       "      <td>VAT deductible</td>\n",
       "      <td>15,870 km</td>\n",
       "      <td>01/2018</td>\n",
       "      <td>1 previous owner</td>\n",
       "      <td>70 kW</td>\n",
       "      <td>Used</td>\n",
       "      <td>...</td>\n",
       "      <td>[\\n, Super 95, \\n]</td>\n",
       "      <td>[[4.4 l/100 km (comb)], [5.2 l/100 km (city)],...</td>\n",
       "      <td>[\\nEuro 6\\n]</td>\n",
       "      <td>[Air conditioning, Armrest, Automatic climate ...</td>\n",
       "      <td>[Bluetooth, CD player, Hands-free equipment, O...</td>\n",
       "      <td>[Alloy wheels]</td>\n",
       "      <td>[ABS, Central door lock with remote control, D...</td>\n",
       "      <td>[\\n, Ihr Ansprechpartner ist Herr Klaus Palesc...</td>\n",
       "      <td>[\\n5\\n]</td>\n",
       "      <td>[\\nGermany\\n]</td>\n",
       "    </tr>\n",
       "    <tr>\n",
       "      <th>2625</th>\n",
       "      <td>Audi A3</td>\n",
       "      <td>design edition 1.6 TDI S tronic Sportb</td>\n",
       "      <td>Sedans</td>\n",
       "      <td>17490</td>\n",
       "      <td>None</td>\n",
       "      <td>22,978 km</td>\n",
       "      <td>02/2017</td>\n",
       "      <td>None</td>\n",
       "      <td>82 kW</td>\n",
       "      <td>Used</td>\n",
       "      <td>...</td>\n",
       "      <td>[\\n, Diesel, \\n]</td>\n",
       "      <td>[[3.9 l/100 km (comb)], [4.4 l/100 km (city)],...</td>\n",
       "      <td>NaN</td>\n",
       "      <td>[Air conditioning, Automatic climate control, ...</td>\n",
       "      <td>[Bluetooth]</td>\n",
       "      <td>[Alloy wheels]</td>\n",
       "      <td>NaN</td>\n",
       "      <td>[\\nClicars | El 95% de Nuestros Clientes nos V...</td>\n",
       "      <td>[\\n7\\n]</td>\n",
       "      <td>NaN</td>\n",
       "    </tr>\n",
       "    <tr>\n",
       "      <th>2752</th>\n",
       "      <td>Audi A3</td>\n",
       "      <td>2.0 TDI S tronic S line Sportback Xenon Navi</td>\n",
       "      <td>Sedans</td>\n",
       "      <td>17900</td>\n",
       "      <td>None</td>\n",
       "      <td>89,325 km</td>\n",
       "      <td>03/2016</td>\n",
       "      <td>2 previous owners</td>\n",
       "      <td>110 kW</td>\n",
       "      <td>Used</td>\n",
       "      <td>...</td>\n",
       "      <td>[\\n, Diesel (Particulate Filter), \\n]</td>\n",
       "      <td>[[4.6 l/100 km (comb)], [5.4 l/100 km (city)],...</td>\n",
       "      <td>[\\nEuro 6\\n]</td>\n",
       "      <td>[Air conditioning, Armrest, Automatic climate ...</td>\n",
       "      <td>[Bluetooth, CD player, Hands-free equipment, O...</td>\n",
       "      <td>[Alloy wheels, Roof rack, Sport package, Sport...</td>\n",
       "      <td>[ABS, Adaptive headlights, Alarm system, Centr...</td>\n",
       "      <td>[\\n, Audi A 3 2.0 TDi 110 KW 150 PS, 2. Hand, ...</td>\n",
       "      <td>NaN</td>\n",
       "      <td>NaN</td>\n",
       "    </tr>\n",
       "    <tr>\n",
       "      <th>2802</th>\n",
       "      <td>Audi A3</td>\n",
       "      <td>design edition 1.6 TDI S tronic Sportb</td>\n",
       "      <td>Sedans</td>\n",
       "      <td>17490</td>\n",
       "      <td>None</td>\n",
       "      <td>22,978 km</td>\n",
       "      <td>02/2017</td>\n",
       "      <td>None</td>\n",
       "      <td>82 kW</td>\n",
       "      <td>Used</td>\n",
       "      <td>...</td>\n",
       "      <td>[\\n, Diesel, \\n]</td>\n",
       "      <td>[[3.9 l/100 km (comb)], [4.4 l/100 km (city)],...</td>\n",
       "      <td>NaN</td>\n",
       "      <td>[Air conditioning, Automatic climate control, ...</td>\n",
       "      <td>[Bluetooth]</td>\n",
       "      <td>[Alloy wheels]</td>\n",
       "      <td>NaN</td>\n",
       "      <td>[\\nClicars | El 95% de Nuestros Clientes nos V...</td>\n",
       "      <td>[\\n7\\n]</td>\n",
       "      <td>NaN</td>\n",
       "    </tr>\n",
       "    <tr>\n",
       "      <th>2803</th>\n",
       "      <td>Audi A3</td>\n",
       "      <td>design edition 1.6 TDI S tronic Sportb</td>\n",
       "      <td>Sedans</td>\n",
       "      <td>17490</td>\n",
       "      <td>None</td>\n",
       "      <td>22,978 km</td>\n",
       "      <td>02/2017</td>\n",
       "      <td>None</td>\n",
       "      <td>82 kW</td>\n",
       "      <td>Used</td>\n",
       "      <td>...</td>\n",
       "      <td>[\\n, Diesel, \\n]</td>\n",
       "      <td>[[3.9 l/100 km (comb)], [4.4 l/100 km (city)],...</td>\n",
       "      <td>NaN</td>\n",
       "      <td>[Air conditioning, Automatic climate control, ...</td>\n",
       "      <td>[Bluetooth]</td>\n",
       "      <td>[Alloy wheels]</td>\n",
       "      <td>NaN</td>\n",
       "      <td>[\\nClicars | El 95% de Nuestros Clientes nos V...</td>\n",
       "      <td>[\\n7\\n]</td>\n",
       "      <td>NaN</td>\n",
       "    </tr>\n",
       "    <tr>\n",
       "      <th>2948</th>\n",
       "      <td>Audi A3</td>\n",
       "      <td>SPB 1.6 TDI S tronic Sport</td>\n",
       "      <td>Sedans</td>\n",
       "      <td>15890</td>\n",
       "      <td>VAT deductible</td>\n",
       "      <td>150,000 km</td>\n",
       "      <td>11/2016</td>\n",
       "      <td>None</td>\n",
       "      <td>81 kW</td>\n",
       "      <td>Used</td>\n",
       "      <td>...</td>\n",
       "      <td>[\\n, Diesel (Particulate Filter), \\n]</td>\n",
       "      <td>[[3.8 l/100 km (comb)], [4.3 l/100 km (city)],...</td>\n",
       "      <td>[\\nEuro 6\\n]</td>\n",
       "      <td>[Air conditioning, Armrest, Automatic climate ...</td>\n",
       "      <td>[Bluetooth, Hands-free equipment, MP3, On-boar...</td>\n",
       "      <td>[Alloy wheels, Catalytic Converter, Shift padd...</td>\n",
       "      <td>[ABS, Alarm system, Central door lock, Central...</td>\n",
       "      <td>[\\nAutovettura tenuta in maniera maniacale , k...</td>\n",
       "      <td>[\\n7\\n]</td>\n",
       "      <td>NaN</td>\n",
       "    </tr>\n",
       "    <tr>\n",
       "      <th>2966</th>\n",
       "      <td>Audi A3</td>\n",
       "      <td>Sportback 1.6 TDI 110 Business Line S tronic 7</td>\n",
       "      <td>Sedans</td>\n",
       "      <td>14490</td>\n",
       "      <td>None</td>\n",
       "      <td>120,000 km</td>\n",
       "      <td>01/2016</td>\n",
       "      <td>None</td>\n",
       "      <td>81 kW</td>\n",
       "      <td>Used</td>\n",
       "      <td>...</td>\n",
       "      <td>[\\n, Diesel, \\n]</td>\n",
       "      <td>[[3.9 l/100 km (comb)], [4.4 l/100 km (city)],...</td>\n",
       "      <td>[\\nEuro 6\\n]</td>\n",
       "      <td>[Air conditioning, Armrest, Automatic climate ...</td>\n",
       "      <td>[CD player, MP3, On-board computer, Radio]</td>\n",
       "      <td>[Alloy wheels, Sport seats]</td>\n",
       "      <td>[ABS, Central door lock with remote control, D...</td>\n",
       "      <td>[\\nAudi A3 SportBack 1.6 TDI 110 Business Line...</td>\n",
       "      <td>[\\n7\\n]</td>\n",
       "      <td>NaN</td>\n",
       "    </tr>\n",
       "    <tr>\n",
       "      <th>6649</th>\n",
       "      <td>Opel Astra</td>\n",
       "      <td>K Sports Tourer Dynamic S/S NAVI RF 900 AT</td>\n",
       "      <td>Station wagon</td>\n",
       "      <td>16980</td>\n",
       "      <td>VAT deductible</td>\n",
       "      <td>24,638 km</td>\n",
       "      <td>08/2018</td>\n",
       "      <td>1 previous owner</td>\n",
       "      <td>100 kW</td>\n",
       "      <td>Employee's car</td>\n",
       "      <td>...</td>\n",
       "      <td>[\\n, Diesel (Particulate Filter), \\n]</td>\n",
       "      <td>[[4.5 l/100 km (comb)], [5.7 l/100 km (city)],...</td>\n",
       "      <td>[\\nEuro 6\\n]</td>\n",
       "      <td>[Air conditioning, Armrest, Automatic climate ...</td>\n",
       "      <td>[Bluetooth, Hands-free equipment, On-board com...</td>\n",
       "      <td>[Alloy wheels, Roof rack, Touch screen, Voice ...</td>\n",
       "      <td>[ABS, Central door lock, Daytime running light...</td>\n",
       "      <td>[\\n, Sonderausstattung:, Allwetter-/ Ganzjahre...</td>\n",
       "      <td>NaN</td>\n",
       "      <td>[\\nGermany\\n]</td>\n",
       "    </tr>\n",
       "    <tr>\n",
       "      <th>6748</th>\n",
       "      <td>Opel Astra</td>\n",
       "      <td>K 5türig Edition 1.6 CDTI</td>\n",
       "      <td>Sedans</td>\n",
       "      <td>12945</td>\n",
       "      <td>VAT deductible</td>\n",
       "      <td>15,250 km</td>\n",
       "      <td>10/2017</td>\n",
       "      <td>1 previous owner</td>\n",
       "      <td>70 kW</td>\n",
       "      <td>Used</td>\n",
       "      <td>...</td>\n",
       "      <td>[\\n, Diesel (Particulate Filter), \\n]</td>\n",
       "      <td>[[3.6 l/100 km (comb)], [4.2 l/100 km (city)],...</td>\n",
       "      <td>[\\nEuro 6\\n]</td>\n",
       "      <td>[Air conditioning, Armrest, Cruise control, El...</td>\n",
       "      <td>[Bluetooth, Hands-free equipment, MP3, On-boar...</td>\n",
       "      <td>NaN</td>\n",
       "      <td>[ABS, Central door lock, Daytime running light...</td>\n",
       "      <td>[\\n, Getriebe:,  Schaltgetriebe, Technik:,  Bo...</td>\n",
       "      <td>[\\n6\\n]</td>\n",
       "      <td>NaN</td>\n",
       "    </tr>\n",
       "    <tr>\n",
       "      <th>6821</th>\n",
       "      <td>Opel Astra</td>\n",
       "      <td>1.0 Turbo S/S Selective</td>\n",
       "      <td>Other</td>\n",
       "      <td>12900</td>\n",
       "      <td>None</td>\n",
       "      <td>15,900 km</td>\n",
       "      <td>03/2018</td>\n",
       "      <td>None</td>\n",
       "      <td>77 kW</td>\n",
       "      <td>Used</td>\n",
       "      <td>...</td>\n",
       "      <td>[\\n, Gasoline, \\n]</td>\n",
       "      <td>NaN</td>\n",
       "      <td>NaN</td>\n",
       "      <td>NaN</td>\n",
       "      <td>NaN</td>\n",
       "      <td>NaN</td>\n",
       "      <td>NaN</td>\n",
       "      <td>[\\n-CONCESIONARIOS OFICIALES CITROËN Y OPEL CO...</td>\n",
       "      <td>[\\n5\\n]</td>\n",
       "      <td>NaN</td>\n",
       "    </tr>\n",
       "    <tr>\n",
       "      <th>7252</th>\n",
       "      <td>Opel Astra</td>\n",
       "      <td>1.6 CDTi 110 CV Dynamic</td>\n",
       "      <td>Other</td>\n",
       "      <td>14990</td>\n",
       "      <td>None</td>\n",
       "      <td>8,821 km</td>\n",
       "      <td>09/2018</td>\n",
       "      <td>1 previous owner</td>\n",
       "      <td>81 kW</td>\n",
       "      <td>Used</td>\n",
       "      <td>...</td>\n",
       "      <td>[\\n, Diesel, \\n]</td>\n",
       "      <td>[[3.7 l/100 km (comb)], [4.2 l/100 km (city)],...</td>\n",
       "      <td>[\\nEuro 6\\n]</td>\n",
       "      <td>NaN</td>\n",
       "      <td>NaN</td>\n",
       "      <td>NaN</td>\n",
       "      <td>NaN</td>\n",
       "      <td>[]</td>\n",
       "      <td>[\\n6\\n]</td>\n",
       "      <td>NaN</td>\n",
       "    </tr>\n",
       "    <tr>\n",
       "      <th>7269</th>\n",
       "      <td>Opel Astra</td>\n",
       "      <td>K 1.4 Turbo 125 PS PDC Navi Sitzhzg. uvm.</td>\n",
       "      <td>Sedans</td>\n",
       "      <td>15450</td>\n",
       "      <td>VAT deductible</td>\n",
       "      <td>13,500 km</td>\n",
       "      <td>01/2018</td>\n",
       "      <td>1 previous owner</td>\n",
       "      <td>92 kW</td>\n",
       "      <td>Used</td>\n",
       "      <td>...</td>\n",
       "      <td>[\\n, Super 95, \\n]</td>\n",
       "      <td>[[5.1 l/100 km (comb)], [6.3 l/100 km (city)],...</td>\n",
       "      <td>[\\nEuro 6\\n]</td>\n",
       "      <td>[Air conditioning, Automatic climate control, ...</td>\n",
       "      <td>[Bluetooth, Hands-free equipment, On-board com...</td>\n",
       "      <td>[Touch screen, Voice Control]</td>\n",
       "      <td>[ABS, Central door lock, Daytime running light...</td>\n",
       "      <td>[\\nUnfallfrei, Euro6, Apple CarPlay, Android A...</td>\n",
       "      <td>NaN</td>\n",
       "      <td>NaN</td>\n",
       "    </tr>\n",
       "    <tr>\n",
       "      <th>7347</th>\n",
       "      <td>Opel Astra</td>\n",
       "      <td>1.6 CDTi 81kW (110CV) Dynamic</td>\n",
       "      <td>Other</td>\n",
       "      <td>15190</td>\n",
       "      <td>None</td>\n",
       "      <td>17,185 km</td>\n",
       "      <td>06/2018</td>\n",
       "      <td>None</td>\n",
       "      <td>81 kW</td>\n",
       "      <td>Used</td>\n",
       "      <td>...</td>\n",
       "      <td>[\\n, Diesel, \\n]</td>\n",
       "      <td>NaN</td>\n",
       "      <td>NaN</td>\n",
       "      <td>NaN</td>\n",
       "      <td>NaN</td>\n",
       "      <td>NaN</td>\n",
       "      <td>NaN</td>\n",
       "      <td>[\\nFERTA FINANCIACIÓN 15.190€\\n]</td>\n",
       "      <td>[\\n6\\n]</td>\n",
       "      <td>NaN</td>\n",
       "    </tr>\n",
       "    <tr>\n",
       "      <th>7381</th>\n",
       "      <td>Opel Astra</td>\n",
       "      <td>K 1.0 Edition Start/Stop +SITZHEIZUNG+</td>\n",
       "      <td>Sedans</td>\n",
       "      <td>14940</td>\n",
       "      <td>VAT deductible</td>\n",
       "      <td>17,980 km</td>\n",
       "      <td>08/2018</td>\n",
       "      <td>1 previous owner</td>\n",
       "      <td>77 kW</td>\n",
       "      <td>Employee's car</td>\n",
       "      <td>...</td>\n",
       "      <td>[\\n, Super E10 95, \\n]</td>\n",
       "      <td>[[4.5 l/100 km (comb)], [5.4 l/100 km (city)],...</td>\n",
       "      <td>[\\nEuro 6d-TEMP\\n]</td>\n",
       "      <td>[Air conditioning, Cruise control, Electrical ...</td>\n",
       "      <td>[Bluetooth, Hands-free equipment, MP3, On-boar...</td>\n",
       "      <td>[Touch screen]</td>\n",
       "      <td>[ABS, Central door lock, Daytime running light...</td>\n",
       "      <td>[\\n, Sonderausstattung,  ,  , Allwetter-/ Ganz...</td>\n",
       "      <td>[\\n5\\n]</td>\n",
       "      <td>NaN</td>\n",
       "    </tr>\n",
       "    <tr>\n",
       "      <th>7399</th>\n",
       "      <td>Opel Astra</td>\n",
       "      <td>1.6 CDTi 110 CV Selective</td>\n",
       "      <td>Other</td>\n",
       "      <td>14990</td>\n",
       "      <td>None</td>\n",
       "      <td>5,551 km</td>\n",
       "      <td>12/2018</td>\n",
       "      <td>1 previous owner</td>\n",
       "      <td>81 kW</td>\n",
       "      <td>Used</td>\n",
       "      <td>...</td>\n",
       "      <td>[\\n, Diesel, \\n]</td>\n",
       "      <td>[[3.7 l/100 km (comb)], [4.2 l/100 km (city)],...</td>\n",
       "      <td>[\\nEuro 6\\n]</td>\n",
       "      <td>NaN</td>\n",
       "      <td>NaN</td>\n",
       "      <td>NaN</td>\n",
       "      <td>NaN</td>\n",
       "      <td>[]</td>\n",
       "      <td>[\\n6\\n]</td>\n",
       "      <td>NaN</td>\n",
       "    </tr>\n",
       "    <tr>\n",
       "      <th>7449</th>\n",
       "      <td>Opel Astra</td>\n",
       "      <td>1.6 CDTi 110 CV Dynamic</td>\n",
       "      <td>Other</td>\n",
       "      <td>14890</td>\n",
       "      <td>None</td>\n",
       "      <td>9,000 km</td>\n",
       "      <td>10/2018</td>\n",
       "      <td>None</td>\n",
       "      <td>81 kW</td>\n",
       "      <td>Used</td>\n",
       "      <td>...</td>\n",
       "      <td>[\\n, Diesel, \\n]</td>\n",
       "      <td>NaN</td>\n",
       "      <td>NaN</td>\n",
       "      <td>NaN</td>\n",
       "      <td>NaN</td>\n",
       "      <td>NaN</td>\n",
       "      <td>NaN</td>\n",
       "      <td>[\\nCONCESIONARIO OFICIAL OPEL DISO HUELVA.\\n]</td>\n",
       "      <td>[\\n6\\n]</td>\n",
       "      <td>NaN</td>\n",
       "    </tr>\n",
       "    <tr>\n",
       "      <th>7450</th>\n",
       "      <td>Opel Astra</td>\n",
       "      <td>1.6 CDTi 110 CV Dynamic</td>\n",
       "      <td>Other</td>\n",
       "      <td>14890</td>\n",
       "      <td>None</td>\n",
       "      <td>9,500 km</td>\n",
       "      <td>10/2018</td>\n",
       "      <td>None</td>\n",
       "      <td>81 kW</td>\n",
       "      <td>Used</td>\n",
       "      <td>...</td>\n",
       "      <td>[\\n, Diesel, \\n]</td>\n",
       "      <td>NaN</td>\n",
       "      <td>NaN</td>\n",
       "      <td>NaN</td>\n",
       "      <td>NaN</td>\n",
       "      <td>NaN</td>\n",
       "      <td>NaN</td>\n",
       "      <td>[\\nCONCESIONARIO OFICIAL OPEL DISO HUELVA.\\n]</td>\n",
       "      <td>[\\n6\\n]</td>\n",
       "      <td>NaN</td>\n",
       "    </tr>\n",
       "    <tr>\n",
       "      <th>7451</th>\n",
       "      <td>Opel Astra</td>\n",
       "      <td>1.6 CDTi 110 CV Dynamic</td>\n",
       "      <td>Other</td>\n",
       "      <td>14890</td>\n",
       "      <td>None</td>\n",
       "      <td>7,200 km</td>\n",
       "      <td>10/2018</td>\n",
       "      <td>None</td>\n",
       "      <td>81 kW</td>\n",
       "      <td>Used</td>\n",
       "      <td>...</td>\n",
       "      <td>[\\n, Diesel, \\n]</td>\n",
       "      <td>NaN</td>\n",
       "      <td>NaN</td>\n",
       "      <td>NaN</td>\n",
       "      <td>NaN</td>\n",
       "      <td>NaN</td>\n",
       "      <td>NaN</td>\n",
       "      <td>[\\nCONCESIONARIO OFICIAL OPEL DISO HUELVA.\\n]</td>\n",
       "      <td>[\\n6\\n]</td>\n",
       "      <td>NaN</td>\n",
       "    </tr>\n",
       "    <tr>\n",
       "      <th>7543</th>\n",
       "      <td>Opel Astra</td>\n",
       "      <td>1.6 CDTi 81kW (110CV) Selective</td>\n",
       "      <td>Other</td>\n",
       "      <td>13900</td>\n",
       "      <td>None</td>\n",
       "      <td>4,800 km</td>\n",
       "      <td>10/2018</td>\n",
       "      <td>None</td>\n",
       "      <td>81 kW</td>\n",
       "      <td>Used</td>\n",
       "      <td>...</td>\n",
       "      <td>[\\n, Diesel, \\n]</td>\n",
       "      <td>NaN</td>\n",
       "      <td>NaN</td>\n",
       "      <td>NaN</td>\n",
       "      <td>NaN</td>\n",
       "      <td>NaN</td>\n",
       "      <td>NaN</td>\n",
       "      <td>[\\nCONCESIONARIO OFICIAL OPEL DISO HUELVA.\\n]</td>\n",
       "      <td>[\\n6\\n]</td>\n",
       "      <td>NaN</td>\n",
       "    </tr>\n",
       "    <tr>\n",
       "      <th>8664</th>\n",
       "      <td>Opel Corsa</td>\n",
       "      <td>1.2 Selection*Klima*Allwetter*Radio*</td>\n",
       "      <td>Compact</td>\n",
       "      <td>7490</td>\n",
       "      <td>None</td>\n",
       "      <td>42,374 km</td>\n",
       "      <td>04/2016</td>\n",
       "      <td>2 previous owners</td>\n",
       "      <td>51 kW</td>\n",
       "      <td>Used</td>\n",
       "      <td>...</td>\n",
       "      <td>[\\n, Super 95, \\n]</td>\n",
       "      <td>[[5.6 l/100 km (comb)], [7.3 l/100 km (city)],...</td>\n",
       "      <td>[\\nEuro 6\\n]</td>\n",
       "      <td>[Air conditioning, Electrical side mirrors, Hi...</td>\n",
       "      <td>[MP3, On-board computer, Radio, Sound system]</td>\n",
       "      <td>NaN</td>\n",
       "      <td>[ABS, Central door lock, Daytime running light...</td>\n",
       "      <td>[\\n, Paket: Cool &amp; Sound - Klimaanlage - Infot...</td>\n",
       "      <td>NaN</td>\n",
       "      <td>[\\nGermany\\n]</td>\n",
       "    </tr>\n",
       "    <tr>\n",
       "      <th>9325</th>\n",
       "      <td>Opel Corsa</td>\n",
       "      <td>1.4 5 Jahresgarantie 3 Inspektionen</td>\n",
       "      <td>Compact</td>\n",
       "      <td>13990</td>\n",
       "      <td>VAT deductible</td>\n",
       "      <td>5,310 km</td>\n",
       "      <td>10/2018</td>\n",
       "      <td>1 previous owner</td>\n",
       "      <td>66 kW</td>\n",
       "      <td>Used</td>\n",
       "      <td>...</td>\n",
       "      <td>[\\n, Super 95 / Regular/Benzine 91, \\n]</td>\n",
       "      <td>NaN</td>\n",
       "      <td>[\\nEuro 6\\n]</td>\n",
       "      <td>[Air conditioning, Cruise control, Electrical ...</td>\n",
       "      <td>[Bluetooth, Hands-free equipment, On-board com...</td>\n",
       "      <td>[Alloy wheels]</td>\n",
       "      <td>[ABS, Central door lock, Daytime running light...</td>\n",
       "      <td>[\\nIhre Ansprechpartner für dieses KFZ:,  ,  ,...</td>\n",
       "      <td>[\\n6\\n]</td>\n",
       "      <td>[\\nGermany\\n]</td>\n",
       "    </tr>\n",
       "    <tr>\n",
       "      <th>9540</th>\n",
       "      <td>Opel Corsa</td>\n",
       "      <td>E Selection | Cool &amp; Sound-Paket</td>\n",
       "      <td>Compact</td>\n",
       "      <td>9790</td>\n",
       "      <td>VAT deductible</td>\n",
       "      <td>50 km</td>\n",
       "      <td>11/2018</td>\n",
       "      <td>1 previous owner</td>\n",
       "      <td>51 kW</td>\n",
       "      <td>Pre-registered</td>\n",
       "      <td>...</td>\n",
       "      <td>[\\n, Super 95, \\n]</td>\n",
       "      <td>[[5.6 l/100 km (comb)], [7.1 l/100 km (city)],...</td>\n",
       "      <td>[\\nEuro 6d-TEMP\\n]</td>\n",
       "      <td>[Air conditioning, Electrical side mirrors, Hi...</td>\n",
       "      <td>[Radio]</td>\n",
       "      <td>NaN</td>\n",
       "      <td>[ABS, Central door lock, Daytime running light...</td>\n",
       "      <td>[\\n, E10 geeignet, Interieurfarbe Schwarz, Int...</td>\n",
       "      <td>NaN</td>\n",
       "      <td>[\\nGermany\\n]</td>\n",
       "    </tr>\n",
       "    <tr>\n",
       "      <th>10862</th>\n",
       "      <td>Opel Insignia</td>\n",
       "      <td>A 1,6 CDTI Sports Tou NAVI,AppleCarplay</td>\n",
       "      <td>Station wagon</td>\n",
       "      <td>11490</td>\n",
       "      <td>VAT deductible</td>\n",
       "      <td>89,200 km</td>\n",
       "      <td>09/2016</td>\n",
       "      <td>1 previous owner</td>\n",
       "      <td>100 kW</td>\n",
       "      <td>Used</td>\n",
       "      <td>...</td>\n",
       "      <td>[\\n, Diesel, \\n]</td>\n",
       "      <td>[[5.1 l/100 km (comb)], [], []]</td>\n",
       "      <td>[\\nEuro 6\\n]</td>\n",
       "      <td>[Air conditioning, Armrest, Automatic climate ...</td>\n",
       "      <td>[Bluetooth, CD player, Hands-free equipment, O...</td>\n",
       "      <td>[Roof rack, Touch screen]</td>\n",
       "      <td>[ABS, Central door lock, Daytime running light...</td>\n",
       "      <td>[\\n, Sonderausstattung:, NAVI,PDC, AppleCarpla...</td>\n",
       "      <td>NaN</td>\n",
       "      <td>[\\nGermany\\n]</td>\n",
       "    </tr>\n",
       "    <tr>\n",
       "      <th>11330</th>\n",
       "      <td>Opel Insignia</td>\n",
       "      <td>2.0 CDTI AT Innov. *Matrix-LED*Kamera*</td>\n",
       "      <td>Sedans</td>\n",
       "      <td>20990</td>\n",
       "      <td>VAT deductible</td>\n",
       "      <td>29,800 km</td>\n",
       "      <td>10/2017</td>\n",
       "      <td>1 previous owner</td>\n",
       "      <td>125 kW</td>\n",
       "      <td>Used</td>\n",
       "      <td>...</td>\n",
       "      <td>[\\n, Diesel, \\n]</td>\n",
       "      <td>NaN</td>\n",
       "      <td>[[], [], []]</td>\n",
       "      <td>[Air conditioning, Armrest, Automatic climate ...</td>\n",
       "      <td>[Bluetooth, Hands-free equipment, MP3, USB]</td>\n",
       "      <td>[Alloy wheels]</td>\n",
       "      <td>[ABS, Adaptive headlights, Central door lock, ...</td>\n",
       "      <td>[\\n, Fahrtauglich, Unfallfrei, Herstellergaran...</td>\n",
       "      <td>NaN</td>\n",
       "      <td>[\\nGermany\\n]</td>\n",
       "    </tr>\n",
       "    <tr>\n",
       "      <th>11436</th>\n",
       "      <td>Opel Insignia</td>\n",
       "      <td>1.6 CDTI AT GS Inno *Matrix*Navi*Kamera*</td>\n",
       "      <td>Sedans</td>\n",
       "      <td>19670</td>\n",
       "      <td>VAT deductible</td>\n",
       "      <td>19,500 km</td>\n",
       "      <td>12/2017</td>\n",
       "      <td>1 previous owner</td>\n",
       "      <td>100 kW</td>\n",
       "      <td>Used</td>\n",
       "      <td>...</td>\n",
       "      <td>[\\n, Diesel (Particulate Filter), \\n]</td>\n",
       "      <td>NaN</td>\n",
       "      <td>[[], [], []]</td>\n",
       "      <td>[Air conditioning, Armrest, Automatic climate ...</td>\n",
       "      <td>[Bluetooth, Hands-free equipment, MP3, USB]</td>\n",
       "      <td>[Alloy wheels]</td>\n",
       "      <td>[ABS, Adaptive headlights, Central door lock, ...</td>\n",
       "      <td>[\\n, Fahrtauglich, Unfallfrei, Herstellergaran...</td>\n",
       "      <td>[\\n6\\n]</td>\n",
       "      <td>[\\nGermany\\n]</td>\n",
       "    </tr>\n",
       "    <tr>\n",
       "      <th>11445</th>\n",
       "      <td>Opel Insignia</td>\n",
       "      <td>Grand Sport Edition 1.6 CDTI, Navi, Klimaaut, ...</td>\n",
       "      <td>Sedans</td>\n",
       "      <td>19490</td>\n",
       "      <td>VAT deductible</td>\n",
       "      <td>30,339 km</td>\n",
       "      <td>07/2017</td>\n",
       "      <td>1 previous owner</td>\n",
       "      <td>100 kW</td>\n",
       "      <td>Used</td>\n",
       "      <td>...</td>\n",
       "      <td>[\\n, Diesel (Particulate Filter), \\n]</td>\n",
       "      <td>[[5.1 l/100 km (comb)], [6.1 l/100 km (city)],...</td>\n",
       "      <td>[\\nEuro 6\\n]</td>\n",
       "      <td>[Air conditioning, Armrest, Automatic climate ...</td>\n",
       "      <td>[Bluetooth, Hands-free equipment, MP3, On-boar...</td>\n",
       "      <td>[Alloy wheels, Catalytic Converter]</td>\n",
       "      <td>[ABS, Central door lock, Daytime running light...</td>\n",
       "      <td>[\\n, Getriebe:,  Automatik, Technik:,  Bordcom...</td>\n",
       "      <td>[\\n6\\n]</td>\n",
       "      <td>NaN</td>\n",
       "    </tr>\n",
       "    <tr>\n",
       "      <th>11517</th>\n",
       "      <td>Opel Insignia</td>\n",
       "      <td>1.6 CDTI AT Innov. *Matrix*Navi*Kamera*</td>\n",
       "      <td>Sedans</td>\n",
       "      <td>18890</td>\n",
       "      <td>VAT deductible</td>\n",
       "      <td>24,800 km</td>\n",
       "      <td>11/2017</td>\n",
       "      <td>1 previous owner</td>\n",
       "      <td>100 kW</td>\n",
       "      <td>Used</td>\n",
       "      <td>...</td>\n",
       "      <td>[\\n, Diesel (Particulate Filter), \\n]</td>\n",
       "      <td>NaN</td>\n",
       "      <td>[[], [], []]</td>\n",
       "      <td>[Air conditioning, Armrest, Automatic climate ...</td>\n",
       "      <td>[Bluetooth, Hands-free equipment, MP3, On-boar...</td>\n",
       "      <td>NaN</td>\n",
       "      <td>[ABS, Adaptive headlights, Central door lock, ...</td>\n",
       "      <td>[\\n, Fahrtauglich, Unfallfrei, Herstellergaran...</td>\n",
       "      <td>[\\n6\\n]</td>\n",
       "      <td>[\\nGermany\\n]</td>\n",
       "    </tr>\n",
       "    <tr>\n",
       "      <th>11518</th>\n",
       "      <td>Opel Insignia</td>\n",
       "      <td>1.6 CDTI AT Innov. *Matrix*Navi*Kamera*</td>\n",
       "      <td>Sedans</td>\n",
       "      <td>18890</td>\n",
       "      <td>VAT deductible</td>\n",
       "      <td>26,100 km</td>\n",
       "      <td>11/2017</td>\n",
       "      <td>1 previous owner</td>\n",
       "      <td>100 kW</td>\n",
       "      <td>Used</td>\n",
       "      <td>...</td>\n",
       "      <td>[\\n, Diesel (Particulate Filter), \\n]</td>\n",
       "      <td>NaN</td>\n",
       "      <td>[[], [], []]</td>\n",
       "      <td>[Air conditioning, Armrest, Automatic climate ...</td>\n",
       "      <td>[Bluetooth, Hands-free equipment, MP3, On-boar...</td>\n",
       "      <td>[Alloy wheels]</td>\n",
       "      <td>[ABS, Adaptive headlights, Central door lock, ...</td>\n",
       "      <td>[\\n, Fahrtauglich, Unfallfrei, Herstellergaran...</td>\n",
       "      <td>[\\n6\\n]</td>\n",
       "      <td>[\\nGermany\\n]</td>\n",
       "    </tr>\n",
       "    <tr>\n",
       "      <th>11734</th>\n",
       "      <td>Opel Insignia</td>\n",
       "      <td>ST.2,0l Innovation Navi Kamera elektr.Heckklappe</td>\n",
       "      <td>Station wagon</td>\n",
       "      <td>17980</td>\n",
       "      <td>VAT deductible</td>\n",
       "      <td>22,321 km</td>\n",
       "      <td>03/2017</td>\n",
       "      <td>1 previous owner</td>\n",
       "      <td>125 kW</td>\n",
       "      <td>Used</td>\n",
       "      <td>...</td>\n",
       "      <td>[\\n, Diesel (Particulate Filter), \\n]</td>\n",
       "      <td>[[4.5 l/100 km (comb)], [5.7 l/100 km (city)],...</td>\n",
       "      <td>[\\nEuro 6\\n]</td>\n",
       "      <td>[Air conditioning, Armrest, Automatic climate ...</td>\n",
       "      <td>[Bluetooth, CD player, Hands-free equipment, M...</td>\n",
       "      <td>[Alloy wheels, Catalytic Converter, Roof rack]</td>\n",
       "      <td>[ABS, Adaptive headlights, Blind spot monitor,...</td>\n",
       "      <td>[\\n, Getriebe:,  Schaltgetriebe, Technik:,  Bo...</td>\n",
       "      <td>[\\n6\\n]</td>\n",
       "      <td>NaN</td>\n",
       "    </tr>\n",
       "    <tr>\n",
       "      <th>12051</th>\n",
       "      <td>Opel Insignia</td>\n",
       "      <td>Sports Tourer Dynamic NAVI LED SH AT</td>\n",
       "      <td>Station wagon</td>\n",
       "      <td>22540</td>\n",
       "      <td>VAT deductible</td>\n",
       "      <td>25,074 km</td>\n",
       "      <td>07/2018</td>\n",
       "      <td>1 previous owner</td>\n",
       "      <td>125 kW</td>\n",
       "      <td>Employee's car</td>\n",
       "      <td>...</td>\n",
       "      <td>[\\n, Diesel (Particulate Filter), \\n]</td>\n",
       "      <td>[[5.6 l/100 km (comb)], [7.1 l/100 km (city)],...</td>\n",
       "      <td>[\\nEuro 6\\n]</td>\n",
       "      <td>[Air conditioning, Armrest, Automatic climate ...</td>\n",
       "      <td>[Bluetooth, Hands-free equipment, On-board com...</td>\n",
       "      <td>[Alloy wheels, Ski bag, Sport seats, Touch scr...</td>\n",
       "      <td>[ABS, Adaptive headlights, Central door lock, ...</td>\n",
       "      <td>[\\n, Sonderausstattung:, Innovations-Paket 1, ...</td>\n",
       "      <td>NaN</td>\n",
       "      <td>[\\nGermany\\n]</td>\n",
       "    </tr>\n",
       "    <tr>\n",
       "      <th>12079</th>\n",
       "      <td>Opel Insignia</td>\n",
       "      <td>B Sports Tourer Innovati NAVI RF 900 AT</td>\n",
       "      <td>Station wagon</td>\n",
       "      <td>22450</td>\n",
       "      <td>VAT deductible</td>\n",
       "      <td>33,970 km</td>\n",
       "      <td>07/2018</td>\n",
       "      <td>1 previous owner</td>\n",
       "      <td>125 kW</td>\n",
       "      <td>Employee's car</td>\n",
       "      <td>...</td>\n",
       "      <td>[\\n, Diesel (Particulate Filter), \\n]</td>\n",
       "      <td>NaN</td>\n",
       "      <td>[[], [], []]</td>\n",
       "      <td>[Air conditioning, Armrest, Automatic climate ...</td>\n",
       "      <td>[Bluetooth, Hands-free equipment, On-board com...</td>\n",
       "      <td>[Alloy wheels, Shift paddles, Ski bag, Sport s...</td>\n",
       "      <td>[ABS, Adaptive headlights, Alarm system, Centr...</td>\n",
       "      <td>[\\n, Sonderausstattung:, Ergonomiesitz vorn re...</td>\n",
       "      <td>NaN</td>\n",
       "      <td>[\\nGermany\\n]</td>\n",
       "    </tr>\n",
       "    <tr>\n",
       "      <th>12084</th>\n",
       "      <td>Opel Insignia</td>\n",
       "      <td>A Sports Tourer Innovat NAVI RF 900 AT</td>\n",
       "      <td>Station wagon</td>\n",
       "      <td>22450</td>\n",
       "      <td>VAT deductible</td>\n",
       "      <td>31,031 km</td>\n",
       "      <td>07/2018</td>\n",
       "      <td>1 previous owner</td>\n",
       "      <td>125 kW</td>\n",
       "      <td>Employee's car</td>\n",
       "      <td>...</td>\n",
       "      <td>[\\n, Diesel (Particulate Filter), \\n]</td>\n",
       "      <td>NaN</td>\n",
       "      <td>[[], [], []]</td>\n",
       "      <td>[Air conditioning, Armrest, Automatic climate ...</td>\n",
       "      <td>[Bluetooth, Hands-free equipment, On-board com...</td>\n",
       "      <td>[Alloy wheels, Shift paddles, Ski bag, Sport s...</td>\n",
       "      <td>[ABS, Adaptive headlights, Alarm system, Centr...</td>\n",
       "      <td>[\\n, Sonderausstattung:, Ergonomiesitz vorn re...</td>\n",
       "      <td>NaN</td>\n",
       "      <td>[\\nGermany\\n]</td>\n",
       "    </tr>\n",
       "    <tr>\n",
       "      <th>12319</th>\n",
       "      <td>Opel Insignia</td>\n",
       "      <td>ST 1.6 CDTi 100kW ecoTEC D Selective</td>\n",
       "      <td>Station wagon</td>\n",
       "      <td>19990</td>\n",
       "      <td>None</td>\n",
       "      <td>1,501 km</td>\n",
       "      <td>10/2018</td>\n",
       "      <td>1 previous owner</td>\n",
       "      <td>100 kW</td>\n",
       "      <td>Used</td>\n",
       "      <td>...</td>\n",
       "      <td>[\\n, Diesel, \\n]</td>\n",
       "      <td>[[4.5 l/100 km (comb)], [5.3 l/100 km (city)],...</td>\n",
       "      <td>[\\nEuro 6\\n]</td>\n",
       "      <td>NaN</td>\n",
       "      <td>NaN</td>\n",
       "      <td>NaN</td>\n",
       "      <td>NaN</td>\n",
       "      <td>[]</td>\n",
       "      <td>[\\n6\\n]</td>\n",
       "      <td>NaN</td>\n",
       "    </tr>\n",
       "    <tr>\n",
       "      <th>12321</th>\n",
       "      <td>Opel Insignia</td>\n",
       "      <td>1.6 CDTi 100kW ecoTEC D Selective</td>\n",
       "      <td>Other</td>\n",
       "      <td>19800</td>\n",
       "      <td>None</td>\n",
       "      <td>22,500 km</td>\n",
       "      <td>07/2018</td>\n",
       "      <td>1 previous owner</td>\n",
       "      <td>100 kW</td>\n",
       "      <td>Used</td>\n",
       "      <td>...</td>\n",
       "      <td>[\\n, Diesel, \\n]</td>\n",
       "      <td>[[4.5 l/100 km (comb)], [5.3 l/100 km (city)],...</td>\n",
       "      <td>[\\nEuro 6\\n]</td>\n",
       "      <td>NaN</td>\n",
       "      <td>NaN</td>\n",
       "      <td>NaN</td>\n",
       "      <td>NaN</td>\n",
       "      <td>[]</td>\n",
       "      <td>[\\n6\\n]</td>\n",
       "      <td>NaN</td>\n",
       "    </tr>\n",
       "    <tr>\n",
       "      <th>13732</th>\n",
       "      <td>Renault Clio</td>\n",
       "      <td>Business 1.2</td>\n",
       "      <td>Station wagon</td>\n",
       "      <td>6900</td>\n",
       "      <td>VAT deductible</td>\n",
       "      <td>105,000 km</td>\n",
       "      <td>09/2019</td>\n",
       "      <td>None</td>\n",
       "      <td>54 kW</td>\n",
       "      <td>Used</td>\n",
       "      <td>...</td>\n",
       "      <td>[\\n, Gasoline, \\n]</td>\n",
       "      <td>[[5.5 l/100 km (comb)], [7 l/100 km (city)], [...</td>\n",
       "      <td>[\\nEuro 6\\n]</td>\n",
       "      <td>[Cruise control, Electrical side mirrors, Powe...</td>\n",
       "      <td>[On-board computer]</td>\n",
       "      <td>[Roof rack]</td>\n",
       "      <td>[ABS, Central door lock, Driver-side airbag, E...</td>\n",
       "      <td>[\\n🇬🇧 Equipement:, PETROL - Manual, • LED dayl...</td>\n",
       "      <td>[\\n5\\n]</td>\n",
       "      <td>NaN</td>\n",
       "    </tr>\n",
       "  </tbody>\n",
       "</table>\n",
       "<p>38 rows × 35 columns</p>\n",
       "</div>"
      ],
      "text/plain": [
       "          make_model                                  short_description  \\\n",
       "812          Audi A1  Sportback 1.0TFSI Klimaautom. MMi Radio Sitzh....   \n",
       "864          Audi A1          Sportback 1.4 TFSI design S-tronic/S-line   \n",
       "1304         Audi A1            Sportback 1.0 TFSI ADMIRED+XENON+PDC+LM   \n",
       "1881         Audi A1              Sportback 1,0TFSI media-Paket/SHZ/PDC   \n",
       "2625         Audi A3             design edition 1.6 TDI S tronic Sportb   \n",
       "2752         Audi A3       2.0 TDI S tronic S line Sportback Xenon Navi   \n",
       "2802         Audi A3             design edition 1.6 TDI S tronic Sportb   \n",
       "2803         Audi A3             design edition 1.6 TDI S tronic Sportb   \n",
       "2948         Audi A3                         SPB 1.6 TDI S tronic Sport   \n",
       "2966         Audi A3     Sportback 1.6 TDI 110 Business Line S tronic 7   \n",
       "6649      Opel Astra         K Sports Tourer Dynamic S/S NAVI RF 900 AT   \n",
       "6748      Opel Astra                          K 5türig Edition 1.6 CDTI   \n",
       "6821      Opel Astra                            1.0 Turbo S/S Selective   \n",
       "7252      Opel Astra                            1.6 CDTi 110 CV Dynamic   \n",
       "7269      Opel Astra          K 1.4 Turbo 125 PS PDC Navi Sitzhzg. uvm.   \n",
       "7347      Opel Astra                      1.6 CDTi 81kW (110CV) Dynamic   \n",
       "7381      Opel Astra             K 1.0 Edition Start/Stop +SITZHEIZUNG+   \n",
       "7399      Opel Astra                          1.6 CDTi 110 CV Selective   \n",
       "7449      Opel Astra                            1.6 CDTi 110 CV Dynamic   \n",
       "7450      Opel Astra                            1.6 CDTi 110 CV Dynamic   \n",
       "7451      Opel Astra                            1.6 CDTi 110 CV Dynamic   \n",
       "7543      Opel Astra                    1.6 CDTi 81kW (110CV) Selective   \n",
       "8664      Opel Corsa               1.2 Selection*Klima*Allwetter*Radio*   \n",
       "9325      Opel Corsa                1.4 5 Jahresgarantie 3 Inspektionen   \n",
       "9540      Opel Corsa                   E Selection | Cool & Sound-Paket   \n",
       "10862  Opel Insignia            A 1,6 CDTI Sports Tou NAVI,AppleCarplay   \n",
       "11330  Opel Insignia             2.0 CDTI AT Innov. *Matrix-LED*Kamera*   \n",
       "11436  Opel Insignia           1.6 CDTI AT GS Inno *Matrix*Navi*Kamera*   \n",
       "11445  Opel Insignia  Grand Sport Edition 1.6 CDTI, Navi, Klimaaut, ...   \n",
       "11517  Opel Insignia            1.6 CDTI AT Innov. *Matrix*Navi*Kamera*   \n",
       "11518  Opel Insignia            1.6 CDTI AT Innov. *Matrix*Navi*Kamera*   \n",
       "11734  Opel Insignia   ST.2,0l Innovation Navi Kamera elektr.Heckklappe   \n",
       "12051  Opel Insignia               Sports Tourer Dynamic NAVI LED SH AT   \n",
       "12079  Opel Insignia            B Sports Tourer Innovati NAVI RF 900 AT   \n",
       "12084  Opel Insignia             A Sports Tourer Innovat NAVI RF 900 AT   \n",
       "12319  Opel Insignia               ST 1.6 CDTi 100kW ecoTEC D Selective   \n",
       "12321  Opel Insignia                  1.6 CDTi 100kW ecoTEC D Selective   \n",
       "13732   Renault Clio                                       Business 1.2   \n",
       "\n",
       "           body_type  price             vat          km registration  \\\n",
       "812          Compact  14430  VAT deductible   13,990 km      03/2017   \n",
       "864          Compact  20790  VAT deductible   15,870 km      10/2017   \n",
       "1304         Compact  15750  VAT deductible   46,146 km      06/2017   \n",
       "1881         Compact  16490  VAT deductible   15,870 km      01/2018   \n",
       "2625          Sedans  17490            None   22,978 km      02/2017   \n",
       "2752          Sedans  17900            None   89,325 km      03/2016   \n",
       "2802          Sedans  17490            None   22,978 km      02/2017   \n",
       "2803          Sedans  17490            None   22,978 km      02/2017   \n",
       "2948          Sedans  15890  VAT deductible  150,000 km      11/2016   \n",
       "2966          Sedans  14490            None  120,000 km      01/2016   \n",
       "6649   Station wagon  16980  VAT deductible   24,638 km      08/2018   \n",
       "6748          Sedans  12945  VAT deductible   15,250 km      10/2017   \n",
       "6821           Other  12900            None   15,900 km      03/2018   \n",
       "7252           Other  14990            None    8,821 km      09/2018   \n",
       "7269          Sedans  15450  VAT deductible   13,500 km      01/2018   \n",
       "7347           Other  15190            None   17,185 km      06/2018   \n",
       "7381          Sedans  14940  VAT deductible   17,980 km      08/2018   \n",
       "7399           Other  14990            None    5,551 km      12/2018   \n",
       "7449           Other  14890            None    9,000 km      10/2018   \n",
       "7450           Other  14890            None    9,500 km      10/2018   \n",
       "7451           Other  14890            None    7,200 km      10/2018   \n",
       "7543           Other  13900            None    4,800 km      10/2018   \n",
       "8664         Compact   7490            None   42,374 km      04/2016   \n",
       "9325         Compact  13990  VAT deductible    5,310 km      10/2018   \n",
       "9540         Compact   9790  VAT deductible       50 km      11/2018   \n",
       "10862  Station wagon  11490  VAT deductible   89,200 km      09/2016   \n",
       "11330         Sedans  20990  VAT deductible   29,800 km      10/2017   \n",
       "11436         Sedans  19670  VAT deductible   19,500 km      12/2017   \n",
       "11445         Sedans  19490  VAT deductible   30,339 km      07/2017   \n",
       "11517         Sedans  18890  VAT deductible   24,800 km      11/2017   \n",
       "11518         Sedans  18890  VAT deductible   26,100 km      11/2017   \n",
       "11734  Station wagon  17980  VAT deductible   22,321 km      03/2017   \n",
       "12051  Station wagon  22540  VAT deductible   25,074 km      07/2018   \n",
       "12079  Station wagon  22450  VAT deductible   33,970 km      07/2018   \n",
       "12084  Station wagon  22450  VAT deductible   31,031 km      07/2018   \n",
       "12319  Station wagon  19990            None    1,501 km      10/2018   \n",
       "12321          Other  19800            None   22,500 km      07/2018   \n",
       "13732  Station wagon   6900  VAT deductible  105,000 km      09/2019   \n",
       "\n",
       "              prev_owner      hp            Type  ...  \\\n",
       "812    2 previous owners   70 kW            Used  ...   \n",
       "864     1 previous owner   92 kW            Used  ...   \n",
       "1304    1 previous owner   70 kW            Used  ...   \n",
       "1881    1 previous owner   70 kW            Used  ...   \n",
       "2625                None   82 kW            Used  ...   \n",
       "2752   2 previous owners  110 kW            Used  ...   \n",
       "2802                None   82 kW            Used  ...   \n",
       "2803                None   82 kW            Used  ...   \n",
       "2948                None   81 kW            Used  ...   \n",
       "2966                None   81 kW            Used  ...   \n",
       "6649    1 previous owner  100 kW  Employee's car  ...   \n",
       "6748    1 previous owner   70 kW            Used  ...   \n",
       "6821                None   77 kW            Used  ...   \n",
       "7252    1 previous owner   81 kW            Used  ...   \n",
       "7269    1 previous owner   92 kW            Used  ...   \n",
       "7347                None   81 kW            Used  ...   \n",
       "7381    1 previous owner   77 kW  Employee's car  ...   \n",
       "7399    1 previous owner   81 kW            Used  ...   \n",
       "7449                None   81 kW            Used  ...   \n",
       "7450                None   81 kW            Used  ...   \n",
       "7451                None   81 kW            Used  ...   \n",
       "7543                None   81 kW            Used  ...   \n",
       "8664   2 previous owners   51 kW            Used  ...   \n",
       "9325    1 previous owner   66 kW            Used  ...   \n",
       "9540    1 previous owner   51 kW  Pre-registered  ...   \n",
       "10862   1 previous owner  100 kW            Used  ...   \n",
       "11330   1 previous owner  125 kW            Used  ...   \n",
       "11436   1 previous owner  100 kW            Used  ...   \n",
       "11445   1 previous owner  100 kW            Used  ...   \n",
       "11517   1 previous owner  100 kW            Used  ...   \n",
       "11518   1 previous owner  100 kW            Used  ...   \n",
       "11734   1 previous owner  125 kW            Used  ...   \n",
       "12051   1 previous owner  125 kW  Employee's car  ...   \n",
       "12079   1 previous owner  125 kW  Employee's car  ...   \n",
       "12084   1 previous owner  125 kW  Employee's car  ...   \n",
       "12319   1 previous owner  100 kW            Used  ...   \n",
       "12321   1 previous owner  100 kW            Used  ...   \n",
       "13732               None   54 kW            Used  ...   \n",
       "\n",
       "                                          Fuel  \\\n",
       "812               [\\n, Regular/Benzine 91, \\n]   \n",
       "864                         [\\n, Super 95, \\n]   \n",
       "1304              [\\n, Regular/Benzine 91, \\n]   \n",
       "1881                        [\\n, Super 95, \\n]   \n",
       "2625                          [\\n, Diesel, \\n]   \n",
       "2752     [\\n, Diesel (Particulate Filter), \\n]   \n",
       "2802                          [\\n, Diesel, \\n]   \n",
       "2803                          [\\n, Diesel, \\n]   \n",
       "2948     [\\n, Diesel (Particulate Filter), \\n]   \n",
       "2966                          [\\n, Diesel, \\n]   \n",
       "6649     [\\n, Diesel (Particulate Filter), \\n]   \n",
       "6748     [\\n, Diesel (Particulate Filter), \\n]   \n",
       "6821                        [\\n, Gasoline, \\n]   \n",
       "7252                          [\\n, Diesel, \\n]   \n",
       "7269                        [\\n, Super 95, \\n]   \n",
       "7347                          [\\n, Diesel, \\n]   \n",
       "7381                    [\\n, Super E10 95, \\n]   \n",
       "7399                          [\\n, Diesel, \\n]   \n",
       "7449                          [\\n, Diesel, \\n]   \n",
       "7450                          [\\n, Diesel, \\n]   \n",
       "7451                          [\\n, Diesel, \\n]   \n",
       "7543                          [\\n, Diesel, \\n]   \n",
       "8664                        [\\n, Super 95, \\n]   \n",
       "9325   [\\n, Super 95 / Regular/Benzine 91, \\n]   \n",
       "9540                        [\\n, Super 95, \\n]   \n",
       "10862                         [\\n, Diesel, \\n]   \n",
       "11330                         [\\n, Diesel, \\n]   \n",
       "11436    [\\n, Diesel (Particulate Filter), \\n]   \n",
       "11445    [\\n, Diesel (Particulate Filter), \\n]   \n",
       "11517    [\\n, Diesel (Particulate Filter), \\n]   \n",
       "11518    [\\n, Diesel (Particulate Filter), \\n]   \n",
       "11734    [\\n, Diesel (Particulate Filter), \\n]   \n",
       "12051    [\\n, Diesel (Particulate Filter), \\n]   \n",
       "12079    [\\n, Diesel (Particulate Filter), \\n]   \n",
       "12084    [\\n, Diesel (Particulate Filter), \\n]   \n",
       "12319                         [\\n, Diesel, \\n]   \n",
       "12321                         [\\n, Diesel, \\n]   \n",
       "13732                       [\\n, Gasoline, \\n]   \n",
       "\n",
       "                                             Consumption      Emission Class  \\\n",
       "812    [[4.2 l/100 km (comb)], [5 l/100 km (city)], [...        [\\nEuro 6\\n]   \n",
       "864    [[5.1 l/100 km (comb)], [6.3 l/100 km (city)],...        [\\nEuro 6\\n]   \n",
       "1304   [[4.4 l/100 km (comb)], [5.2 l/100 km (city)],...        [\\nEuro 6\\n]   \n",
       "1881   [[4.4 l/100 km (comb)], [5.2 l/100 km (city)],...        [\\nEuro 6\\n]   \n",
       "2625   [[3.9 l/100 km (comb)], [4.4 l/100 km (city)],...                 NaN   \n",
       "2752   [[4.6 l/100 km (comb)], [5.4 l/100 km (city)],...        [\\nEuro 6\\n]   \n",
       "2802   [[3.9 l/100 km (comb)], [4.4 l/100 km (city)],...                 NaN   \n",
       "2803   [[3.9 l/100 km (comb)], [4.4 l/100 km (city)],...                 NaN   \n",
       "2948   [[3.8 l/100 km (comb)], [4.3 l/100 km (city)],...        [\\nEuro 6\\n]   \n",
       "2966   [[3.9 l/100 km (comb)], [4.4 l/100 km (city)],...        [\\nEuro 6\\n]   \n",
       "6649   [[4.5 l/100 km (comb)], [5.7 l/100 km (city)],...        [\\nEuro 6\\n]   \n",
       "6748   [[3.6 l/100 km (comb)], [4.2 l/100 km (city)],...        [\\nEuro 6\\n]   \n",
       "6821                                                 NaN                 NaN   \n",
       "7252   [[3.7 l/100 km (comb)], [4.2 l/100 km (city)],...        [\\nEuro 6\\n]   \n",
       "7269   [[5.1 l/100 km (comb)], [6.3 l/100 km (city)],...        [\\nEuro 6\\n]   \n",
       "7347                                                 NaN                 NaN   \n",
       "7381   [[4.5 l/100 km (comb)], [5.4 l/100 km (city)],...  [\\nEuro 6d-TEMP\\n]   \n",
       "7399   [[3.7 l/100 km (comb)], [4.2 l/100 km (city)],...        [\\nEuro 6\\n]   \n",
       "7449                                                 NaN                 NaN   \n",
       "7450                                                 NaN                 NaN   \n",
       "7451                                                 NaN                 NaN   \n",
       "7543                                                 NaN                 NaN   \n",
       "8664   [[5.6 l/100 km (comb)], [7.3 l/100 km (city)],...        [\\nEuro 6\\n]   \n",
       "9325                                                 NaN        [\\nEuro 6\\n]   \n",
       "9540   [[5.6 l/100 km (comb)], [7.1 l/100 km (city)],...  [\\nEuro 6d-TEMP\\n]   \n",
       "10862                    [[5.1 l/100 km (comb)], [], []]        [\\nEuro 6\\n]   \n",
       "11330                                                NaN        [[], [], []]   \n",
       "11436                                                NaN        [[], [], []]   \n",
       "11445  [[5.1 l/100 km (comb)], [6.1 l/100 km (city)],...        [\\nEuro 6\\n]   \n",
       "11517                                                NaN        [[], [], []]   \n",
       "11518                                                NaN        [[], [], []]   \n",
       "11734  [[4.5 l/100 km (comb)], [5.7 l/100 km (city)],...        [\\nEuro 6\\n]   \n",
       "12051  [[5.6 l/100 km (comb)], [7.1 l/100 km (city)],...        [\\nEuro 6\\n]   \n",
       "12079                                                NaN        [[], [], []]   \n",
       "12084                                                NaN        [[], [], []]   \n",
       "12319  [[4.5 l/100 km (comb)], [5.3 l/100 km (city)],...        [\\nEuro 6\\n]   \n",
       "12321  [[4.5 l/100 km (comb)], [5.3 l/100 km (city)],...        [\\nEuro 6\\n]   \n",
       "13732  [[5.5 l/100 km (comb)], [7 l/100 km (city)], [...        [\\nEuro 6\\n]   \n",
       "\n",
       "                                   Comfort & Convenience  \\\n",
       "812    [Air conditioning, Armrest, Automatic climate ...   \n",
       "864    [Air conditioning, Armrest, Automatic climate ...   \n",
       "1304   [Air conditioning, Armrest, Automatic climate ...   \n",
       "1881   [Air conditioning, Armrest, Automatic climate ...   \n",
       "2625   [Air conditioning, Automatic climate control, ...   \n",
       "2752   [Air conditioning, Armrest, Automatic climate ...   \n",
       "2802   [Air conditioning, Automatic climate control, ...   \n",
       "2803   [Air conditioning, Automatic climate control, ...   \n",
       "2948   [Air conditioning, Armrest, Automatic climate ...   \n",
       "2966   [Air conditioning, Armrest, Automatic climate ...   \n",
       "6649   [Air conditioning, Armrest, Automatic climate ...   \n",
       "6748   [Air conditioning, Armrest, Cruise control, El...   \n",
       "6821                                                 NaN   \n",
       "7252                                                 NaN   \n",
       "7269   [Air conditioning, Automatic climate control, ...   \n",
       "7347                                                 NaN   \n",
       "7381   [Air conditioning, Cruise control, Electrical ...   \n",
       "7399                                                 NaN   \n",
       "7449                                                 NaN   \n",
       "7450                                                 NaN   \n",
       "7451                                                 NaN   \n",
       "7543                                                 NaN   \n",
       "8664   [Air conditioning, Electrical side mirrors, Hi...   \n",
       "9325   [Air conditioning, Cruise control, Electrical ...   \n",
       "9540   [Air conditioning, Electrical side mirrors, Hi...   \n",
       "10862  [Air conditioning, Armrest, Automatic climate ...   \n",
       "11330  [Air conditioning, Armrest, Automatic climate ...   \n",
       "11436  [Air conditioning, Armrest, Automatic climate ...   \n",
       "11445  [Air conditioning, Armrest, Automatic climate ...   \n",
       "11517  [Air conditioning, Armrest, Automatic climate ...   \n",
       "11518  [Air conditioning, Armrest, Automatic climate ...   \n",
       "11734  [Air conditioning, Armrest, Automatic climate ...   \n",
       "12051  [Air conditioning, Armrest, Automatic climate ...   \n",
       "12079  [Air conditioning, Armrest, Automatic climate ...   \n",
       "12084  [Air conditioning, Armrest, Automatic climate ...   \n",
       "12319                                                NaN   \n",
       "12321                                                NaN   \n",
       "13732  [Cruise control, Electrical side mirrors, Powe...   \n",
       "\n",
       "                                   Entertainment & Media  \\\n",
       "812                      [MP3, On-board computer, Radio]   \n",
       "864    [Bluetooth, CD player, Hands-free equipment, O...   \n",
       "1304   [Bluetooth, CD player, Hands-free equipment, M...   \n",
       "1881   [Bluetooth, CD player, Hands-free equipment, O...   \n",
       "2625                                         [Bluetooth]   \n",
       "2752   [Bluetooth, CD player, Hands-free equipment, O...   \n",
       "2802                                         [Bluetooth]   \n",
       "2803                                         [Bluetooth]   \n",
       "2948   [Bluetooth, Hands-free equipment, MP3, On-boar...   \n",
       "2966          [CD player, MP3, On-board computer, Radio]   \n",
       "6649   [Bluetooth, Hands-free equipment, On-board com...   \n",
       "6748   [Bluetooth, Hands-free equipment, MP3, On-boar...   \n",
       "6821                                                 NaN   \n",
       "7252                                                 NaN   \n",
       "7269   [Bluetooth, Hands-free equipment, On-board com...   \n",
       "7347                                                 NaN   \n",
       "7381   [Bluetooth, Hands-free equipment, MP3, On-boar...   \n",
       "7399                                                 NaN   \n",
       "7449                                                 NaN   \n",
       "7450                                                 NaN   \n",
       "7451                                                 NaN   \n",
       "7543                                                 NaN   \n",
       "8664       [MP3, On-board computer, Radio, Sound system]   \n",
       "9325   [Bluetooth, Hands-free equipment, On-board com...   \n",
       "9540                                             [Radio]   \n",
       "10862  [Bluetooth, CD player, Hands-free equipment, O...   \n",
       "11330        [Bluetooth, Hands-free equipment, MP3, USB]   \n",
       "11436        [Bluetooth, Hands-free equipment, MP3, USB]   \n",
       "11445  [Bluetooth, Hands-free equipment, MP3, On-boar...   \n",
       "11517  [Bluetooth, Hands-free equipment, MP3, On-boar...   \n",
       "11518  [Bluetooth, Hands-free equipment, MP3, On-boar...   \n",
       "11734  [Bluetooth, CD player, Hands-free equipment, M...   \n",
       "12051  [Bluetooth, Hands-free equipment, On-board com...   \n",
       "12079  [Bluetooth, Hands-free equipment, On-board com...   \n",
       "12084  [Bluetooth, Hands-free equipment, On-board com...   \n",
       "12319                                                NaN   \n",
       "12321                                                NaN   \n",
       "13732                                [On-board computer]   \n",
       "\n",
       "                                                  Extras  \\\n",
       "812    [Alloy wheels, Cab or rented Car, Catalytic Co...   \n",
       "864       [Alloy wheels, Cab or rented Car, Sport seats]   \n",
       "1304   [Alloy wheels, Cab or rented Car, Catalytic Co...   \n",
       "1881                                      [Alloy wheels]   \n",
       "2625                                      [Alloy wheels]   \n",
       "2752   [Alloy wheels, Roof rack, Sport package, Sport...   \n",
       "2802                                      [Alloy wheels]   \n",
       "2803                                      [Alloy wheels]   \n",
       "2948   [Alloy wheels, Catalytic Converter, Shift padd...   \n",
       "2966                         [Alloy wheels, Sport seats]   \n",
       "6649   [Alloy wheels, Roof rack, Touch screen, Voice ...   \n",
       "6748                                                 NaN   \n",
       "6821                                                 NaN   \n",
       "7252                                                 NaN   \n",
       "7269                       [Touch screen, Voice Control]   \n",
       "7347                                                 NaN   \n",
       "7381                                      [Touch screen]   \n",
       "7399                                                 NaN   \n",
       "7449                                                 NaN   \n",
       "7450                                                 NaN   \n",
       "7451                                                 NaN   \n",
       "7543                                                 NaN   \n",
       "8664                                                 NaN   \n",
       "9325                                      [Alloy wheels]   \n",
       "9540                                                 NaN   \n",
       "10862                          [Roof rack, Touch screen]   \n",
       "11330                                     [Alloy wheels]   \n",
       "11436                                     [Alloy wheels]   \n",
       "11445                [Alloy wheels, Catalytic Converter]   \n",
       "11517                                                NaN   \n",
       "11518                                     [Alloy wheels]   \n",
       "11734     [Alloy wheels, Catalytic Converter, Roof rack]   \n",
       "12051  [Alloy wheels, Ski bag, Sport seats, Touch scr...   \n",
       "12079  [Alloy wheels, Shift paddles, Ski bag, Sport s...   \n",
       "12084  [Alloy wheels, Shift paddles, Ski bag, Sport s...   \n",
       "12319                                                NaN   \n",
       "12321                                                NaN   \n",
       "13732                                        [Roof rack]   \n",
       "\n",
       "                                       Safety & Security  \\\n",
       "812    [ABS, Central door lock, Daytime running light...   \n",
       "864    [ABS, Central door lock, Daytime running light...   \n",
       "1304   [ABS, Central door lock, Daytime running light...   \n",
       "1881   [ABS, Central door lock with remote control, D...   \n",
       "2625                                                 NaN   \n",
       "2752   [ABS, Adaptive headlights, Alarm system, Centr...   \n",
       "2802                                                 NaN   \n",
       "2803                                                 NaN   \n",
       "2948   [ABS, Alarm system, Central door lock, Central...   \n",
       "2966   [ABS, Central door lock with remote control, D...   \n",
       "6649   [ABS, Central door lock, Daytime running light...   \n",
       "6748   [ABS, Central door lock, Daytime running light...   \n",
       "6821                                                 NaN   \n",
       "7252                                                 NaN   \n",
       "7269   [ABS, Central door lock, Daytime running light...   \n",
       "7347                                                 NaN   \n",
       "7381   [ABS, Central door lock, Daytime running light...   \n",
       "7399                                                 NaN   \n",
       "7449                                                 NaN   \n",
       "7450                                                 NaN   \n",
       "7451                                                 NaN   \n",
       "7543                                                 NaN   \n",
       "8664   [ABS, Central door lock, Daytime running light...   \n",
       "9325   [ABS, Central door lock, Daytime running light...   \n",
       "9540   [ABS, Central door lock, Daytime running light...   \n",
       "10862  [ABS, Central door lock, Daytime running light...   \n",
       "11330  [ABS, Adaptive headlights, Central door lock, ...   \n",
       "11436  [ABS, Adaptive headlights, Central door lock, ...   \n",
       "11445  [ABS, Central door lock, Daytime running light...   \n",
       "11517  [ABS, Adaptive headlights, Central door lock, ...   \n",
       "11518  [ABS, Adaptive headlights, Central door lock, ...   \n",
       "11734  [ABS, Adaptive headlights, Blind spot monitor,...   \n",
       "12051  [ABS, Adaptive headlights, Central door lock, ...   \n",
       "12079  [ABS, Adaptive headlights, Alarm system, Centr...   \n",
       "12084  [ABS, Adaptive headlights, Alarm system, Centr...   \n",
       "12319                                                NaN   \n",
       "12321                                                NaN   \n",
       "13732  [ABS, Central door lock, Driver-side airbag, E...   \n",
       "\n",
       "                                             description    Gears  \\\n",
       "812    [\\n, Technik & Sicherheit:, Nebelscheinwerfer,...      NaN   \n",
       "864    [\\nIhr Ansprechpartner ist Herr Daniel Voggena...  [\\n7\\n]   \n",
       "1304   [\\n, Technik & Sicherheit:, Airbag Fahrer-/Bei...      NaN   \n",
       "1881   [\\n, Ihr Ansprechpartner ist Herr Klaus Palesc...  [\\n5\\n]   \n",
       "2625   [\\nClicars | El 95% de Nuestros Clientes nos V...  [\\n7\\n]   \n",
       "2752   [\\n, Audi A 3 2.0 TDi 110 KW 150 PS, 2. Hand, ...      NaN   \n",
       "2802   [\\nClicars | El 95% de Nuestros Clientes nos V...  [\\n7\\n]   \n",
       "2803   [\\nClicars | El 95% de Nuestros Clientes nos V...  [\\n7\\n]   \n",
       "2948   [\\nAutovettura tenuta in maniera maniacale , k...  [\\n7\\n]   \n",
       "2966   [\\nAudi A3 SportBack 1.6 TDI 110 Business Line...  [\\n7\\n]   \n",
       "6649   [\\n, Sonderausstattung:, Allwetter-/ Ganzjahre...      NaN   \n",
       "6748   [\\n, Getriebe:,  Schaltgetriebe, Technik:,  Bo...  [\\n6\\n]   \n",
       "6821   [\\n-CONCESIONARIOS OFICIALES CITROËN Y OPEL CO...  [\\n5\\n]   \n",
       "7252                                                  []  [\\n6\\n]   \n",
       "7269   [\\nUnfallfrei, Euro6, Apple CarPlay, Android A...      NaN   \n",
       "7347                    [\\nFERTA FINANCIACIÓN 15.190€\\n]  [\\n6\\n]   \n",
       "7381   [\\n, Sonderausstattung,  ,  , Allwetter-/ Ganz...  [\\n5\\n]   \n",
       "7399                                                  []  [\\n6\\n]   \n",
       "7449       [\\nCONCESIONARIO OFICIAL OPEL DISO HUELVA.\\n]  [\\n6\\n]   \n",
       "7450       [\\nCONCESIONARIO OFICIAL OPEL DISO HUELVA.\\n]  [\\n6\\n]   \n",
       "7451       [\\nCONCESIONARIO OFICIAL OPEL DISO HUELVA.\\n]  [\\n6\\n]   \n",
       "7543       [\\nCONCESIONARIO OFICIAL OPEL DISO HUELVA.\\n]  [\\n6\\n]   \n",
       "8664   [\\n, Paket: Cool & Sound - Klimaanlage - Infot...      NaN   \n",
       "9325   [\\nIhre Ansprechpartner für dieses KFZ:,  ,  ,...  [\\n6\\n]   \n",
       "9540   [\\n, E10 geeignet, Interieurfarbe Schwarz, Int...      NaN   \n",
       "10862  [\\n, Sonderausstattung:, NAVI,PDC, AppleCarpla...      NaN   \n",
       "11330  [\\n, Fahrtauglich, Unfallfrei, Herstellergaran...      NaN   \n",
       "11436  [\\n, Fahrtauglich, Unfallfrei, Herstellergaran...  [\\n6\\n]   \n",
       "11445  [\\n, Getriebe:,  Automatik, Technik:,  Bordcom...  [\\n6\\n]   \n",
       "11517  [\\n, Fahrtauglich, Unfallfrei, Herstellergaran...  [\\n6\\n]   \n",
       "11518  [\\n, Fahrtauglich, Unfallfrei, Herstellergaran...  [\\n6\\n]   \n",
       "11734  [\\n, Getriebe:,  Schaltgetriebe, Technik:,  Bo...  [\\n6\\n]   \n",
       "12051  [\\n, Sonderausstattung:, Innovations-Paket 1, ...      NaN   \n",
       "12079  [\\n, Sonderausstattung:, Ergonomiesitz vorn re...      NaN   \n",
       "12084  [\\n, Sonderausstattung:, Ergonomiesitz vorn re...      NaN   \n",
       "12319                                                 []  [\\n6\\n]   \n",
       "12321                                                 []  [\\n6\\n]   \n",
       "13732  [\\n🇬🇧 Equipement:, PETROL - Manual, • LED dayl...  [\\n5\\n]   \n",
       "\n",
       "      Country version  \n",
       "812     [\\nGermany\\n]  \n",
       "864     [\\nGermany\\n]  \n",
       "1304              NaN  \n",
       "1881    [\\nGermany\\n]  \n",
       "2625              NaN  \n",
       "2752              NaN  \n",
       "2802              NaN  \n",
       "2803              NaN  \n",
       "2948              NaN  \n",
       "2966              NaN  \n",
       "6649    [\\nGermany\\n]  \n",
       "6748              NaN  \n",
       "6821              NaN  \n",
       "7252              NaN  \n",
       "7269              NaN  \n",
       "7347              NaN  \n",
       "7381              NaN  \n",
       "7399              NaN  \n",
       "7449              NaN  \n",
       "7450              NaN  \n",
       "7451              NaN  \n",
       "7543              NaN  \n",
       "8664    [\\nGermany\\n]  \n",
       "9325    [\\nGermany\\n]  \n",
       "9540    [\\nGermany\\n]  \n",
       "10862   [\\nGermany\\n]  \n",
       "11330   [\\nGermany\\n]  \n",
       "11436   [\\nGermany\\n]  \n",
       "11445             NaN  \n",
       "11517   [\\nGermany\\n]  \n",
       "11518   [\\nGermany\\n]  \n",
       "11734             NaN  \n",
       "12051   [\\nGermany\\n]  \n",
       "12079   [\\nGermany\\n]  \n",
       "12084   [\\nGermany\\n]  \n",
       "12319             NaN  \n",
       "12321             NaN  \n",
       "13732             NaN  \n",
       "\n",
       "[38 rows x 35 columns]"
      ]
     },
     "execution_count": 41,
     "metadata": {},
     "output_type": "execute_result"
    }
   ],
   "source": [
    "df[df[\"Next Inspection\"] == \"2018\"]"
   ]
  },
  {
   "cell_type": "markdown",
   "metadata": {},
   "source": [
    "**gearing type sütünu**"
   ]
  },
  {
   "cell_type": "code",
   "execution_count": 42,
   "metadata": {},
   "outputs": [
    {
     "ename": "TypeError",
     "evalue": "unhashable type: 'list'",
     "output_type": "error",
     "traceback": [
      "\u001b[1;31m---------------------------------------------------------------------------\u001b[0m",
      "\u001b[1;31mTypeError\u001b[0m                                 Traceback (most recent call last)",
      "\u001b[1;32mpandas\\_libs\\hashtable_class_helper.pxi\u001b[0m in \u001b[0;36mpandas._libs.hashtable.PyObjectHashTable.map_locations\u001b[1;34m()\u001b[0m\n",
      "\u001b[1;31mTypeError\u001b[0m: unhashable type: 'list'"
     ]
    },
    {
     "name": "stderr",
     "output_type": "stream",
     "text": [
      "Exception ignored in: 'pandas._libs.index.IndexEngine._call_map_locations'\n",
      "Traceback (most recent call last):\n",
      "  File \"pandas\\_libs\\hashtable_class_helper.pxi\", line 4588, in pandas._libs.hashtable.PyObjectHashTable.map_locations\n",
      "TypeError: unhashable type: 'list'\n"
     ]
    },
    {
     "data": {
      "text/plain": [
       "[\\n, Manual, \\n]            8153\n",
       "[\\n, Automatic, \\n]         7297\n",
       "[\\n, Semi-automatic, \\n]     469\n",
       "Name: Gearing Type, dtype: int64"
      ]
     },
     "execution_count": 42,
     "metadata": {},
     "output_type": "execute_result"
    }
   ],
   "source": [
    "df[\"Gearing Type\"].value_counts(dropna= False)"
   ]
  },
  {
   "cell_type": "code",
   "execution_count": 43,
   "metadata": {},
   "outputs": [],
   "source": [
    "for i in range(len(df[\"Gearing Type\"])):\n",
    "    df[\"Gearing Type\"][i] = df[\"Gearing Type\"][i][1]"
   ]
  },
  {
   "cell_type": "code",
   "execution_count": 44,
   "metadata": {},
   "outputs": [
    {
     "data": {
      "text/plain": [
       "Manual            8153\n",
       "Automatic         7297\n",
       "Semi-automatic     469\n",
       "Name: Gearing Type, dtype: int64"
      ]
     },
     "execution_count": 44,
     "metadata": {},
     "output_type": "execute_result"
    }
   ],
   "source": [
    "df[\"Gearing Type\"].value_counts()"
   ]
  },
  {
   "cell_type": "code",
   "execution_count": 45,
   "metadata": {},
   "outputs": [],
   "source": [
    "###garing type sütünu başarı ile temizlendi..."
   ]
  },
  {
   "cell_type": "markdown",
   "metadata": {},
   "source": [
    "**make ve model sütünları**"
   ]
  },
  {
   "cell_type": "code",
   "execution_count": 46,
   "metadata": {},
   "outputs": [
    {
     "data": {
      "text/plain": [
       "\\nOpel\\n       7343\n",
       "\\nAudi\\n       5712\n",
       "\\nRenault\\n    2864\n",
       "Name: Make, dtype: int64"
      ]
     },
     "execution_count": 46,
     "metadata": {},
     "output_type": "execute_result"
    }
   ],
   "source": [
    "df.Make.value_counts(dropna = False)"
   ]
  },
  {
   "cell_type": "code",
   "execution_count": 47,
   "metadata": {},
   "outputs": [],
   "source": [
    "df.Make = df.Make.str.replace(\"\\n\", \"\")"
   ]
  },
  {
   "cell_type": "code",
   "execution_count": 48,
   "metadata": {},
   "outputs": [
    {
     "data": {
      "text/plain": [
       "Opel       7343\n",
       "Audi       5712\n",
       "Renault    2864\n",
       "Name: Make, dtype: int64"
      ]
     },
     "execution_count": 48,
     "metadata": {},
     "output_type": "execute_result"
    }
   ],
   "source": [
    "df.Make.value_counts(dropna = False)"
   ]
  },
  {
   "cell_type": "code",
   "execution_count": 49,
   "metadata": {},
   "outputs": [
    {
     "ename": "TypeError",
     "evalue": "unhashable type: 'list'",
     "output_type": "error",
     "traceback": [
      "\u001b[1;31m---------------------------------------------------------------------------\u001b[0m",
      "\u001b[1;31mTypeError\u001b[0m                                 Traceback (most recent call last)",
      "\u001b[1;32mpandas\\_libs\\hashtable_class_helper.pxi\u001b[0m in \u001b[0;36mpandas._libs.hashtable.PyObjectHashTable.map_locations\u001b[1;34m()\u001b[0m\n",
      "\u001b[1;31mTypeError\u001b[0m: unhashable type: 'list'"
     ]
    },
    {
     "name": "stderr",
     "output_type": "stream",
     "text": [
      "Exception ignored in: 'pandas._libs.index.IndexEngine._call_map_locations'\n",
      "Traceback (most recent call last):\n",
      "  File \"pandas\\_libs\\hashtable_class_helper.pxi\", line 4588, in pandas._libs.hashtable.PyObjectHashTable.map_locations\n",
      "TypeError: unhashable type: 'list'\n"
     ]
    },
    {
     "data": {
      "text/plain": [
       "[\\n, A3, \\n]          3097\n",
       "[\\n, A1, \\n]          2614\n",
       "[\\n, Insignia, \\n]    2598\n",
       "[\\n, Astra, \\n]       2526\n",
       "[\\n, Corsa, \\n]       2219\n",
       "[\\n, Clio, \\n]        1839\n",
       "[\\n, Espace, \\n]       991\n",
       "[\\n, Duster, \\n]        34\n",
       "[\\n, A2, \\n]             1\n",
       "Name: Model, dtype: int64"
      ]
     },
     "execution_count": 49,
     "metadata": {},
     "output_type": "execute_result"
    }
   ],
   "source": [
    "df.Model.value_counts(dropna = False)"
   ]
  },
  {
   "cell_type": "code",
   "execution_count": 50,
   "metadata": {},
   "outputs": [
    {
     "data": {
      "text/plain": [
       "'A1'"
      ]
     },
     "execution_count": 50,
     "metadata": {},
     "output_type": "execute_result"
    }
   ],
   "source": [
    "df.Model[0][1]"
   ]
  },
  {
   "cell_type": "code",
   "execution_count": 51,
   "metadata": {},
   "outputs": [],
   "source": [
    "def liste_temizle(seri):\n",
    "    for i in range(len(seri)):\n",
    "        seri[i] = seri[i][1]\n",
    "        "
   ]
  },
  {
   "cell_type": "code",
   "execution_count": 52,
   "metadata": {},
   "outputs": [],
   "source": [
    "liste_temizle(df.Model)"
   ]
  },
  {
   "cell_type": "code",
   "execution_count": 53,
   "metadata": {},
   "outputs": [
    {
     "data": {
      "text/plain": [
       "A3          3097\n",
       "A1          2614\n",
       "Insignia    2598\n",
       "Astra       2526\n",
       "Corsa       2219\n",
       "Clio        1839\n",
       "Espace       991\n",
       "Duster        34\n",
       "A2             1\n",
       "Name: Model, dtype: int64"
      ]
     },
     "execution_count": 53,
     "metadata": {},
     "output_type": "execute_result"
    }
   ],
   "source": [
    "df.Model.value_counts(dropna = False)"
   ]
  },
  {
   "cell_type": "code",
   "execution_count": 54,
   "metadata": {},
   "outputs": [],
   "source": [
    "##make ve mdeol sütünları başarı ile temizlendi"
   ]
  },
  {
   "cell_type": "markdown",
   "metadata": {},
   "source": [
    "**Displacement**"
   ]
  },
  {
   "cell_type": "code",
   "execution_count": 55,
   "metadata": {},
   "outputs": [
    {
     "data": {
      "text/plain": [
       "496"
      ]
     },
     "execution_count": 55,
     "metadata": {},
     "output_type": "execute_result"
    }
   ],
   "source": [
    "df.Displacement.isnull().sum()"
   ]
  },
  {
   "cell_type": "code",
   "execution_count": 56,
   "metadata": {},
   "outputs": [
    {
     "ename": "TypeError",
     "evalue": "unhashable type: 'list'",
     "output_type": "error",
     "traceback": [
      "\u001b[1;31m---------------------------------------------------------------------------\u001b[0m",
      "\u001b[1;31mTypeError\u001b[0m                                 Traceback (most recent call last)",
      "\u001b[1;32mpandas\\_libs\\hashtable_class_helper.pxi\u001b[0m in \u001b[0;36mpandas._libs.hashtable.PyObjectHashTable.map_locations\u001b[1;34m()\u001b[0m\n",
      "\u001b[1;31mTypeError\u001b[0m: unhashable type: 'list'"
     ]
    },
    {
     "name": "stderr",
     "output_type": "stream",
     "text": [
      "Exception ignored in: 'pandas._libs.index.IndexEngine._call_map_locations'\n",
      "Traceback (most recent call last):\n",
      "  File \"pandas\\_libs\\hashtable_class_helper.pxi\", line 4588, in pandas._libs.hashtable.PyObjectHashTable.map_locations\n",
      "TypeError: unhashable type: 'list'\n"
     ]
    },
    {
     "data": {
      "text/plain": [
       "[\\n1,598 cc\\n]    4761\n",
       "[\\n999 cc\\n]      2438\n",
       "[\\n1,398 cc\\n]    1314\n",
       "[\\n1,399 cc\\n]     749\n",
       "[\\n1,229 cc\\n]     677\n",
       "                  ... \n",
       "[\\n1,800 cc\\n]       1\n",
       "[\\n1,686 cc\\n]       1\n",
       "[\\n1,369 cc\\n]       1\n",
       "[\\n140 cc\\n]         1\n",
       "[\\n1,584 cc\\n]       1\n",
       "Name: Displacement, Length: 78, dtype: int64"
      ]
     },
     "execution_count": 56,
     "metadata": {},
     "output_type": "execute_result"
    }
   ],
   "source": [
    "df.Displacement.value_counts(dropna = False)"
   ]
  },
  {
   "cell_type": "code",
   "execution_count": 57,
   "metadata": {},
   "outputs": [
    {
     "data": {
      "text/plain": [
       "496"
      ]
     },
     "execution_count": 57,
     "metadata": {},
     "output_type": "execute_result"
    }
   ],
   "source": [
    "df.Displacement.isnull().sum()"
   ]
  },
  {
   "cell_type": "code",
   "execution_count": 58,
   "metadata": {},
   "outputs": [
    {
     "data": {
      "text/plain": [
       "'\\n999 cc\\n'"
      ]
     },
     "execution_count": 58,
     "metadata": {},
     "output_type": "execute_result"
    }
   ],
   "source": [
    "df.Displacement[1500][0]"
   ]
  },
  {
   "cell_type": "code",
   "execution_count": 59,
   "metadata": {},
   "outputs": [],
   "source": [
    "for i in range(len(df.Displacement)):\n",
    "    if type(df.Displacement[i]) == list:\n",
    "        df.Displacement[i] = df.Displacement[i][0]"
   ]
  },
  {
   "cell_type": "code",
   "execution_count": 60,
   "metadata": {},
   "outputs": [
    {
     "data": {
      "text/plain": [
       "\\n1,598 cc\\n    4761\n",
       "\\n999 cc\\n      2438\n",
       "\\n1,398 cc\\n    1314\n",
       "\\n1,399 cc\\n     749\n",
       "\\n1,229 cc\\n     677\n",
       "                ... \n",
       "\\n1,584 cc\\n       1\n",
       "\\n1,686 cc\\n       1\n",
       "\\n1,533 cc\\n       1\n",
       "\\n1,100 cc\\n       1\n",
       "\\n1,995 cc\\n       1\n",
       "Name: Displacement, Length: 77, dtype: int64"
      ]
     },
     "execution_count": 60,
     "metadata": {},
     "output_type": "execute_result"
    }
   ],
   "source": [
    "df.Displacement.value_counts()"
   ]
  },
  {
   "cell_type": "code",
   "execution_count": 61,
   "metadata": {},
   "outputs": [],
   "source": [
    "df.Displacement = df.Displacement.str.replace(\"\\n\",\"\")"
   ]
  },
  {
   "cell_type": "code",
   "execution_count": 62,
   "metadata": {},
   "outputs": [],
   "source": [
    "df.Displacement = df.Displacement.str.replace(\",\",\"\")"
   ]
  },
  {
   "cell_type": "code",
   "execution_count": 63,
   "metadata": {},
   "outputs": [],
   "source": [
    "df.Displacement = df.Displacement.str.replace(\"cc\", \"\")"
   ]
  },
  {
   "cell_type": "code",
   "execution_count": 64,
   "metadata": {},
   "outputs": [],
   "source": [
    "df.Displacement.fillna(method = \"bfill\", inplace = True)"
   ]
  },
  {
   "cell_type": "code",
   "execution_count": 65,
   "metadata": {},
   "outputs": [
    {
     "data": {
      "text/plain": [
       "1598      4922\n",
       "999       2485\n",
       "1398      1346\n",
       "1399       763\n",
       "1229       708\n",
       "          ... \n",
       "1496         1\n",
       "2967         1\n",
       "1696         1\n",
       "15898        1\n",
       "1198         1\n",
       "Name: Displacement, Length: 77, dtype: int64"
      ]
     },
     "execution_count": 65,
     "metadata": {},
     "output_type": "execute_result"
    }
   ],
   "source": [
    "df.Displacement.value_counts(dropna = False)"
   ]
  },
  {
   "cell_type": "code",
   "execution_count": 66,
   "metadata": {},
   "outputs": [
    {
     "data": {
      "text/plain": [
       "77"
      ]
     },
     "execution_count": 66,
     "metadata": {},
     "output_type": "execute_result"
    }
   ],
   "source": [
    "len(df.Displacement.unique())"
   ]
  },
  {
   "cell_type": "code",
   "execution_count": 67,
   "metadata": {},
   "outputs": [],
   "source": [
    "##displacment sütünü temizlendi"
   ]
  },
  {
   "cell_type": "markdown",
   "metadata": {},
   "source": [
    "**number of doors and number of seat**"
   ]
  },
  {
   "cell_type": "code",
   "execution_count": 68,
   "metadata": {},
   "outputs": [
    {
     "ename": "TypeError",
     "evalue": "unhashable type: 'list'",
     "output_type": "error",
     "traceback": [
      "\u001b[1;31m---------------------------------------------------------------------------\u001b[0m",
      "\u001b[1;31mTypeError\u001b[0m                                 Traceback (most recent call last)",
      "\u001b[1;32mpandas\\_libs\\hashtable_class_helper.pxi\u001b[0m in \u001b[0;36mpandas._libs.hashtable.PyObjectHashTable.map_locations\u001b[1;34m()\u001b[0m\n",
      "\u001b[1;31mTypeError\u001b[0m: unhashable type: 'list'"
     ]
    },
    {
     "name": "stderr",
     "output_type": "stream",
     "text": [
      "Exception ignored in: 'pandas._libs.index.IndexEngine._call_map_locations'\n",
      "Traceback (most recent call last):\n",
      "  File \"pandas\\_libs\\hashtable_class_helper.pxi\", line 4588, in pandas._libs.hashtable.PyObjectHashTable.map_locations\n",
      "TypeError: unhashable type: 'list'\n"
     ]
    },
    {
     "data": {
      "text/plain": [
       "[\\n5\\n]    11575\n",
       "[\\n4\\n]     3079\n",
       "[\\n3\\n]      832\n",
       "[\\n2\\n]      219\n",
       "NaN          212\n",
       "[\\n7\\n]        1\n",
       "[\\n1\\n]        1\n",
       "Name: Nr. of Doors, dtype: int64"
      ]
     },
     "execution_count": 68,
     "metadata": {},
     "output_type": "execute_result"
    }
   ],
   "source": [
    "df[\"Nr. of Doors\"].value_counts(dropna = False)"
   ]
  },
  {
   "cell_type": "code",
   "execution_count": 69,
   "metadata": {},
   "outputs": [],
   "source": [
    "for i in range(len(df[\"Nr. of Doors\"])):\n",
    "    if type(df[\"Nr. of Doors\"][i]) == list:\n",
    "        df[\"Nr. of Doors\"][i] = df[\"Nr. of Doors\"][i][0]\n",
    "     "
   ]
  },
  {
   "cell_type": "code",
   "execution_count": 70,
   "metadata": {},
   "outputs": [],
   "source": [
    "df[\"Nr. of Doors\"] = df[\"Nr. of Doors\"].str.replace(\"\\n\",\"\") "
   ]
  },
  {
   "cell_type": "code",
   "execution_count": 71,
   "metadata": {},
   "outputs": [
    {
     "data": {
      "text/plain": [
       "5      11575\n",
       "4       3079\n",
       "3        832\n",
       "2        219\n",
       "NaN      212\n",
       "1          1\n",
       "7          1\n",
       "Name: Nr. of Doors, dtype: int64"
      ]
     },
     "execution_count": 71,
     "metadata": {},
     "output_type": "execute_result"
    }
   ],
   "source": [
    "df[\"Nr. of Doors\"].value_counts(dropna = False)"
   ]
  },
  {
   "cell_type": "code",
   "execution_count": 72,
   "metadata": {},
   "outputs": [
    {
     "ename": "TypeError",
     "evalue": "unhashable type: 'list'",
     "output_type": "error",
     "traceback": [
      "\u001b[1;31m---------------------------------------------------------------------------\u001b[0m",
      "\u001b[1;31mTypeError\u001b[0m                                 Traceback (most recent call last)",
      "\u001b[1;32mpandas\\_libs\\hashtable_class_helper.pxi\u001b[0m in \u001b[0;36mpandas._libs.hashtable.PyObjectHashTable.map_locations\u001b[1;34m()\u001b[0m\n",
      "\u001b[1;31mTypeError\u001b[0m: unhashable type: 'list'"
     ]
    },
    {
     "name": "stderr",
     "output_type": "stream",
     "text": [
      "Exception ignored in: 'pandas._libs.index.IndexEngine._call_map_locations'\n",
      "Traceback (most recent call last):\n",
      "  File \"pandas\\_libs\\hashtable_class_helper.pxi\", line 4588, in pandas._libs.hashtable.PyObjectHashTable.map_locations\n",
      "TypeError: unhashable type: 'list'\n"
     ]
    },
    {
     "data": {
      "text/plain": [
       "[\\n5\\n]    13336\n",
       "[\\n4\\n]     1125\n",
       "NaN          977\n",
       "[\\n7\\n]      362\n",
       "[\\n2\\n]      116\n",
       "[\\n6\\n]        2\n",
       "[\\n3\\n]        1\n",
       "Name: Nr. of Seats, dtype: int64"
      ]
     },
     "execution_count": 72,
     "metadata": {},
     "output_type": "execute_result"
    }
   ],
   "source": [
    "df[\"Nr. of Seats\"].value_counts(dropna = False )"
   ]
  },
  {
   "cell_type": "code",
   "execution_count": 73,
   "metadata": {},
   "outputs": [],
   "source": [
    "for i in range(len(df[\"Nr. of Seats\"])):\n",
    "    if type(df[\"Nr. of Seats\"][i]) == list:\n",
    "        df[\"Nr. of Seats\"][i] = df[\"Nr. of Seats\"][i][0]       "
   ]
  },
  {
   "cell_type": "code",
   "execution_count": 74,
   "metadata": {},
   "outputs": [],
   "source": [
    "df[\"Nr. of Seats\"] = df[\"Nr. of Seats\"].str.replace(\"\\n\",\"\")"
   ]
  },
  {
   "cell_type": "code",
   "execution_count": 75,
   "metadata": {},
   "outputs": [
    {
     "data": {
      "text/plain": [
       "5      13336\n",
       "4       1125\n",
       "NaN      977\n",
       "7        362\n",
       "2        116\n",
       "6          2\n",
       "3          1\n",
       "Name: Nr. of Seats, dtype: int64"
      ]
     },
     "execution_count": 75,
     "metadata": {},
     "output_type": "execute_result"
    }
   ],
   "source": [
    "df[\"Nr. of Seats\"].value_counts(dropna = False )"
   ]
  },
  {
   "cell_type": "code",
   "execution_count": 76,
   "metadata": {},
   "outputs": [],
   "source": [
    "###number of seats and nuber of doors stünülar had been cleaned.."
   ]
  },
  {
   "cell_type": "markdown",
   "metadata": {},
   "source": [
    "**Fuel**"
   ]
  },
  {
   "cell_type": "code",
   "execution_count": 77,
   "metadata": {},
   "outputs": [
    {
     "ename": "TypeError",
     "evalue": "unhashable type: 'list'",
     "output_type": "error",
     "traceback": [
      "\u001b[1;31m---------------------------------------------------------------------------\u001b[0m",
      "\u001b[1;31mTypeError\u001b[0m                                 Traceback (most recent call last)",
      "\u001b[1;32mpandas\\_libs\\hashtable_class_helper.pxi\u001b[0m in \u001b[0;36mpandas._libs.hashtable.PyObjectHashTable.map_locations\u001b[1;34m()\u001b[0m\n",
      "\u001b[1;31mTypeError\u001b[0m: unhashable type: 'list'"
     ]
    },
    {
     "name": "stderr",
     "output_type": "stream",
     "text": [
      "Exception ignored in: 'pandas._libs.index.IndexEngine._call_map_locations'\n",
      "Traceback (most recent call last):\n",
      "  File \"pandas\\_libs\\hashtable_class_helper.pxi\", line 4588, in pandas._libs.hashtable.PyObjectHashTable.map_locations\n",
      "TypeError: unhashable type: 'list'\n"
     ]
    },
    {
     "data": {
      "text/plain": [
       "[\\n, Diesel (Particulate Filter), \\n]                                                                                  4315\n",
       "[\\n, Super 95, \\n]                                                                                                     3338\n",
       "[\\n, Gasoline, \\n]                                                                                                     3175\n",
       "[\\n, Diesel, \\n]                                                                                                       2984\n",
       "[\\n, Super 95 / Regular/Benzine 91, \\n]                                                                                 424\n",
       "                                                                                                                       ... \n",
       "[\\n, Super 95 / Regular/Benzine 91 / Super Plus 98 / Regular/Benzine E10 91 / Super Plus E10 98 / Super E10 95, \\n]       1\n",
       "[\\n, Regular/Benzine 91 / Super Plus 98 / Regular/Benzine E10 91 / Super 95 / Super E10 95 / Super Plus E10 98, \\n]       1\n",
       "[\\n, Regular/Benzine 91 / Super 95 / Super E10 95 / Regular/Benzine E10 91, \\n]                                           1\n",
       "[\\n, Regular/Benzine 91 / Super 95 / Super Plus 98, \\n]                                                                   1\n",
       "[\\n, Super 95 / Super E10 95 / Super Plus 98, \\n]                                                                         1\n",
       "Name: Fuel, Length: 77, dtype: int64"
      ]
     },
     "execution_count": 77,
     "metadata": {},
     "output_type": "execute_result"
    }
   ],
   "source": [
    "df.Fuel.value_counts(dropna = False )"
   ]
  },
  {
   "cell_type": "code",
   "execution_count": 78,
   "metadata": {},
   "outputs": [
    {
     "data": {
      "text/plain": [
       "'Diesel (Particulate Filter)'"
      ]
     },
     "execution_count": 78,
     "metadata": {},
     "output_type": "execute_result"
    }
   ],
   "source": [
    "df.Fuel[0][1]"
   ]
  },
  {
   "cell_type": "code",
   "execution_count": 79,
   "metadata": {},
   "outputs": [],
   "source": [
    "liste_temizle(df.Fuel)"
   ]
  },
  {
   "cell_type": "code",
   "execution_count": 80,
   "metadata": {},
   "outputs": [],
   "source": [
    "df.Fuel = df.Fuel.str.split(\" \")"
   ]
  },
  {
   "cell_type": "code",
   "execution_count": 81,
   "metadata": {},
   "outputs": [
    {
     "ename": "TypeError",
     "evalue": "unhashable type: 'list'",
     "output_type": "error",
     "traceback": [
      "\u001b[1;31m---------------------------------------------------------------------------\u001b[0m",
      "\u001b[1;31mTypeError\u001b[0m                                 Traceback (most recent call last)",
      "\u001b[1;32mpandas\\_libs\\hashtable_class_helper.pxi\u001b[0m in \u001b[0;36mpandas._libs.hashtable.PyObjectHashTable.map_locations\u001b[1;34m()\u001b[0m\n",
      "\u001b[1;31mTypeError\u001b[0m: unhashable type: 'list'"
     ]
    },
    {
     "name": "stderr",
     "output_type": "stream",
     "text": [
      "Exception ignored in: 'pandas._libs.index.IndexEngine._call_map_locations'\n",
      "Traceback (most recent call last):\n",
      "  File \"pandas\\_libs\\hashtable_class_helper.pxi\", line 4588, in pandas._libs.hashtable.PyObjectHashTable.map_locations\n",
      "TypeError: unhashable type: 'list'\n"
     ]
    },
    {
     "data": {
      "text/plain": [
       "[Diesel, (Particulate, Filter)]                                                                                                     4315\n",
       "[Super, 95]                                                                                                                         3338\n",
       "[Gasoline]                                                                                                                          3175\n",
       "[Diesel]                                                                                                                            2984\n",
       "[Super, 95, /, Regular/Benzine, 91]                                                                                                  424\n",
       "                                                                                                                                    ... \n",
       "[Super, 95, /, Regular/Benzine, 91, /, Super, Plus, 98, /, Regular/Benzine, E10, 91, /, Super, Plus, E10, 98, /, Super, E10, 95]       1\n",
       "[Regular/Benzine, 91, /, Super, Plus, 98, /, Regular/Benzine, E10, 91, /, Super, 95, /, Super, E10, 95, /, Super, Plus, E10, 98]       1\n",
       "[Regular/Benzine, 91, /, Super, 95, /, Super, E10, 95, /, Regular/Benzine, E10, 91]                                                    1\n",
       "[Regular/Benzine, 91, /, Super, 95, /, Super, Plus, 98]                                                                                1\n",
       "[Super, 95, /, Super, E10, 95, /, Super, Plus, 98]                                                                                     1\n",
       "Name: Fuel, Length: 77, dtype: int64"
      ]
     },
     "execution_count": 81,
     "metadata": {},
     "output_type": "execute_result"
    }
   ],
   "source": [
    "df.Fuel.value_counts(dropna = False )"
   ]
  },
  {
   "cell_type": "code",
   "execution_count": 82,
   "metadata": {},
   "outputs": [],
   "source": [
    "for i in range(len(df.Fuel)):\n",
    "    df.Fuel[i] = df.Fuel[i][0]\n",
    "    "
   ]
  },
  {
   "cell_type": "code",
   "execution_count": 83,
   "metadata": {},
   "outputs": [
    {
     "data": {
      "text/plain": [
       "Diesel               7299\n",
       "Super                4790\n",
       "Gasoline             3252\n",
       "Regular/Benzine       503\n",
       "CNG                    36\n",
       "LPG                    16\n",
       "Liquid                 10\n",
       "Others                  6\n",
       "Electric/Gasoline       4\n",
       "Biogas                  1\n",
       "Domestic                1\n",
       "Electric                1\n",
       "Name: Fuel, dtype: int64"
      ]
     },
     "execution_count": 83,
     "metadata": {},
     "output_type": "execute_result"
    }
   ],
   "source": [
    "df.Fuel.value_counts(dropna = False )"
   ]
  },
  {
   "cell_type": "code",
   "execution_count": 84,
   "metadata": {},
   "outputs": [],
   "source": [
    "####Fuel sütünu temizlendi."
   ]
  },
  {
   "cell_type": "markdown",
   "metadata": {},
   "source": [
    "**km sütünu**"
   ]
  },
  {
   "cell_type": "code",
   "execution_count": 85,
   "metadata": {},
   "outputs": [
    {
     "data": {
      "text/plain": [
       "0    56,013 km\n",
       "1    80,000 km\n",
       "2    83,450 km\n",
       "3    73,000 km\n",
       "4    16,200 km\n",
       "Name: km, dtype: object"
      ]
     },
     "execution_count": 85,
     "metadata": {},
     "output_type": "execute_result"
    }
   ],
   "source": [
    "df.km.head()"
   ]
  },
  {
   "cell_type": "code",
   "execution_count": 86,
   "metadata": {},
   "outputs": [],
   "source": [
    "df[\"km\"] = df[\"km\"].str.replace(\"km\",\"\") "
   ]
  },
  {
   "cell_type": "code",
   "execution_count": 87,
   "metadata": {},
   "outputs": [],
   "source": [
    "df[\"km\"] = df[\"km\"].str.replace(\",\",\"\") "
   ]
  },
  {
   "cell_type": "code",
   "execution_count": 88,
   "metadata": {},
   "outputs": [
    {
     "data": {
      "text/plain": [
       "0    56013 \n",
       "1    80000 \n",
       "2    83450 \n",
       "3    73000 \n",
       "4    16200 \n",
       "Name: km, dtype: object"
      ]
     },
     "execution_count": 88,
     "metadata": {},
     "output_type": "execute_result"
    }
   ],
   "source": [
    "df.km.head()"
   ]
  },
  {
   "cell_type": "code",
   "execution_count": 89,
   "metadata": {},
   "outputs": [
    {
     "data": {
      "text/plain": [
       "'- '"
      ]
     },
     "execution_count": 89,
     "metadata": {},
     "output_type": "execute_result"
    }
   ],
   "source": [
    "df[\"km\"][743]"
   ]
  },
  {
   "cell_type": "code",
   "execution_count": 90,
   "metadata": {},
   "outputs": [],
   "source": [
    "df[\"km\"] = df[\"km\"].str.replace(\"-\", \"10000\")"
   ]
  },
  {
   "cell_type": "code",
   "execution_count": 91,
   "metadata": {},
   "outputs": [],
   "source": [
    "df[\"km\"] = pd.to_numeric(df[\"km\"])"
   ]
  },
  {
   "cell_type": "code",
   "execution_count": 92,
   "metadata": {},
   "outputs": [
    {
     "data": {
      "text/plain": [
       "0    56013\n",
       "1    80000\n",
       "2    83450\n",
       "3    73000\n",
       "4    16200\n",
       "Name: km, dtype: int64"
      ]
     },
     "execution_count": 92,
     "metadata": {},
     "output_type": "execute_result"
    }
   ],
   "source": [
    "df[\"km\"].head()"
   ]
  },
  {
   "cell_type": "markdown",
   "metadata": {},
   "source": [
    "**extras**"
   ]
  },
  {
   "cell_type": "code",
   "execution_count": 93,
   "metadata": {},
   "outputs": [],
   "source": [
    "#type(df.Extras[1])"
   ]
  },
  {
   "cell_type": "code",
   "execution_count": 94,
   "metadata": {},
   "outputs": [],
   "source": [
    "#df.Extras.head()"
   ]
  },
  {
   "cell_type": "code",
   "execution_count": 95,
   "metadata": {},
   "outputs": [],
   "source": [
    "#df[\"extras\"] = df.Extras.str.split(\",\")"
   ]
  },
  {
   "cell_type": "code",
   "execution_count": 96,
   "metadata": {},
   "outputs": [],
   "source": [
    "#df.extras.head()"
   ]
  },
  {
   "cell_type": "code",
   "execution_count": 97,
   "metadata": {},
   "outputs": [],
   "source": [
    "#type(df.extras[0])"
   ]
  },
  {
   "cell_type": "code",
   "execution_count": 98,
   "metadata": {},
   "outputs": [],
   "source": [
    "#count = 0\n",
    "#nan = 0"
   ]
  },
  {
   "cell_type": "code",
   "execution_count": 99,
   "metadata": {},
   "outputs": [],
   "source": [
    "#for i in range(len(df.extras)):\n",
    "    #if type(df.extras[i]) == list:\n",
    "        #for j in df.extras[i]:\n",
    "            #if j == \"['Alloy wheels'\":\n",
    "                #count += 1\n",
    "    #else:\n",
    "        #nan += 1\n",
    "#print(count)\n",
    "#print(nan)"
   ]
  },
  {
   "cell_type": "code",
   "execution_count": 100,
   "metadata": {},
   "outputs": [],
   "source": [
    "#count+nan"
   ]
  },
  {
   "cell_type": "code",
   "execution_count": 101,
   "metadata": {},
   "outputs": [],
   "source": [
    "#df.extras.isnull().sum()"
   ]
  },
  {
   "cell_type": "markdown",
   "metadata": {},
   "source": [
    "**registration**"
   ]
  },
  {
   "cell_type": "code",
   "execution_count": 102,
   "metadata": {},
   "outputs": [
    {
     "data": {
      "text/plain": [
       "0    01/2016\n",
       "1    03/2017\n",
       "2    02/2016\n",
       "3    08/2016\n",
       "4    05/2016\n",
       "Name: registration, dtype: object"
      ]
     },
     "execution_count": 102,
     "metadata": {},
     "output_type": "execute_result"
    }
   ],
   "source": [
    "df.registration.head()"
   ]
  },
  {
   "cell_type": "code",
   "execution_count": 103,
   "metadata": {},
   "outputs": [
    {
     "data": {
      "text/plain": [
       "array(['01/2016', '03/2017', '02/2016', '08/2016', '05/2016', '03/2016',\n",
       "       '06/2017', '05/2018', '09/2016', '06/2016', '10/2016', '04/2016',\n",
       "       '06/2018', '11/2017', '07/2016', '12/2016', '09/2018', '04/2018',\n",
       "       '07/2017', '02/2017', '11/2016', '01/2018', '05/2017', '04/2017',\n",
       "       '07/2018', '01/2017', '02/2018', '03/2018', '-/-', '08/2017',\n",
       "       '10/2017', '08/2018', '09/2017', '12/2017', '04/2019', '12/2018',\n",
       "       '03/2019', '06/2019', '05/2019', '02/2019', '01/2019', '10/2018',\n",
       "       '11/2018', '09/2019', '07/2019', '08/2019', '11/2019', '12/2019'],\n",
       "      dtype=object)"
      ]
     },
     "execution_count": 103,
     "metadata": {},
     "output_type": "execute_result"
    }
   ],
   "source": [
    "df.registration.unique()#### -/- olam yaklaşık 1500 satır var.."
   ]
  },
  {
   "cell_type": "code",
   "execution_count": 104,
   "metadata": {},
   "outputs": [
    {
     "data": {
      "text/plain": [
       "'2017'"
      ]
     },
     "execution_count": 104,
     "metadata": {},
     "output_type": "execute_result"
    }
   ],
   "source": [
    "df.registration[1202][3:]"
   ]
  },
  {
   "cell_type": "code",
   "execution_count": 105,
   "metadata": {},
   "outputs": [],
   "source": [
    "for i in range(len(df.registration)):\n",
    "    df.registration[i] = df.registration[i][3:]\n",
    "    "
   ]
  },
  {
   "cell_type": "code",
   "execution_count": 106,
   "metadata": {},
   "outputs": [
    {
     "data": {
      "text/plain": [
       "array(['2016', '2017', '2018', '', '2019'], dtype=object)"
      ]
     },
     "execution_count": 106,
     "metadata": {},
     "output_type": "execute_result"
    }
   ],
   "source": [
    "df.registration.unique()"
   ]
  },
  {
   "cell_type": "code",
   "execution_count": 107,
   "metadata": {},
   "outputs": [
    {
     "data": {
      "text/plain": [
       "2018    4522\n",
       "2016    3674\n",
       "2017    3273\n",
       "2019    2853\n",
       "        1597\n",
       "Name: registration, dtype: int64"
      ]
     },
     "execution_count": 107,
     "metadata": {},
     "output_type": "execute_result"
    }
   ],
   "source": [
    "df.registration.value_counts()"
   ]
  },
  {
   "cell_type": "code",
   "execution_count": 108,
   "metadata": {},
   "outputs": [],
   "source": [
    "df.registration.replace(\"\",np.nan, inplace = True)"
   ]
  },
  {
   "cell_type": "code",
   "execution_count": 109,
   "metadata": {},
   "outputs": [],
   "source": [
    "#f_copy.registration.value_counts(dropna = False)"
   ]
  },
  {
   "cell_type": "code",
   "execution_count": 110,
   "metadata": {},
   "outputs": [],
   "source": [
    "df.registration.fillna(\"2018\",limit = 399, inplace = True)"
   ]
  },
  {
   "cell_type": "code",
   "execution_count": 111,
   "metadata": {},
   "outputs": [],
   "source": [
    "df.registration.fillna(\"2016\",limit = 399, inplace = True)"
   ]
  },
  {
   "cell_type": "code",
   "execution_count": 112,
   "metadata": {},
   "outputs": [],
   "source": [
    "df.registration.fillna(\"2017\",limit = 399, inplace = True)"
   ]
  },
  {
   "cell_type": "code",
   "execution_count": 113,
   "metadata": {},
   "outputs": [],
   "source": [
    "df.registration.fillna(\"2019\",limit = 400, inplace = True)"
   ]
  },
  {
   "cell_type": "code",
   "execution_count": 114,
   "metadata": {},
   "outputs": [
    {
     "data": {
      "text/plain": [
       "2018    4921\n",
       "2016    4073\n",
       "2017    3672\n",
       "2019    3253\n",
       "Name: registration, dtype: int64"
      ]
     },
     "execution_count": 114,
     "metadata": {},
     "output_type": "execute_result"
    }
   ],
   "source": [
    "df.registration.value_counts(dropna = False)"
   ]
  },
  {
   "cell_type": "code",
   "execution_count": 115,
   "metadata": {},
   "outputs": [],
   "source": [
    "###1597 nan değer orantılı şekile 4 değere dağıtıldı..."
   ]
  },
  {
   "cell_type": "code",
   "execution_count": 116,
   "metadata": {},
   "outputs": [],
   "source": [
    "df.registration = df.registration.astype(\"int\")"
   ]
  },
  {
   "cell_type": "code",
   "execution_count": 117,
   "metadata": {},
   "outputs": [
    {
     "data": {
      "text/plain": [
       "dtype('int32')"
      ]
     },
     "execution_count": 117,
     "metadata": {},
     "output_type": "execute_result"
    }
   ],
   "source": [
    "df.registration.dtype"
   ]
  },
  {
   "cell_type": "code",
   "execution_count": 118,
   "metadata": {},
   "outputs": [],
   "source": [
    "###regestiration sütünu temizlendi.."
   ]
  },
  {
   "cell_type": "markdown",
   "metadata": {},
   "source": [
    "**hp**"
   ]
  },
  {
   "cell_type": "code",
   "execution_count": 119,
   "metadata": {},
   "outputs": [
    {
     "data": {
      "text/plain": [
       "0     66 kW\n",
       "1    141 kW\n",
       "2     85 kW\n",
       "3     66 kW\n",
       "4     66 kW\n",
       "Name: hp, dtype: object"
      ]
     },
     "execution_count": 119,
     "metadata": {},
     "output_type": "execute_result"
    }
   ],
   "source": [
    "df.hp.head()"
   ]
  },
  {
   "cell_type": "code",
   "execution_count": 120,
   "metadata": {},
   "outputs": [
    {
     "data": {
      "text/plain": [
       "0"
      ]
     },
     "execution_count": 120,
     "metadata": {},
     "output_type": "execute_result"
    }
   ],
   "source": [
    "df.hp.isna().sum()"
   ]
  },
  {
   "cell_type": "code",
   "execution_count": 121,
   "metadata": {},
   "outputs": [],
   "source": [
    "df.hp = df.hp.str.replace(\"kW\", \"\")"
   ]
  },
  {
   "cell_type": "code",
   "execution_count": 122,
   "metadata": {},
   "outputs": [
    {
     "data": {
      "text/plain": [
       "0     66 \n",
       "1    141 \n",
       "2     85 \n",
       "3     66 \n",
       "4     66 \n",
       "Name: hp, dtype: object"
      ]
     },
     "execution_count": 122,
     "metadata": {},
     "output_type": "execute_result"
    }
   ],
   "source": [
    "df.hp.head()"
   ]
  },
  {
   "cell_type": "code",
   "execution_count": 123,
   "metadata": {},
   "outputs": [
    {
     "data": {
      "text/plain": [
       "array(['66 ', '141 ', '85 ', '70 ', '92 ', '112 ', '60 ', '71 ', '67 ',\n",
       "       '110 ', '93 ', '147 ', '86 ', '140 ', '87 ', '- ', '81 ', '82 ',\n",
       "       '135 ', '132 ', '100 ', '96 ', '162 ', '150 ', '294 ', '228 ',\n",
       "       '270 ', '137 ', '9 ', '133 ', '77 ', '101 ', '78 ', '103 ', '1 ',\n",
       "       '74 ', '118 ', '84 ', '88 ', '80 ', '76 ', '149 ', '44 ', '51 ',\n",
       "       '55 ', '52 ', '63 ', '40 ', '65 ', '75 ', '125 ', '120 ', '184 ',\n",
       "       '239 ', '121 ', '143 ', '191 ', '89 ', '195 ', '127 ', '122 ',\n",
       "       '154 ', '155 ', '104 ', '123 ', '146 ', '90 ', '53 ', '54 ', '56 ',\n",
       "       '164 ', '4 ', '163 ', '57 ', '119 ', '165 ', '117 ', '115 ', '98 ',\n",
       "       '168 ', '167 '], dtype=object)"
      ]
     },
     "execution_count": 123,
     "metadata": {},
     "output_type": "execute_result"
    }
   ],
   "source": [
    "df.hp.unique()"
   ]
  },
  {
   "cell_type": "code",
   "execution_count": 124,
   "metadata": {},
   "outputs": [],
   "source": [
    "df.hp = df.hp.str.strip()"
   ]
  },
  {
   "cell_type": "code",
   "execution_count": 125,
   "metadata": {},
   "outputs": [
    {
     "data": {
      "text/plain": [
       "88"
      ]
     },
     "execution_count": 125,
     "metadata": {},
     "output_type": "execute_result"
    }
   ],
   "source": [
    "len(df.hp[df[\"hp\"] == \"-\"])"
   ]
  },
  {
   "cell_type": "code",
   "execution_count": 126,
   "metadata": {},
   "outputs": [],
   "source": [
    "##88 satırda düzeltme işlemi yapmamız lazım.."
   ]
  },
  {
   "cell_type": "code",
   "execution_count": 127,
   "metadata": {},
   "outputs": [
    {
     "data": {
      "text/plain": [
       "1269      999 \n",
       "2500      999 \n",
       "4259     1598 \n",
       "7177     1399 \n",
       "7670     1398 \n",
       "         ...  \n",
       "15641    1598 \n",
       "15647    1598 \n",
       "15684    1598 \n",
       "15791    1798 \n",
       "15906    1798 \n",
       "Name: Displacement, Length: 88, dtype: object"
      ]
     },
     "execution_count": 127,
     "metadata": {},
     "output_type": "execute_result"
    }
   ],
   "source": [
    "df.Displacement[df[\"hp\"] == \"-\"]"
   ]
  },
  {
   "cell_type": "code",
   "execution_count": 128,
   "metadata": {},
   "outputs": [],
   "source": [
    "###bu sütün bir kaç farklı yöntemle tamamlanabilir. displacment sütünu ile aralarındaki ilişki bulunup tahmini değerlerle doldurulabilir. \n",
    "##ama eksik değerleimizin sayısı çok az olduğundan na değerlerle başa çıkma yöntemleri ile dolduracağız.."
   ]
  },
  {
   "cell_type": "code",
   "execution_count": 129,
   "metadata": {},
   "outputs": [],
   "source": [
    "df.hp = df.hp.replace(\"-\", np.nan )"
   ]
  },
  {
   "cell_type": "code",
   "execution_count": 130,
   "metadata": {},
   "outputs": [
    {
     "data": {
      "text/plain": [
       "88"
      ]
     },
     "execution_count": 130,
     "metadata": {},
     "output_type": "execute_result"
    }
   ],
   "source": [
    "df.hp.isna().sum()"
   ]
  },
  {
   "cell_type": "code",
   "execution_count": 131,
   "metadata": {},
   "outputs": [],
   "source": [
    "df.hp.fillna(method = \"bfill\", inplace = True)"
   ]
  },
  {
   "cell_type": "code",
   "execution_count": 132,
   "metadata": {},
   "outputs": [
    {
     "data": {
      "text/plain": [
       "0"
      ]
     },
     "execution_count": 132,
     "metadata": {},
     "output_type": "execute_result"
    }
   ],
   "source": [
    "df.hp.isna().sum()"
   ]
  },
  {
   "cell_type": "code",
   "execution_count": 133,
   "metadata": {},
   "outputs": [],
   "source": [
    "df.hp = pd.to_numeric(df[\"hp\"])"
   ]
  },
  {
   "cell_type": "code",
   "execution_count": 134,
   "metadata": {},
   "outputs": [
    {
     "data": {
      "text/plain": [
       "85     2544\n",
       "66     2131\n",
       "81     1402\n",
       "100    1311\n",
       "110    1114\n",
       "       ... \n",
       "4         1\n",
       "44        1\n",
       "84        1\n",
       "132       1\n",
       "239       1\n",
       "Name: hp, Length: 80, dtype: int64"
      ]
     },
     "execution_count": 134,
     "metadata": {},
     "output_type": "execute_result"
    }
   ],
   "source": [
    "df.hp.value_counts(dropna = False)"
   ]
  },
  {
   "cell_type": "code",
   "execution_count": 135,
   "metadata": {},
   "outputs": [
    {
     "data": {
      "text/plain": [
       "0"
      ]
     },
     "execution_count": 135,
     "metadata": {},
     "output_type": "execute_result"
    }
   ],
   "source": [
    "df.hp.isna().sum()"
   ]
  },
  {
   "cell_type": "code",
   "execution_count": 136,
   "metadata": {},
   "outputs": [],
   "source": [
    "####hp sütünu başarı ile temizlendi.."
   ]
  },
  {
   "cell_type": "markdown",
   "metadata": {},
   "source": [
    "**Consumption**"
   ]
  },
  {
   "cell_type": "code",
   "execution_count": 137,
   "metadata": {},
   "outputs": [
    {
     "data": {
      "text/plain": [
       "['5.6 l/100 km (comb)']"
      ]
     },
     "execution_count": 137,
     "metadata": {},
     "output_type": "execute_result"
    }
   ],
   "source": [
    "df.Consumption[1][0]\n",
    "##combo değerini istiyoruz.."
   ]
  },
  {
   "cell_type": "code",
   "execution_count": 138,
   "metadata": {},
   "outputs": [
    {
     "data": {
      "text/plain": [
       "1906"
      ]
     },
     "execution_count": 138,
     "metadata": {},
     "output_type": "execute_result"
    }
   ],
   "source": [
    "df.Consumption.isna().sum()"
   ]
  },
  {
   "cell_type": "code",
   "execution_count": 139,
   "metadata": {},
   "outputs": [],
   "source": [
    "df.fillna(method = \"ffill\", inplace = True)"
   ]
  },
  {
   "cell_type": "code",
   "execution_count": 140,
   "metadata": {},
   "outputs": [
    {
     "data": {
      "text/plain": [
       "0"
      ]
     },
     "execution_count": 140,
     "metadata": {},
     "output_type": "execute_result"
    }
   ],
   "source": [
    "df.Consumption.isna().sum()"
   ]
  },
  {
   "cell_type": "code",
   "execution_count": 141,
   "metadata": {},
   "outputs": [],
   "source": [
    "for i in range(len(df.Consumption)):\n",
    "    df.Consumption[i] = df.Consumption[i][0]"
   ]
  },
  {
   "cell_type": "code",
   "execution_count": 142,
   "metadata": {},
   "outputs": [],
   "source": [
    "df.Consumption = df.Consumption.astype(\"str\")"
   ]
  },
  {
   "cell_type": "code",
   "execution_count": 143,
   "metadata": {},
   "outputs": [
    {
     "data": {
      "text/plain": [
       "\"['5.6 l/100 km (comb)']\""
      ]
     },
     "execution_count": 143,
     "metadata": {},
     "output_type": "execute_result"
    }
   ],
   "source": [
    "df.Consumption[1]"
   ]
  },
  {
   "cell_type": "code",
   "execution_count": 144,
   "metadata": {},
   "outputs": [],
   "source": [
    "df.Consumption = df.Consumption.str.replace(\"[' 1/100 km (comb)']\", \"\" )"
   ]
  },
  {
   "cell_type": "code",
   "execution_count": 145,
   "metadata": {},
   "outputs": [
    {
     "data": {
      "text/plain": [
       "'[5.6l]'"
      ]
     },
     "execution_count": 145,
     "metadata": {},
     "output_type": "execute_result"
    }
   ],
   "source": [
    "df.Consumption[1]"
   ]
  },
  {
   "cell_type": "code",
   "execution_count": 146,
   "metadata": {},
   "outputs": [],
   "source": [
    "df.Consumption = df.Consumption.str.replace(\"[l]\", \"\" )"
   ]
  },
  {
   "cell_type": "code",
   "execution_count": 147,
   "metadata": {},
   "outputs": [
    {
     "data": {
      "text/plain": [
       "'[5.6]'"
      ]
     },
     "execution_count": 147,
     "metadata": {},
     "output_type": "execute_result"
    }
   ],
   "source": [
    "df.Consumption[1]"
   ]
  },
  {
   "cell_type": "code",
   "execution_count": 148,
   "metadata": {},
   "outputs": [],
   "source": [
    "df.Consumption = df.Consumption.str.replace(\"[\", \"\" )"
   ]
  },
  {
   "cell_type": "code",
   "execution_count": 149,
   "metadata": {},
   "outputs": [
    {
     "data": {
      "text/plain": [
       "'5.6]'"
      ]
     },
     "execution_count": 149,
     "metadata": {},
     "output_type": "execute_result"
    }
   ],
   "source": [
    "df.Consumption[1]"
   ]
  },
  {
   "cell_type": "code",
   "execution_count": 150,
   "metadata": {},
   "outputs": [],
   "source": [
    "df.Consumption = df.Consumption.str.replace(\"]\", \"\" )"
   ]
  },
  {
   "cell_type": "code",
   "execution_count": 151,
   "metadata": {},
   "outputs": [
    {
     "data": {
      "text/plain": [
       "'5.6'"
      ]
     },
     "execution_count": 151,
     "metadata": {},
     "output_type": "execute_result"
    }
   ],
   "source": [
    "df.Consumption[1]"
   ]
  },
  {
   "cell_type": "code",
   "execution_count": 152,
   "metadata": {},
   "outputs": [
    {
     "data": {
      "text/plain": [
       "array(['3.8', '5.6', '4.', '3.5', '3.7', '4', '4.9', '4.2', '4.5', '4.4',\n",
       "       '4.3', '3', '3.6', '3.4', '\\n', '3.9', '5.', '5.2', '4.6', '4.8',\n",
       "       '5.8', '4.7', '5', '43', '', '6', '5.9', '5.3', '5.3g', '5.5',\n",
       "       '3.4g', '3.3g', '3.2', '3.5g', '6.6', '3.3', '8.3', '6.5', '7.',\n",
       "       '8.', '5.4g', '38', '6.4', '8.3g', '5.g', '5.4', '6.7', '6.2',\n",
       "       '7.3', '6.3', '5.7', '6.', '6.8', '7.5', '7.4', '3.6g', '7.8',\n",
       "       '3.', '6.9', '7', '7.2', '8', '9.', '8.6', '8.7', '7.9', '55',\n",
       "       '54', '.2', '32', '33', '46', '7.6'], dtype=object)"
      ]
     },
     "execution_count": 152,
     "metadata": {},
     "output_type": "execute_result"
    }
   ],
   "source": [
    "df.Consumption.unique()"
   ]
  },
  {
   "cell_type": "code",
   "execution_count": 153,
   "metadata": {},
   "outputs": [],
   "source": [
    "df.Consumption = df.Consumption.str.replace(\"g\", \"\" )"
   ]
  },
  {
   "cell_type": "code",
   "execution_count": 154,
   "metadata": {},
   "outputs": [
    {
     "data": {
      "text/plain": [
       "array(['3.8', '5.6', '4.', '3.5', '3.7', '4', '4.9', '4.2', '4.5', '4.4',\n",
       "       '4.3', '3', '3.6', '3.4', '\\n', '3.9', '5.', '5.2', '4.6', '4.8',\n",
       "       '5.8', '4.7', '5', '43', '', '6', '5.9', '5.3', '5.5', '3.3',\n",
       "       '3.2', '6.6', '8.3', '6.5', '7.', '8.', '5.4', '38', '6.4', '6.7',\n",
       "       '6.2', '7.3', '6.3', '5.7', '6.', '6.8', '7.5', '7.4', '7.8', '3.',\n",
       "       '6.9', '7', '7.2', '8', '9.', '8.6', '8.7', '7.9', '55', '54',\n",
       "       '.2', '32', '33', '46', '7.6'], dtype=object)"
      ]
     },
     "execution_count": 154,
     "metadata": {},
     "output_type": "execute_result"
    }
   ],
   "source": [
    "df.Consumption.unique()"
   ]
  },
  {
   "cell_type": "code",
   "execution_count": 155,
   "metadata": {},
   "outputs": [],
   "source": [
    "df.Consumption = df.Consumption.replace(\"\\n\", np.nan )"
   ]
  },
  {
   "cell_type": "code",
   "execution_count": 156,
   "metadata": {},
   "outputs": [
    {
     "data": {
      "text/plain": [
       "960"
      ]
     },
     "execution_count": 156,
     "metadata": {},
     "output_type": "execute_result"
    }
   ],
   "source": [
    "df.Consumption.isna().sum()"
   ]
  },
  {
   "cell_type": "code",
   "execution_count": 166,
   "metadata": {},
   "outputs": [],
   "source": [
    "df.fillna(method = \"ffill\", inplace = True)"
   ]
  },
  {
   "cell_type": "code",
   "execution_count": 167,
   "metadata": {},
   "outputs": [
    {
     "data": {
      "text/plain": [
       "0"
      ]
     },
     "execution_count": 167,
     "metadata": {},
     "output_type": "execute_result"
    }
   ],
   "source": [
    "df.Consumption.isna().sum()"
   ]
  },
  {
   "cell_type": "code",
   "execution_count": 168,
   "metadata": {},
   "outputs": [],
   "source": [
    "df.Consumption = pd.to_numeric(df[\"Consumption\"])"
   ]
  },
  {
   "cell_type": "code",
   "execution_count": 169,
   "metadata": {},
   "outputs": [],
   "source": [
    "df.fillna(method = \"ffill\", inplace = True)"
   ]
  },
  {
   "cell_type": "code",
   "execution_count": null,
   "metadata": {},
   "outputs": [],
   "source": []
  },
  {
   "cell_type": "code",
   "execution_count": 170,
   "metadata": {},
   "outputs": [
    {
     "data": {
      "text/html": [
       "<div>\n",
       "<style scoped>\n",
       "    .dataframe tbody tr th:only-of-type {\n",
       "        vertical-align: middle;\n",
       "    }\n",
       "\n",
       "    .dataframe tbody tr th {\n",
       "        vertical-align: top;\n",
       "    }\n",
       "\n",
       "    .dataframe thead th {\n",
       "        text-align: right;\n",
       "    }\n",
       "</style>\n",
       "<table border=\"1\" class=\"dataframe\">\n",
       "  <thead>\n",
       "    <tr style=\"text-align: right;\">\n",
       "      <th></th>\n",
       "      <th>make_model</th>\n",
       "      <th>short_description</th>\n",
       "      <th>body_type</th>\n",
       "      <th>price</th>\n",
       "      <th>vat</th>\n",
       "      <th>km</th>\n",
       "      <th>registration</th>\n",
       "      <th>prev_owner</th>\n",
       "      <th>hp</th>\n",
       "      <th>Type</th>\n",
       "      <th>...</th>\n",
       "      <th>Fuel</th>\n",
       "      <th>Consumption</th>\n",
       "      <th>Emission Class</th>\n",
       "      <th>Comfort &amp; Convenience</th>\n",
       "      <th>Entertainment &amp; Media</th>\n",
       "      <th>Extras</th>\n",
       "      <th>Safety &amp; Security</th>\n",
       "      <th>description</th>\n",
       "      <th>Gears</th>\n",
       "      <th>Country version</th>\n",
       "    </tr>\n",
       "  </thead>\n",
       "  <tbody>\n",
       "    <tr>\n",
       "      <th>0</th>\n",
       "      <td>Audi A1</td>\n",
       "      <td>Sportback 1.4 TDI S-tronic Xenon Navi Klima</td>\n",
       "      <td>Sedans</td>\n",
       "      <td>15770</td>\n",
       "      <td>VAT deductible</td>\n",
       "      <td>56013</td>\n",
       "      <td>2016</td>\n",
       "      <td>2 previous owners</td>\n",
       "      <td>66</td>\n",
       "      <td>Used</td>\n",
       "      <td>...</td>\n",
       "      <td>Diesel</td>\n",
       "      <td>3.8</td>\n",
       "      <td>[\\nEuro 6\\n]</td>\n",
       "      <td>[Air conditioning, Armrest, Automatic climate ...</td>\n",
       "      <td>[Bluetooth, Hands-free equipment, On-board com...</td>\n",
       "      <td>[Alloy wheels, Catalytic Converter, Voice Cont...</td>\n",
       "      <td>[ABS, Central door lock, Daytime running light...</td>\n",
       "      <td>[\\n, Sicherheit:,  , Deaktivierung für Beifahr...</td>\n",
       "      <td>NaN</td>\n",
       "      <td>NaN</td>\n",
       "    </tr>\n",
       "    <tr>\n",
       "      <th>1</th>\n",
       "      <td>Audi A1</td>\n",
       "      <td>1.8 TFSI sport</td>\n",
       "      <td>Sedans</td>\n",
       "      <td>14500</td>\n",
       "      <td>Price negotiable</td>\n",
       "      <td>80000</td>\n",
       "      <td>2017</td>\n",
       "      <td>2 previous owners</td>\n",
       "      <td>141</td>\n",
       "      <td>Used</td>\n",
       "      <td>...</td>\n",
       "      <td>Gasoline</td>\n",
       "      <td>5.6</td>\n",
       "      <td>[\\nEuro 6\\n]</td>\n",
       "      <td>[Air conditioning, Automatic climate control, ...</td>\n",
       "      <td>[Bluetooth, Hands-free equipment, On-board com...</td>\n",
       "      <td>[Alloy wheels, Sport seats, Sport suspension, ...</td>\n",
       "      <td>[ABS, Central door lock, Central door lock wit...</td>\n",
       "      <td>[\\nLangstreckenfahrzeug daher die hohe Kilomet...</td>\n",
       "      <td>[\\n7\\n]</td>\n",
       "      <td>NaN</td>\n",
       "    </tr>\n",
       "    <tr>\n",
       "      <th>2</th>\n",
       "      <td>Audi A1</td>\n",
       "      <td>Sportback 1.6 TDI S tronic Einparkhilfe plus+m...</td>\n",
       "      <td>Sedans</td>\n",
       "      <td>14640</td>\n",
       "      <td>VAT deductible</td>\n",
       "      <td>83450</td>\n",
       "      <td>2016</td>\n",
       "      <td>1 previous owner</td>\n",
       "      <td>85</td>\n",
       "      <td>Used</td>\n",
       "      <td>...</td>\n",
       "      <td>Diesel</td>\n",
       "      <td>3.8</td>\n",
       "      <td>[\\nEuro 6\\n]</td>\n",
       "      <td>[Air conditioning, Cruise control, Electrical ...</td>\n",
       "      <td>[MP3, On-board computer]</td>\n",
       "      <td>[Alloy wheels, Voice Control]</td>\n",
       "      <td>[ABS, Central door lock, Daytime running light...</td>\n",
       "      <td>[\\n, Fahrzeug-Nummer: AM-95365,  , Ehem. UPE 2...</td>\n",
       "      <td>[\\n7\\n]</td>\n",
       "      <td>NaN</td>\n",
       "    </tr>\n",
       "    <tr>\n",
       "      <th>3</th>\n",
       "      <td>Audi A1</td>\n",
       "      <td>1.4 TDi Design S tronic</td>\n",
       "      <td>Sedans</td>\n",
       "      <td>14500</td>\n",
       "      <td>VAT deductible</td>\n",
       "      <td>73000</td>\n",
       "      <td>2016</td>\n",
       "      <td>1 previous owner</td>\n",
       "      <td>66</td>\n",
       "      <td>Used</td>\n",
       "      <td>...</td>\n",
       "      <td>Diesel</td>\n",
       "      <td>3.8</td>\n",
       "      <td>[\\nEuro 6\\n]</td>\n",
       "      <td>[Air suspension, Armrest, Auxiliary heating, E...</td>\n",
       "      <td>[Bluetooth, CD player, Hands-free equipment, M...</td>\n",
       "      <td>[Alloy wheels, Sport seats, Voice Control]</td>\n",
       "      <td>[ABS, Alarm system, Central door lock with rem...</td>\n",
       "      <td>[\\nAudi A1: , - 1e eigenaar , - Perfecte staat...</td>\n",
       "      <td>[\\n6\\n]</td>\n",
       "      <td>NaN</td>\n",
       "    </tr>\n",
       "    <tr>\n",
       "      <th>4</th>\n",
       "      <td>Audi A1</td>\n",
       "      <td>Sportback 1.4 TDI S-Tronic S-Line Ext. admired...</td>\n",
       "      <td>Sedans</td>\n",
       "      <td>16790</td>\n",
       "      <td>VAT deductible</td>\n",
       "      <td>16200</td>\n",
       "      <td>2016</td>\n",
       "      <td>1 previous owner</td>\n",
       "      <td>66</td>\n",
       "      <td>Used</td>\n",
       "      <td>...</td>\n",
       "      <td>Diesel</td>\n",
       "      <td>4.0</td>\n",
       "      <td>[\\nEuro 6\\n]</td>\n",
       "      <td>[Air conditioning, Armrest, Automatic climate ...</td>\n",
       "      <td>[Bluetooth, CD player, Hands-free equipment, M...</td>\n",
       "      <td>[Alloy wheels, Sport package, Sport suspension...</td>\n",
       "      <td>[ABS, Central door lock, Driver-side airbag, E...</td>\n",
       "      <td>[\\n, Technik &amp; Sicherheit:, Xenon plus, Klimaa...</td>\n",
       "      <td>[\\n6\\n]</td>\n",
       "      <td>[\\nGermany\\n]</td>\n",
       "    </tr>\n",
       "  </tbody>\n",
       "</table>\n",
       "<p>5 rows × 35 columns</p>\n",
       "</div>"
      ],
      "text/plain": [
       "  make_model                                  short_description body_type  \\\n",
       "0    Audi A1        Sportback 1.4 TDI S-tronic Xenon Navi Klima    Sedans   \n",
       "1    Audi A1                                     1.8 TFSI sport    Sedans   \n",
       "2    Audi A1  Sportback 1.6 TDI S tronic Einparkhilfe plus+m...    Sedans   \n",
       "3    Audi A1                            1.4 TDi Design S tronic    Sedans   \n",
       "4    Audi A1  Sportback 1.4 TDI S-Tronic S-Line Ext. admired...    Sedans   \n",
       "\n",
       "   price               vat     km  registration         prev_owner   hp  Type  \\\n",
       "0  15770    VAT deductible  56013          2016  2 previous owners   66  Used   \n",
       "1  14500  Price negotiable  80000          2017  2 previous owners  141  Used   \n",
       "2  14640    VAT deductible  83450          2016   1 previous owner   85  Used   \n",
       "3  14500    VAT deductible  73000          2016   1 previous owner   66  Used   \n",
       "4  16790    VAT deductible  16200          2016   1 previous owner   66  Used   \n",
       "\n",
       "   ...      Fuel Consumption Emission Class  \\\n",
       "0  ...    Diesel         3.8   [\\nEuro 6\\n]   \n",
       "1  ...  Gasoline         5.6   [\\nEuro 6\\n]   \n",
       "2  ...    Diesel         3.8   [\\nEuro 6\\n]   \n",
       "3  ...    Diesel         3.8   [\\nEuro 6\\n]   \n",
       "4  ...    Diesel         4.0   [\\nEuro 6\\n]   \n",
       "\n",
       "                               Comfort & Convenience  \\\n",
       "0  [Air conditioning, Armrest, Automatic climate ...   \n",
       "1  [Air conditioning, Automatic climate control, ...   \n",
       "2  [Air conditioning, Cruise control, Electrical ...   \n",
       "3  [Air suspension, Armrest, Auxiliary heating, E...   \n",
       "4  [Air conditioning, Armrest, Automatic climate ...   \n",
       "\n",
       "                               Entertainment & Media  \\\n",
       "0  [Bluetooth, Hands-free equipment, On-board com...   \n",
       "1  [Bluetooth, Hands-free equipment, On-board com...   \n",
       "2                           [MP3, On-board computer]   \n",
       "3  [Bluetooth, CD player, Hands-free equipment, M...   \n",
       "4  [Bluetooth, CD player, Hands-free equipment, M...   \n",
       "\n",
       "                                              Extras  \\\n",
       "0  [Alloy wheels, Catalytic Converter, Voice Cont...   \n",
       "1  [Alloy wheels, Sport seats, Sport suspension, ...   \n",
       "2                      [Alloy wheels, Voice Control]   \n",
       "3         [Alloy wheels, Sport seats, Voice Control]   \n",
       "4  [Alloy wheels, Sport package, Sport suspension...   \n",
       "\n",
       "                                   Safety & Security  \\\n",
       "0  [ABS, Central door lock, Daytime running light...   \n",
       "1  [ABS, Central door lock, Central door lock wit...   \n",
       "2  [ABS, Central door lock, Daytime running light...   \n",
       "3  [ABS, Alarm system, Central door lock with rem...   \n",
       "4  [ABS, Central door lock, Driver-side airbag, E...   \n",
       "\n",
       "                                         description    Gears Country version  \n",
       "0  [\\n, Sicherheit:,  , Deaktivierung für Beifahr...      NaN             NaN  \n",
       "1  [\\nLangstreckenfahrzeug daher die hohe Kilomet...  [\\n7\\n]             NaN  \n",
       "2  [\\n, Fahrzeug-Nummer: AM-95365,  , Ehem. UPE 2...  [\\n7\\n]             NaN  \n",
       "3  [\\nAudi A1: , - 1e eigenaar , - Perfecte staat...  [\\n6\\n]             NaN  \n",
       "4  [\\n, Technik & Sicherheit:, Xenon plus, Klimaa...  [\\n6\\n]   [\\nGermany\\n]  \n",
       "\n",
       "[5 rows x 35 columns]"
      ]
     },
     "execution_count": 170,
     "metadata": {},
     "output_type": "execute_result"
    }
   ],
   "source": [
    "df.head()"
   ]
  },
  {
   "cell_type": "code",
   "execution_count": null,
   "metadata": {},
   "outputs": [],
   "source": []
  },
  {
   "cell_type": "code",
   "execution_count": 171,
   "metadata": {},
   "outputs": [],
   "source": [
    "#df = pd.read_csv(\"scout_copy.csv\", index_col = 0 )"
   ]
  },
  {
   "cell_type": "code",
   "execution_count": 172,
   "metadata": {},
   "outputs": [],
   "source": [
    "#df.to_csv(\"scout_copy.csv\")"
   ]
  },
  {
   "cell_type": "code",
   "execution_count": 173,
   "metadata": {},
   "outputs": [
    {
     "ename": "KeyError",
     "evalue": "'Previous Owners'",
     "output_type": "error",
     "traceback": [
      "\u001b[1;31m---------------------------------------------------------------------------\u001b[0m",
      "\u001b[1;31mKeyError\u001b[0m                                  Traceback (most recent call last)",
      "\u001b[1;32m~\\anaconda3\\lib\\site-packages\\pandas\\core\\indexes\\base.py\u001b[0m in \u001b[0;36mget_loc\u001b[1;34m(self, key, method, tolerance)\u001b[0m\n\u001b[0;32m   3079\u001b[0m             \u001b[1;32mtry\u001b[0m\u001b[1;33m:\u001b[0m\u001b[1;33m\u001b[0m\u001b[1;33m\u001b[0m\u001b[0m\n\u001b[1;32m-> 3080\u001b[1;33m                 \u001b[1;32mreturn\u001b[0m \u001b[0mself\u001b[0m\u001b[1;33m.\u001b[0m\u001b[0m_engine\u001b[0m\u001b[1;33m.\u001b[0m\u001b[0mget_loc\u001b[0m\u001b[1;33m(\u001b[0m\u001b[0mcasted_key\u001b[0m\u001b[1;33m)\u001b[0m\u001b[1;33m\u001b[0m\u001b[1;33m\u001b[0m\u001b[0m\n\u001b[0m\u001b[0;32m   3081\u001b[0m             \u001b[1;32mexcept\u001b[0m \u001b[0mKeyError\u001b[0m \u001b[1;32mas\u001b[0m \u001b[0merr\u001b[0m\u001b[1;33m:\u001b[0m\u001b[1;33m\u001b[0m\u001b[1;33m\u001b[0m\u001b[0m\n",
      "\u001b[1;32mpandas\\_libs\\index.pyx\u001b[0m in \u001b[0;36mpandas._libs.index.IndexEngine.get_loc\u001b[1;34m()\u001b[0m\n",
      "\u001b[1;32mpandas\\_libs\\index.pyx\u001b[0m in \u001b[0;36mpandas._libs.index.IndexEngine.get_loc\u001b[1;34m()\u001b[0m\n",
      "\u001b[1;32mpandas\\_libs\\hashtable_class_helper.pxi\u001b[0m in \u001b[0;36mpandas._libs.hashtable.PyObjectHashTable.get_item\u001b[1;34m()\u001b[0m\n",
      "\u001b[1;32mpandas\\_libs\\hashtable_class_helper.pxi\u001b[0m in \u001b[0;36mpandas._libs.hashtable.PyObjectHashTable.get_item\u001b[1;34m()\u001b[0m\n",
      "\u001b[1;31mKeyError\u001b[0m: 'Previous Owners'",
      "\nThe above exception was the direct cause of the following exception:\n",
      "\u001b[1;31mKeyError\u001b[0m                                  Traceback (most recent call last)",
      "\u001b[1;32m<ipython-input-173-84eb9f67e877>\u001b[0m in \u001b[0;36m<module>\u001b[1;34m\u001b[0m\n\u001b[1;32m----> 1\u001b[1;33m \u001b[0mdf\u001b[0m\u001b[1;33m[\u001b[0m\u001b[1;34m'Previous Owners'\u001b[0m\u001b[1;33m]\u001b[0m\u001b[1;33m\u001b[0m\u001b[1;33m\u001b[0m\u001b[0m\n\u001b[0m",
      "\u001b[1;32m~\\anaconda3\\lib\\site-packages\\pandas\\core\\frame.py\u001b[0m in \u001b[0;36m__getitem__\u001b[1;34m(self, key)\u001b[0m\n\u001b[0;32m   3022\u001b[0m             \u001b[1;32mif\u001b[0m \u001b[0mself\u001b[0m\u001b[1;33m.\u001b[0m\u001b[0mcolumns\u001b[0m\u001b[1;33m.\u001b[0m\u001b[0mnlevels\u001b[0m \u001b[1;33m>\u001b[0m \u001b[1;36m1\u001b[0m\u001b[1;33m:\u001b[0m\u001b[1;33m\u001b[0m\u001b[1;33m\u001b[0m\u001b[0m\n\u001b[0;32m   3023\u001b[0m                 \u001b[1;32mreturn\u001b[0m \u001b[0mself\u001b[0m\u001b[1;33m.\u001b[0m\u001b[0m_getitem_multilevel\u001b[0m\u001b[1;33m(\u001b[0m\u001b[0mkey\u001b[0m\u001b[1;33m)\u001b[0m\u001b[1;33m\u001b[0m\u001b[1;33m\u001b[0m\u001b[0m\n\u001b[1;32m-> 3024\u001b[1;33m             \u001b[0mindexer\u001b[0m \u001b[1;33m=\u001b[0m \u001b[0mself\u001b[0m\u001b[1;33m.\u001b[0m\u001b[0mcolumns\u001b[0m\u001b[1;33m.\u001b[0m\u001b[0mget_loc\u001b[0m\u001b[1;33m(\u001b[0m\u001b[0mkey\u001b[0m\u001b[1;33m)\u001b[0m\u001b[1;33m\u001b[0m\u001b[1;33m\u001b[0m\u001b[0m\n\u001b[0m\u001b[0;32m   3025\u001b[0m             \u001b[1;32mif\u001b[0m \u001b[0mis_integer\u001b[0m\u001b[1;33m(\u001b[0m\u001b[0mindexer\u001b[0m\u001b[1;33m)\u001b[0m\u001b[1;33m:\u001b[0m\u001b[1;33m\u001b[0m\u001b[1;33m\u001b[0m\u001b[0m\n\u001b[0;32m   3026\u001b[0m                 \u001b[0mindexer\u001b[0m \u001b[1;33m=\u001b[0m \u001b[1;33m[\u001b[0m\u001b[0mindexer\u001b[0m\u001b[1;33m]\u001b[0m\u001b[1;33m\u001b[0m\u001b[1;33m\u001b[0m\u001b[0m\n",
      "\u001b[1;32m~\\anaconda3\\lib\\site-packages\\pandas\\core\\indexes\\base.py\u001b[0m in \u001b[0;36mget_loc\u001b[1;34m(self, key, method, tolerance)\u001b[0m\n\u001b[0;32m   3080\u001b[0m                 \u001b[1;32mreturn\u001b[0m \u001b[0mself\u001b[0m\u001b[1;33m.\u001b[0m\u001b[0m_engine\u001b[0m\u001b[1;33m.\u001b[0m\u001b[0mget_loc\u001b[0m\u001b[1;33m(\u001b[0m\u001b[0mcasted_key\u001b[0m\u001b[1;33m)\u001b[0m\u001b[1;33m\u001b[0m\u001b[1;33m\u001b[0m\u001b[0m\n\u001b[0;32m   3081\u001b[0m             \u001b[1;32mexcept\u001b[0m \u001b[0mKeyError\u001b[0m \u001b[1;32mas\u001b[0m \u001b[0merr\u001b[0m\u001b[1;33m:\u001b[0m\u001b[1;33m\u001b[0m\u001b[1;33m\u001b[0m\u001b[0m\n\u001b[1;32m-> 3082\u001b[1;33m                 \u001b[1;32mraise\u001b[0m \u001b[0mKeyError\u001b[0m\u001b[1;33m(\u001b[0m\u001b[0mkey\u001b[0m\u001b[1;33m)\u001b[0m \u001b[1;32mfrom\u001b[0m \u001b[0merr\u001b[0m\u001b[1;33m\u001b[0m\u001b[1;33m\u001b[0m\u001b[0m\n\u001b[0m\u001b[0;32m   3083\u001b[0m \u001b[1;33m\u001b[0m\u001b[0m\n\u001b[0;32m   3084\u001b[0m         \u001b[1;32mif\u001b[0m \u001b[0mtolerance\u001b[0m \u001b[1;32mis\u001b[0m \u001b[1;32mnot\u001b[0m \u001b[1;32mNone\u001b[0m\u001b[1;33m:\u001b[0m\u001b[1;33m\u001b[0m\u001b[1;33m\u001b[0m\u001b[0m\n",
      "\u001b[1;31mKeyError\u001b[0m: 'Previous Owners'"
     ]
    }
   ],
   "source": [
    "df['Previous Owners']"
   ]
  },
  {
   "cell_type": "code",
   "execution_count": null,
   "metadata": {},
   "outputs": [],
   "source": []
  },
  {
   "cell_type": "code",
   "execution_count": null,
   "metadata": {},
   "outputs": [],
   "source": []
  },
  {
   "cell_type": "code",
   "execution_count": null,
   "metadata": {},
   "outputs": [],
   "source": []
  },
  {
   "cell_type": "code",
   "execution_count": null,
   "metadata": {},
   "outputs": [],
   "source": []
  },
  {
   "cell_type": "code",
   "execution_count": null,
   "metadata": {},
   "outputs": [],
   "source": []
  },
  {
   "cell_type": "code",
   "execution_count": null,
   "metadata": {},
   "outputs": [],
   "source": []
  }
 ],
 "metadata": {
  "kernelspec": {
   "display_name": "Python 3",
   "language": "python",
   "name": "python3"
  },
  "language_info": {
   "codemirror_mode": {
    "name": "ipython",
    "version": 3
   },
   "file_extension": ".py",
   "mimetype": "text/x-python",
   "name": "python",
   "nbconvert_exporter": "python",
   "pygments_lexer": "ipython3",
   "version": "3.8.8"
  },
  "widgets": {
   "application/vnd.jupyter.widget-state+json": {
    "state": {},
    "version_major": 2,
    "version_minor": 0
   }
  }
 },
 "nbformat": 4,
 "nbformat_minor": 4
}
